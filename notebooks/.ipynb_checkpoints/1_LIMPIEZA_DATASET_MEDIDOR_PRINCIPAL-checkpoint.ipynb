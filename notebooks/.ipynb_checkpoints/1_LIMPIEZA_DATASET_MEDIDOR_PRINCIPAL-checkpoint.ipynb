{
 "cells": [
  {
   "cell_type": "markdown",
   "id": "dedicated-signature",
   "metadata": {},
   "source": [
    "# Limpieza de Dataset Consumos Medidor Principal"
   ]
  },
  {
   "cell_type": "code",
   "execution_count": null,
   "id": "integral-material",
   "metadata": {},
   "outputs": [],
   "source": []
  },
  {
   "cell_type": "code",
   "execution_count": 1,
   "id": "animal-overall",
   "metadata": {},
   "outputs": [],
   "source": [
    "import pandas as pd\n",
    "import numpy as np\n",
    "import os"
   ]
  },
  {
   "cell_type": "code",
   "execution_count": 2,
   "id": "916afcbc",
   "metadata": {},
   "outputs": [],
   "source": [
    "ruta = './data/Raw/medidor_principal_1138124/2017/'"
   ]
  },
  {
   "cell_type": "code",
   "execution_count": 4,
   "id": "092c954b",
   "metadata": {},
   "outputs": [],
   "source": [
    "test = pd.read_excel(ruta+'1.xlsx', engine='openpyxl', skiprows=2)"
   ]
  },
  {
   "cell_type": "code",
   "execution_count": 148,
   "id": "e27c458f",
   "metadata": {},
   "outputs": [
    {
     "data": {
      "text/html": [
       "<div>\n",
       "<style scoped>\n",
       "    .dataframe tbody tr th:only-of-type {\n",
       "        vertical-align: middle;\n",
       "    }\n",
       "\n",
       "    .dataframe tbody tr th {\n",
       "        vertical-align: top;\n",
       "    }\n",
       "\n",
       "    .dataframe thead th {\n",
       "        text-align: right;\n",
       "    }\n",
       "</style>\n",
       "<table border=\"1\" class=\"dataframe\">\n",
       "  <thead>\n",
       "    <tr style=\"text-align: right;\">\n",
       "      <th></th>\n",
       "      <th>Unnamed: 0</th>\n",
       "      <th>ENERGIA ACTIVA</th>\n",
       "      <th>ENERGIA ACTIVA SIN FACTOR</th>\n",
       "      <th>ENERGIA REACTIVA</th>\n",
       "      <th>ENERGIA REACTIVA SIN FACTOR</th>\n",
       "      <th>DEMANDA ACTIVA</th>\n",
       "      <th>DEMANDA REACTIVA</th>\n",
       "    </tr>\n",
       "  </thead>\n",
       "  <tbody>\n",
       "    <tr>\n",
       "      <th>0</th>\n",
       "      <td>2017-01-01 00:00:00</td>\n",
       "      <td>205.8</td>\n",
       "      <td>0.049</td>\n",
       "      <td>92.4</td>\n",
       "      <td>0.022</td>\n",
       "      <td>823.2</td>\n",
       "      <td>369.6</td>\n",
       "    </tr>\n",
       "    <tr>\n",
       "      <th>1</th>\n",
       "      <td>2017-01-01 00:15:00</td>\n",
       "      <td>205.8</td>\n",
       "      <td>0.049</td>\n",
       "      <td>88.2</td>\n",
       "      <td>0.021</td>\n",
       "      <td>823.2</td>\n",
       "      <td>352.8</td>\n",
       "    </tr>\n",
       "    <tr>\n",
       "      <th>2</th>\n",
       "      <td>2017-01-01 00:30:00</td>\n",
       "      <td>210.0</td>\n",
       "      <td>0.050</td>\n",
       "      <td>88.2</td>\n",
       "      <td>0.021</td>\n",
       "      <td>840.0</td>\n",
       "      <td>352.8</td>\n",
       "    </tr>\n",
       "    <tr>\n",
       "      <th>3</th>\n",
       "      <td>2017-01-01 00:45:00</td>\n",
       "      <td>205.8</td>\n",
       "      <td>0.049</td>\n",
       "      <td>84.0</td>\n",
       "      <td>0.020</td>\n",
       "      <td>823.2</td>\n",
       "      <td>336.0</td>\n",
       "    </tr>\n",
       "    <tr>\n",
       "      <th>4</th>\n",
       "      <td>2017-01-01 01:00:00</td>\n",
       "      <td>205.8</td>\n",
       "      <td>0.049</td>\n",
       "      <td>84.0</td>\n",
       "      <td>0.020</td>\n",
       "      <td>823.2</td>\n",
       "      <td>336.0</td>\n",
       "    </tr>\n",
       "  </tbody>\n",
       "</table>\n",
       "</div>"
      ],
      "text/plain": [
       "           Unnamed: 0  ENERGIA ACTIVA  ENERGIA ACTIVA SIN FACTOR  \\\n",
       "0 2017-01-01 00:00:00           205.8                      0.049   \n",
       "1 2017-01-01 00:15:00           205.8                      0.049   \n",
       "2 2017-01-01 00:30:00           210.0                      0.050   \n",
       "3 2017-01-01 00:45:00           205.8                      0.049   \n",
       "4 2017-01-01 01:00:00           205.8                      0.049   \n",
       "\n",
       "   ENERGIA REACTIVA  ENERGIA REACTIVA SIN FACTOR  DEMANDA ACTIVA  \\\n",
       "0              92.4                        0.022           823.2   \n",
       "1              88.2                        0.021           823.2   \n",
       "2              88.2                        0.021           840.0   \n",
       "3              84.0                        0.020           823.2   \n",
       "4              84.0                        0.020           823.2   \n",
       "\n",
       "   DEMANDA REACTIVA  \n",
       "0             369.6  \n",
       "1             352.8  \n",
       "2             352.8  \n",
       "3             336.0  \n",
       "4             336.0  "
      ]
     },
     "execution_count": 148,
     "metadata": {},
     "output_type": "execute_result"
    }
   ],
   "source": [
    "test.head()"
   ]
  },
  {
   "cell_type": "code",
   "execution_count": 149,
   "id": "cellular-warrior",
   "metadata": {},
   "outputs": [],
   "source": [
    "df1 = pd.read_excel(ruta+'1.xlsx', engine='openpyxl', skiprows=2)"
   ]
  },
  {
   "cell_type": "code",
   "execution_count": 150,
   "id": "grave-station",
   "metadata": {},
   "outputs": [
    {
     "data": {
      "text/html": [
       "<div>\n",
       "<style scoped>\n",
       "    .dataframe tbody tr th:only-of-type {\n",
       "        vertical-align: middle;\n",
       "    }\n",
       "\n",
       "    .dataframe tbody tr th {\n",
       "        vertical-align: top;\n",
       "    }\n",
       "\n",
       "    .dataframe thead th {\n",
       "        text-align: right;\n",
       "    }\n",
       "</style>\n",
       "<table border=\"1\" class=\"dataframe\">\n",
       "  <thead>\n",
       "    <tr style=\"text-align: right;\">\n",
       "      <th></th>\n",
       "      <th>Unnamed: 0</th>\n",
       "      <th>ENERGIA ACTIVA</th>\n",
       "      <th>ENERGIA ACTIVA SIN FACTOR</th>\n",
       "      <th>ENERGIA REACTIVA</th>\n",
       "      <th>ENERGIA REACTIVA SIN FACTOR</th>\n",
       "      <th>DEMANDA ACTIVA</th>\n",
       "      <th>DEMANDA REACTIVA</th>\n",
       "    </tr>\n",
       "  </thead>\n",
       "  <tbody>\n",
       "    <tr>\n",
       "      <th>0</th>\n",
       "      <td>2017-01-01 00:00:00</td>\n",
       "      <td>205.8</td>\n",
       "      <td>0.049</td>\n",
       "      <td>92.4</td>\n",
       "      <td>0.022</td>\n",
       "      <td>823.2</td>\n",
       "      <td>369.6</td>\n",
       "    </tr>\n",
       "    <tr>\n",
       "      <th>1</th>\n",
       "      <td>2017-01-01 00:15:00</td>\n",
       "      <td>205.8</td>\n",
       "      <td>0.049</td>\n",
       "      <td>88.2</td>\n",
       "      <td>0.021</td>\n",
       "      <td>823.2</td>\n",
       "      <td>352.8</td>\n",
       "    </tr>\n",
       "    <tr>\n",
       "      <th>2</th>\n",
       "      <td>2017-01-01 00:30:00</td>\n",
       "      <td>210.0</td>\n",
       "      <td>0.050</td>\n",
       "      <td>88.2</td>\n",
       "      <td>0.021</td>\n",
       "      <td>840.0</td>\n",
       "      <td>352.8</td>\n",
       "    </tr>\n",
       "    <tr>\n",
       "      <th>3</th>\n",
       "      <td>2017-01-01 00:45:00</td>\n",
       "      <td>205.8</td>\n",
       "      <td>0.049</td>\n",
       "      <td>84.0</td>\n",
       "      <td>0.020</td>\n",
       "      <td>823.2</td>\n",
       "      <td>336.0</td>\n",
       "    </tr>\n",
       "    <tr>\n",
       "      <th>4</th>\n",
       "      <td>2017-01-01 01:00:00</td>\n",
       "      <td>205.8</td>\n",
       "      <td>0.049</td>\n",
       "      <td>84.0</td>\n",
       "      <td>0.020</td>\n",
       "      <td>823.2</td>\n",
       "      <td>336.0</td>\n",
       "    </tr>\n",
       "  </tbody>\n",
       "</table>\n",
       "</div>"
      ],
      "text/plain": [
       "           Unnamed: 0  ENERGIA ACTIVA  ENERGIA ACTIVA SIN FACTOR  \\\n",
       "0 2017-01-01 00:00:00           205.8                      0.049   \n",
       "1 2017-01-01 00:15:00           205.8                      0.049   \n",
       "2 2017-01-01 00:30:00           210.0                      0.050   \n",
       "3 2017-01-01 00:45:00           205.8                      0.049   \n",
       "4 2017-01-01 01:00:00           205.8                      0.049   \n",
       "\n",
       "   ENERGIA REACTIVA  ENERGIA REACTIVA SIN FACTOR  DEMANDA ACTIVA  \\\n",
       "0              92.4                        0.022           823.2   \n",
       "1              88.2                        0.021           823.2   \n",
       "2              88.2                        0.021           840.0   \n",
       "3              84.0                        0.020           823.2   \n",
       "4              84.0                        0.020           823.2   \n",
       "\n",
       "   DEMANDA REACTIVA  \n",
       "0             369.6  \n",
       "1             352.8  \n",
       "2             352.8  \n",
       "3             336.0  \n",
       "4             336.0  "
      ]
     },
     "execution_count": 150,
     "metadata": {},
     "output_type": "execute_result"
    }
   ],
   "source": [
    "df1.head()"
   ]
  },
  {
   "cell_type": "code",
   "execution_count": 151,
   "id": "rocky-florist",
   "metadata": {},
   "outputs": [],
   "source": [
    "df2 = pd.read_excel(ruta+'2.xlsx', engine='openpyxl', skiprows=2)"
   ]
  },
  {
   "cell_type": "code",
   "execution_count": 152,
   "id": "direct-davis",
   "metadata": {},
   "outputs": [
    {
     "data": {
      "text/html": [
       "<div>\n",
       "<style scoped>\n",
       "    .dataframe tbody tr th:only-of-type {\n",
       "        vertical-align: middle;\n",
       "    }\n",
       "\n",
       "    .dataframe tbody tr th {\n",
       "        vertical-align: top;\n",
       "    }\n",
       "\n",
       "    .dataframe thead th {\n",
       "        text-align: right;\n",
       "    }\n",
       "</style>\n",
       "<table border=\"1\" class=\"dataframe\">\n",
       "  <thead>\n",
       "    <tr style=\"text-align: right;\">\n",
       "      <th></th>\n",
       "      <th>Unnamed: 0</th>\n",
       "      <th>ENERGIA ACTIVA</th>\n",
       "      <th>ENERGIA ACTIVA SIN FACTOR</th>\n",
       "      <th>ENERGIA REACTIVA</th>\n",
       "      <th>ENERGIA REACTIVA SIN FACTOR</th>\n",
       "      <th>DEMANDA ACTIVA</th>\n",
       "      <th>DEMANDA REACTIVA</th>\n",
       "    </tr>\n",
       "  </thead>\n",
       "  <tbody>\n",
       "    <tr>\n",
       "      <th>0</th>\n",
       "      <td>2017-02-01 00:00:00</td>\n",
       "      <td>218.4</td>\n",
       "      <td>0.052</td>\n",
       "      <td>96.6</td>\n",
       "      <td>0.023</td>\n",
       "      <td>873.6</td>\n",
       "      <td>386.4</td>\n",
       "    </tr>\n",
       "    <tr>\n",
       "      <th>1</th>\n",
       "      <td>2017-02-01 00:15:00</td>\n",
       "      <td>222.6</td>\n",
       "      <td>0.053</td>\n",
       "      <td>100.8</td>\n",
       "      <td>0.024</td>\n",
       "      <td>890.4</td>\n",
       "      <td>403.2</td>\n",
       "    </tr>\n",
       "    <tr>\n",
       "      <th>2</th>\n",
       "      <td>2017-02-01 00:30:00</td>\n",
       "      <td>218.4</td>\n",
       "      <td>0.052</td>\n",
       "      <td>79.8</td>\n",
       "      <td>0.019</td>\n",
       "      <td>873.6</td>\n",
       "      <td>319.2</td>\n",
       "    </tr>\n",
       "    <tr>\n",
       "      <th>3</th>\n",
       "      <td>2017-02-01 00:45:00</td>\n",
       "      <td>214.2</td>\n",
       "      <td>0.051</td>\n",
       "      <td>84.0</td>\n",
       "      <td>0.020</td>\n",
       "      <td>856.8</td>\n",
       "      <td>336.0</td>\n",
       "    </tr>\n",
       "    <tr>\n",
       "      <th>4</th>\n",
       "      <td>2017-02-01 01:00:00</td>\n",
       "      <td>214.2</td>\n",
       "      <td>0.051</td>\n",
       "      <td>79.8</td>\n",
       "      <td>0.019</td>\n",
       "      <td>856.8</td>\n",
       "      <td>319.2</td>\n",
       "    </tr>\n",
       "  </tbody>\n",
       "</table>\n",
       "</div>"
      ],
      "text/plain": [
       "           Unnamed: 0  ENERGIA ACTIVA  ENERGIA ACTIVA SIN FACTOR  \\\n",
       "0 2017-02-01 00:00:00           218.4                      0.052   \n",
       "1 2017-02-01 00:15:00           222.6                      0.053   \n",
       "2 2017-02-01 00:30:00           218.4                      0.052   \n",
       "3 2017-02-01 00:45:00           214.2                      0.051   \n",
       "4 2017-02-01 01:00:00           214.2                      0.051   \n",
       "\n",
       "   ENERGIA REACTIVA  ENERGIA REACTIVA SIN FACTOR  DEMANDA ACTIVA  \\\n",
       "0              96.6                        0.023           873.6   \n",
       "1             100.8                        0.024           890.4   \n",
       "2              79.8                        0.019           873.6   \n",
       "3              84.0                        0.020           856.8   \n",
       "4              79.8                        0.019           856.8   \n",
       "\n",
       "   DEMANDA REACTIVA  \n",
       "0             386.4  \n",
       "1             403.2  \n",
       "2             319.2  \n",
       "3             336.0  \n",
       "4             319.2  "
      ]
     },
     "execution_count": 152,
     "metadata": {},
     "output_type": "execute_result"
    }
   ],
   "source": [
    "df2.head()"
   ]
  },
  {
   "cell_type": "code",
   "execution_count": null,
   "id": "narrative-consequence",
   "metadata": {},
   "outputs": [],
   "source": []
  },
  {
   "cell_type": "code",
   "execution_count": 153,
   "id": "boring-suffering",
   "metadata": {},
   "outputs": [],
   "source": [
    "df3 = pd.read_excel(ruta+'3.xlsx', engine='openpyxl', skiprows=2)"
   ]
  },
  {
   "cell_type": "code",
   "execution_count": 154,
   "id": "derived-bidder",
   "metadata": {},
   "outputs": [],
   "source": [
    "df4 = pd.read_excel(ruta+'4.xlsx', engine='openpyxl', skiprows=2)"
   ]
  },
  {
   "cell_type": "code",
   "execution_count": 155,
   "id": "cutting-parker",
   "metadata": {},
   "outputs": [],
   "source": [
    "df5 = pd.read_excel(ruta+'5.xlsx', engine='openpyxl', skiprows=2)"
   ]
  },
  {
   "cell_type": "code",
   "execution_count": 156,
   "id": "noted-filing",
   "metadata": {},
   "outputs": [],
   "source": [
    "df6 = pd.read_excel(ruta+'6.xlsx', engine='openpyxl', skiprows=2)"
   ]
  },
  {
   "cell_type": "code",
   "execution_count": 157,
   "id": "crazy-jason",
   "metadata": {},
   "outputs": [],
   "source": [
    "df7 = pd.read_excel(ruta+'7.xlsx', engine='openpyxl', skiprows=2)"
   ]
  },
  {
   "cell_type": "code",
   "execution_count": 158,
   "id": "fiscal-weight",
   "metadata": {},
   "outputs": [],
   "source": [
    "df8 = pd.read_excel(ruta+'8.xlsx', engine='openpyxl', skiprows=2)"
   ]
  },
  {
   "cell_type": "code",
   "execution_count": 159,
   "id": "excited-township",
   "metadata": {},
   "outputs": [],
   "source": [
    "df9 = pd.read_excel(ruta+'9.xlsx', engine='openpyxl', skiprows=2)"
   ]
  },
  {
   "cell_type": "code",
   "execution_count": 160,
   "id": "usual-aruba",
   "metadata": {},
   "outputs": [],
   "source": [
    "df10 = pd.read_excel(ruta+'10.xlsx', engine='openpyxl', skiprows=2)"
   ]
  },
  {
   "cell_type": "code",
   "execution_count": 161,
   "id": "alive-legislation",
   "metadata": {},
   "outputs": [],
   "source": [
    "df11 = pd.read_excel(ruta+'11.xlsx', engine='openpyxl', skiprows=2)"
   ]
  },
  {
   "cell_type": "code",
   "execution_count": 162,
   "id": "adjacent-journalism",
   "metadata": {},
   "outputs": [],
   "source": [
    "df12 = pd.read_excel(ruta+'12.xlsx', engine='openpyxl', skiprows=2)"
   ]
  },
  {
   "cell_type": "code",
   "execution_count": 163,
   "id": "described-lighter",
   "metadata": {},
   "outputs": [],
   "source": [
    "df = pd.concat([df1,df2,df3,df4,df5,df6,df7,df8,df9,df10,df11,df12])"
   ]
  },
  {
   "cell_type": "code",
   "execution_count": 164,
   "id": "numerical-ethiopia",
   "metadata": {},
   "outputs": [
    {
     "data": {
      "text/html": [
       "<div>\n",
       "<style scoped>\n",
       "    .dataframe tbody tr th:only-of-type {\n",
       "        vertical-align: middle;\n",
       "    }\n",
       "\n",
       "    .dataframe tbody tr th {\n",
       "        vertical-align: top;\n",
       "    }\n",
       "\n",
       "    .dataframe thead th {\n",
       "        text-align: right;\n",
       "    }\n",
       "</style>\n",
       "<table border=\"1\" class=\"dataframe\">\n",
       "  <thead>\n",
       "    <tr style=\"text-align: right;\">\n",
       "      <th></th>\n",
       "      <th>Unnamed: 0</th>\n",
       "      <th>ENERGIA ACTIVA</th>\n",
       "      <th>ENERGIA ACTIVA SIN FACTOR</th>\n",
       "      <th>ENERGIA REACTIVA</th>\n",
       "      <th>ENERGIA REACTIVA SIN FACTOR</th>\n",
       "      <th>DEMANDA ACTIVA</th>\n",
       "      <th>DEMANDA REACTIVA</th>\n",
       "    </tr>\n",
       "  </thead>\n",
       "  <tbody>\n",
       "    <tr>\n",
       "      <th>0</th>\n",
       "      <td>2017-01-01 00:00:00</td>\n",
       "      <td>205.8</td>\n",
       "      <td>0.049</td>\n",
       "      <td>92.4</td>\n",
       "      <td>0.022</td>\n",
       "      <td>823.2</td>\n",
       "      <td>369.6</td>\n",
       "    </tr>\n",
       "    <tr>\n",
       "      <th>1</th>\n",
       "      <td>2017-01-01 00:15:00</td>\n",
       "      <td>205.8</td>\n",
       "      <td>0.049</td>\n",
       "      <td>88.2</td>\n",
       "      <td>0.021</td>\n",
       "      <td>823.2</td>\n",
       "      <td>352.8</td>\n",
       "    </tr>\n",
       "    <tr>\n",
       "      <th>2</th>\n",
       "      <td>2017-01-01 00:30:00</td>\n",
       "      <td>210.0</td>\n",
       "      <td>0.050</td>\n",
       "      <td>88.2</td>\n",
       "      <td>0.021</td>\n",
       "      <td>840.0</td>\n",
       "      <td>352.8</td>\n",
       "    </tr>\n",
       "    <tr>\n",
       "      <th>3</th>\n",
       "      <td>2017-01-01 00:45:00</td>\n",
       "      <td>205.8</td>\n",
       "      <td>0.049</td>\n",
       "      <td>84.0</td>\n",
       "      <td>0.020</td>\n",
       "      <td>823.2</td>\n",
       "      <td>336.0</td>\n",
       "    </tr>\n",
       "    <tr>\n",
       "      <th>4</th>\n",
       "      <td>2017-01-01 01:00:00</td>\n",
       "      <td>205.8</td>\n",
       "      <td>0.049</td>\n",
       "      <td>84.0</td>\n",
       "      <td>0.020</td>\n",
       "      <td>823.2</td>\n",
       "      <td>336.0</td>\n",
       "    </tr>\n",
       "    <tr>\n",
       "      <th>...</th>\n",
       "      <td>...</td>\n",
       "      <td>...</td>\n",
       "      <td>...</td>\n",
       "      <td>...</td>\n",
       "      <td>...</td>\n",
       "      <td>...</td>\n",
       "      <td>...</td>\n",
       "    </tr>\n",
       "    <tr>\n",
       "      <th>3067</th>\n",
       "      <td>2018-01-01 22:45:00</td>\n",
       "      <td>193.2</td>\n",
       "      <td>0.046</td>\n",
       "      <td>71.4</td>\n",
       "      <td>0.017</td>\n",
       "      <td>772.8</td>\n",
       "      <td>285.6</td>\n",
       "    </tr>\n",
       "    <tr>\n",
       "      <th>3068</th>\n",
       "      <td>2018-01-01 23:00:00</td>\n",
       "      <td>193.2</td>\n",
       "      <td>0.046</td>\n",
       "      <td>71.4</td>\n",
       "      <td>0.017</td>\n",
       "      <td>772.8</td>\n",
       "      <td>285.6</td>\n",
       "    </tr>\n",
       "    <tr>\n",
       "      <th>3069</th>\n",
       "      <td>2018-01-01 23:15:00</td>\n",
       "      <td>193.2</td>\n",
       "      <td>0.046</td>\n",
       "      <td>75.6</td>\n",
       "      <td>0.018</td>\n",
       "      <td>772.8</td>\n",
       "      <td>302.4</td>\n",
       "    </tr>\n",
       "    <tr>\n",
       "      <th>3070</th>\n",
       "      <td>2018-01-01 23:30:00</td>\n",
       "      <td>189.0</td>\n",
       "      <td>0.045</td>\n",
       "      <td>79.8</td>\n",
       "      <td>0.019</td>\n",
       "      <td>756.0</td>\n",
       "      <td>319.2</td>\n",
       "    </tr>\n",
       "    <tr>\n",
       "      <th>3071</th>\n",
       "      <td>2018-01-01 23:45:00</td>\n",
       "      <td>193.2</td>\n",
       "      <td>0.046</td>\n",
       "      <td>79.8</td>\n",
       "      <td>0.019</td>\n",
       "      <td>772.8</td>\n",
       "      <td>319.2</td>\n",
       "    </tr>\n",
       "  </tbody>\n",
       "</table>\n",
       "<p>36160 rows × 7 columns</p>\n",
       "</div>"
      ],
      "text/plain": [
       "              Unnamed: 0  ENERGIA ACTIVA  ENERGIA ACTIVA SIN FACTOR  \\\n",
       "0    2017-01-01 00:00:00           205.8                      0.049   \n",
       "1    2017-01-01 00:15:00           205.8                      0.049   \n",
       "2    2017-01-01 00:30:00           210.0                      0.050   \n",
       "3    2017-01-01 00:45:00           205.8                      0.049   \n",
       "4    2017-01-01 01:00:00           205.8                      0.049   \n",
       "...                  ...             ...                        ...   \n",
       "3067 2018-01-01 22:45:00           193.2                      0.046   \n",
       "3068 2018-01-01 23:00:00           193.2                      0.046   \n",
       "3069 2018-01-01 23:15:00           193.2                      0.046   \n",
       "3070 2018-01-01 23:30:00           189.0                      0.045   \n",
       "3071 2018-01-01 23:45:00           193.2                      0.046   \n",
       "\n",
       "      ENERGIA REACTIVA  ENERGIA REACTIVA SIN FACTOR  DEMANDA ACTIVA  \\\n",
       "0                 92.4                        0.022           823.2   \n",
       "1                 88.2                        0.021           823.2   \n",
       "2                 88.2                        0.021           840.0   \n",
       "3                 84.0                        0.020           823.2   \n",
       "4                 84.0                        0.020           823.2   \n",
       "...                ...                          ...             ...   \n",
       "3067              71.4                        0.017           772.8   \n",
       "3068              71.4                        0.017           772.8   \n",
       "3069              75.6                        0.018           772.8   \n",
       "3070              79.8                        0.019           756.0   \n",
       "3071              79.8                        0.019           772.8   \n",
       "\n",
       "      DEMANDA REACTIVA  \n",
       "0                369.6  \n",
       "1                352.8  \n",
       "2                352.8  \n",
       "3                336.0  \n",
       "4                336.0  \n",
       "...                ...  \n",
       "3067             285.6  \n",
       "3068             285.6  \n",
       "3069             302.4  \n",
       "3070             319.2  \n",
       "3071             319.2  \n",
       "\n",
       "[36160 rows x 7 columns]"
      ]
     },
     "execution_count": 164,
     "metadata": {},
     "output_type": "execute_result"
    }
   ],
   "source": [
    "df"
   ]
  },
  {
   "cell_type": "code",
   "execution_count": null,
   "id": "0935242d",
   "metadata": {},
   "outputs": [],
   "source": []
  },
  {
   "cell_type": "code",
   "execution_count": 165,
   "id": "a56eeb14",
   "metadata": {},
   "outputs": [],
   "source": [
    "ruta = 'C:/Users/franx/Documents/MCD/Tesis/Raw/medidor_principal_1138124/2018/'"
   ]
  },
  {
   "cell_type": "code",
   "execution_count": 166,
   "id": "7bc549a2",
   "metadata": {},
   "outputs": [
    {
     "data": {
      "text/plain": [
       "'C:/Users/franx/Documents/MCD/Tesis/Raw/medidor_principal_1138124/2018/'"
      ]
     },
     "execution_count": 166,
     "metadata": {},
     "output_type": "execute_result"
    }
   ],
   "source": [
    "ruta"
   ]
  },
  {
   "cell_type": "code",
   "execution_count": 167,
   "id": "peaceful-forum",
   "metadata": {},
   "outputs": [],
   "source": [
    "df1 = pd.read_excel(ruta+'1.xlsx', engine='openpyxl', skiprows=2)"
   ]
  },
  {
   "cell_type": "code",
   "execution_count": 168,
   "id": "first-developer",
   "metadata": {},
   "outputs": [],
   "source": [
    "df2 = pd.read_excel(ruta+'2.xlsx', engine='openpyxl', skiprows=2)"
   ]
  },
  {
   "cell_type": "code",
   "execution_count": 169,
   "id": "russian-apartment",
   "metadata": {},
   "outputs": [],
   "source": [
    "df3 = pd.read_excel(ruta+'3.xlsx', engine='openpyxl', skiprows=2)"
   ]
  },
  {
   "cell_type": "code",
   "execution_count": 170,
   "id": "beginning-martial",
   "metadata": {},
   "outputs": [],
   "source": [
    "df4 = pd.read_excel(ruta+'4.xlsx', engine='openpyxl', skiprows=2)"
   ]
  },
  {
   "cell_type": "code",
   "execution_count": 171,
   "id": "vulnerable-optimum",
   "metadata": {},
   "outputs": [],
   "source": [
    "df5 = pd.read_excel(ruta+'5.xlsx', engine='openpyxl', skiprows=2)"
   ]
  },
  {
   "cell_type": "code",
   "execution_count": 172,
   "id": "promising-continuity",
   "metadata": {},
   "outputs": [],
   "source": [
    "df6 = pd.read_excel(ruta+'6.xlsx', engine='openpyxl', skiprows=2)"
   ]
  },
  {
   "cell_type": "code",
   "execution_count": 173,
   "id": "manufactured-corps",
   "metadata": {},
   "outputs": [],
   "source": [
    "df7 = pd.read_excel(ruta+'7.xlsx', engine='openpyxl', skiprows=2)"
   ]
  },
  {
   "cell_type": "code",
   "execution_count": 174,
   "id": "animated-screening",
   "metadata": {},
   "outputs": [],
   "source": [
    "df8 = pd.read_excel(ruta+'8.xlsx', engine='openpyxl', skiprows=2)"
   ]
  },
  {
   "cell_type": "code",
   "execution_count": 175,
   "id": "artistic-burner",
   "metadata": {},
   "outputs": [],
   "source": [
    "df9 = pd.read_excel(ruta+'9.xlsx', engine='openpyxl', skiprows=2)"
   ]
  },
  {
   "cell_type": "code",
   "execution_count": 176,
   "id": "changing-franchise",
   "metadata": {},
   "outputs": [],
   "source": [
    "df10 = pd.read_excel(ruta+'10.xlsx', engine='openpyxl', skiprows=2)"
   ]
  },
  {
   "cell_type": "code",
   "execution_count": 177,
   "id": "horizontal-companion",
   "metadata": {},
   "outputs": [],
   "source": [
    "df11 = pd.read_excel(ruta+'11.xlsx', engine='openpyxl', skiprows=2)"
   ]
  },
  {
   "cell_type": "code",
   "execution_count": 178,
   "id": "statistical-drink",
   "metadata": {},
   "outputs": [],
   "source": [
    "df12 = pd.read_excel(ruta+'12.xlsx', engine='openpyxl', skiprows=2)"
   ]
  },
  {
   "cell_type": "code",
   "execution_count": 179,
   "id": "hollywood-fields",
   "metadata": {},
   "outputs": [],
   "source": [
    "df = pd.concat([df,df1,df2,df3,df4,df5,df6,df7,df8,df9,df10,df11,df12])"
   ]
  },
  {
   "cell_type": "code",
   "execution_count": 180,
   "id": "ae903f61",
   "metadata": {},
   "outputs": [],
   "source": [
    "ruta = 'C:/Users/franx/Documents/MCD/Tesis/Raw/medidor_principal_1138124/2019/'"
   ]
  },
  {
   "cell_type": "code",
   "execution_count": 181,
   "id": "30f4355a",
   "metadata": {},
   "outputs": [
    {
     "data": {
      "text/plain": [
       "'C:/Users/franx/Documents/MCD/Tesis/Raw/medidor_principal_1138124/2019/'"
      ]
     },
     "execution_count": 181,
     "metadata": {},
     "output_type": "execute_result"
    }
   ],
   "source": [
    "ruta"
   ]
  },
  {
   "cell_type": "code",
   "execution_count": null,
   "id": "unavailable-amount",
   "metadata": {},
   "outputs": [],
   "source": []
  },
  {
   "cell_type": "code",
   "execution_count": 182,
   "id": "d7c3fa48",
   "metadata": {},
   "outputs": [],
   "source": [
    "df1 = pd.read_excel(ruta+'1.xlsx', engine='openpyxl', skiprows=2)"
   ]
  },
  {
   "cell_type": "code",
   "execution_count": 183,
   "id": "f57f039d",
   "metadata": {},
   "outputs": [],
   "source": [
    "df2 = pd.read_excel(ruta+'2.xlsx', engine='openpyxl', skiprows=2)"
   ]
  },
  {
   "cell_type": "code",
   "execution_count": 184,
   "id": "771eb2c0",
   "metadata": {},
   "outputs": [],
   "source": [
    "df3 = pd.read_excel(ruta+'3.xlsx', engine='openpyxl', skiprows=2)"
   ]
  },
  {
   "cell_type": "code",
   "execution_count": 185,
   "id": "53a1910e",
   "metadata": {},
   "outputs": [],
   "source": [
    "df4 = pd.read_excel(ruta+'4.xlsx', engine='openpyxl', skiprows=2)"
   ]
  },
  {
   "cell_type": "code",
   "execution_count": 186,
   "id": "92c0c5fa",
   "metadata": {},
   "outputs": [],
   "source": [
    "df5 = pd.read_excel(ruta+'5.xlsx', engine='openpyxl', skiprows=2)"
   ]
  },
  {
   "cell_type": "code",
   "execution_count": 187,
   "id": "a89c7512",
   "metadata": {},
   "outputs": [],
   "source": [
    "df6 = pd.read_excel(ruta+'6.xlsx', engine='openpyxl', skiprows=2)"
   ]
  },
  {
   "cell_type": "code",
   "execution_count": 188,
   "id": "1125dc71",
   "metadata": {},
   "outputs": [],
   "source": [
    "df7 = pd.read_excel(ruta+'7.xlsx', engine='openpyxl', skiprows=2)"
   ]
  },
  {
   "cell_type": "code",
   "execution_count": 189,
   "id": "6d3e93ed",
   "metadata": {},
   "outputs": [],
   "source": [
    "df8 = pd.read_excel(ruta+'8.xlsx', engine='openpyxl', skiprows=2)"
   ]
  },
  {
   "cell_type": "code",
   "execution_count": 190,
   "id": "e5141e52",
   "metadata": {},
   "outputs": [],
   "source": [
    "df9 = pd.read_excel(ruta+'9.xlsx', engine='openpyxl', skiprows=2)"
   ]
  },
  {
   "cell_type": "code",
   "execution_count": 191,
   "id": "2c310cab",
   "metadata": {},
   "outputs": [],
   "source": [
    "df10 = pd.read_excel(ruta+'10.xlsx', engine='openpyxl', skiprows=2)"
   ]
  },
  {
   "cell_type": "code",
   "execution_count": 192,
   "id": "10ef2fcb",
   "metadata": {},
   "outputs": [],
   "source": [
    "df11 = pd.read_excel(ruta+'11.xlsx', engine='openpyxl', skiprows=2)"
   ]
  },
  {
   "cell_type": "code",
   "execution_count": 193,
   "id": "29de27fc",
   "metadata": {},
   "outputs": [],
   "source": [
    "df12 = pd.read_excel(ruta+'12.xlsx', engine='openpyxl', skiprows=2)"
   ]
  },
  {
   "cell_type": "code",
   "execution_count": 194,
   "id": "fcf68ea1",
   "metadata": {},
   "outputs": [],
   "source": [
    "df = pd.concat([df,df1,df2,df3,df4,df5,df6,df7,df8,df9,df10,df11,df12])"
   ]
  },
  {
   "cell_type": "code",
   "execution_count": null,
   "id": "419fefe1",
   "metadata": {},
   "outputs": [],
   "source": []
  },
  {
   "cell_type": "code",
   "execution_count": 195,
   "id": "b1dcf170",
   "metadata": {},
   "outputs": [],
   "source": [
    "ruta = 'C:/Users/franx/Documents/MCD/Tesis/Raw/medidor_principal_1138124/2020/'"
   ]
  },
  {
   "cell_type": "code",
   "execution_count": 196,
   "id": "2da6876f",
   "metadata": {},
   "outputs": [
    {
     "data": {
      "text/plain": [
       "'C:/Users/franx/Documents/MCD/Tesis/Raw/medidor_principal_1138124/2020/'"
      ]
     },
     "execution_count": 196,
     "metadata": {},
     "output_type": "execute_result"
    }
   ],
   "source": [
    "ruta"
   ]
  },
  {
   "cell_type": "code",
   "execution_count": 197,
   "id": "4507a4b1",
   "metadata": {},
   "outputs": [],
   "source": [
    "df1 = pd.read_excel(ruta+'1.xlsx', engine='openpyxl', skiprows=2)"
   ]
  },
  {
   "cell_type": "code",
   "execution_count": 198,
   "id": "302ab0f3",
   "metadata": {},
   "outputs": [],
   "source": [
    "df2 = pd.read_excel(ruta+'2.xlsx', engine='openpyxl', skiprows=2)"
   ]
  },
  {
   "cell_type": "code",
   "execution_count": 199,
   "id": "4f8d0606",
   "metadata": {},
   "outputs": [],
   "source": [
    "df3 = pd.read_excel(ruta+'3.xlsx', engine='openpyxl', skiprows=2)"
   ]
  },
  {
   "cell_type": "code",
   "execution_count": 200,
   "id": "114a82b9",
   "metadata": {},
   "outputs": [],
   "source": [
    "df4 = pd.read_excel(ruta+'4.xlsx', engine='openpyxl', skiprows=2)"
   ]
  },
  {
   "cell_type": "code",
   "execution_count": 201,
   "id": "cdbfbc7d",
   "metadata": {},
   "outputs": [],
   "source": [
    "df5 = pd.read_excel(ruta+'5.xlsx', engine='openpyxl', skiprows=2)"
   ]
  },
  {
   "cell_type": "code",
   "execution_count": 202,
   "id": "6f416ffb",
   "metadata": {},
   "outputs": [],
   "source": [
    "df6 = pd.read_excel(ruta+'6.xlsx', engine='openpyxl', skiprows=2)"
   ]
  },
  {
   "cell_type": "code",
   "execution_count": 203,
   "id": "04871f3f",
   "metadata": {},
   "outputs": [],
   "source": [
    "df7 = pd.read_excel(ruta+'7.xlsx', engine='openpyxl', skiprows=2)"
   ]
  },
  {
   "cell_type": "code",
   "execution_count": 204,
   "id": "a6a40059",
   "metadata": {},
   "outputs": [],
   "source": [
    "df8 = pd.read_excel(ruta+'8.xlsx', engine='openpyxl', skiprows=2)"
   ]
  },
  {
   "cell_type": "code",
   "execution_count": 205,
   "id": "8fd45ee6",
   "metadata": {},
   "outputs": [],
   "source": [
    "df9 = pd.read_excel(ruta+'9.xlsx', engine='openpyxl', skiprows=2)"
   ]
  },
  {
   "cell_type": "code",
   "execution_count": 206,
   "id": "0424240f",
   "metadata": {},
   "outputs": [],
   "source": [
    "df10 = pd.read_excel(ruta+'10.xlsx', engine='openpyxl', skiprows=2)"
   ]
  },
  {
   "cell_type": "code",
   "execution_count": 207,
   "id": "8090d92a",
   "metadata": {},
   "outputs": [],
   "source": [
    "df11 = pd.read_excel(ruta+'11.xlsx', engine='openpyxl', skiprows=2)"
   ]
  },
  {
   "cell_type": "code",
   "execution_count": 208,
   "id": "2ec8df9a",
   "metadata": {},
   "outputs": [],
   "source": [
    "df12 = pd.read_excel(ruta+'12.xlsx', engine='openpyxl', skiprows=2)"
   ]
  },
  {
   "cell_type": "code",
   "execution_count": 209,
   "id": "bored-mainland",
   "metadata": {},
   "outputs": [],
   "source": [
    "df = pd.concat([df,df1,df2,df3,df4,df5,df6,df7,df8,df9,df10,df11,df12])"
   ]
  },
  {
   "cell_type": "code",
   "execution_count": null,
   "id": "f057c79c",
   "metadata": {},
   "outputs": [],
   "source": []
  },
  {
   "cell_type": "code",
   "execution_count": 210,
   "id": "systematic-qualification",
   "metadata": {},
   "outputs": [
    {
     "data": {
      "text/plain": [
       "(141312, 7)"
      ]
     },
     "execution_count": 210,
     "metadata": {},
     "output_type": "execute_result"
    }
   ],
   "source": [
    "df.shape"
   ]
  },
  {
   "cell_type": "code",
   "execution_count": 211,
   "id": "continental-investigator",
   "metadata": {},
   "outputs": [
    {
     "data": {
      "text/html": [
       "<div>\n",
       "<style scoped>\n",
       "    .dataframe tbody tr th:only-of-type {\n",
       "        vertical-align: middle;\n",
       "    }\n",
       "\n",
       "    .dataframe tbody tr th {\n",
       "        vertical-align: top;\n",
       "    }\n",
       "\n",
       "    .dataframe thead th {\n",
       "        text-align: right;\n",
       "    }\n",
       "</style>\n",
       "<table border=\"1\" class=\"dataframe\">\n",
       "  <thead>\n",
       "    <tr style=\"text-align: right;\">\n",
       "      <th></th>\n",
       "      <th>Unnamed: 0</th>\n",
       "      <th>ENERGIA ACTIVA</th>\n",
       "      <th>ENERGIA ACTIVA SIN FACTOR</th>\n",
       "      <th>ENERGIA REACTIVA</th>\n",
       "      <th>ENERGIA REACTIVA SIN FACTOR</th>\n",
       "      <th>DEMANDA ACTIVA</th>\n",
       "      <th>DEMANDA REACTIVA</th>\n",
       "    </tr>\n",
       "  </thead>\n",
       "  <tbody>\n",
       "    <tr>\n",
       "      <th>0</th>\n",
       "      <td>2017-01-01 00:00:00</td>\n",
       "      <td>205.8</td>\n",
       "      <td>0.049</td>\n",
       "      <td>92.4</td>\n",
       "      <td>0.022</td>\n",
       "      <td>823.2</td>\n",
       "      <td>369.6</td>\n",
       "    </tr>\n",
       "    <tr>\n",
       "      <th>1</th>\n",
       "      <td>2017-01-01 00:15:00</td>\n",
       "      <td>205.8</td>\n",
       "      <td>0.049</td>\n",
       "      <td>88.2</td>\n",
       "      <td>0.021</td>\n",
       "      <td>823.2</td>\n",
       "      <td>352.8</td>\n",
       "    </tr>\n",
       "    <tr>\n",
       "      <th>2</th>\n",
       "      <td>2017-01-01 00:30:00</td>\n",
       "      <td>210.0</td>\n",
       "      <td>0.050</td>\n",
       "      <td>88.2</td>\n",
       "      <td>0.021</td>\n",
       "      <td>840.0</td>\n",
       "      <td>352.8</td>\n",
       "    </tr>\n",
       "    <tr>\n",
       "      <th>3</th>\n",
       "      <td>2017-01-01 00:45:00</td>\n",
       "      <td>205.8</td>\n",
       "      <td>0.049</td>\n",
       "      <td>84.0</td>\n",
       "      <td>0.020</td>\n",
       "      <td>823.2</td>\n",
       "      <td>336.0</td>\n",
       "    </tr>\n",
       "    <tr>\n",
       "      <th>4</th>\n",
       "      <td>2017-01-01 01:00:00</td>\n",
       "      <td>205.8</td>\n",
       "      <td>0.049</td>\n",
       "      <td>84.0</td>\n",
       "      <td>0.020</td>\n",
       "      <td>823.2</td>\n",
       "      <td>336.0</td>\n",
       "    </tr>\n",
       "  </tbody>\n",
       "</table>\n",
       "</div>"
      ],
      "text/plain": [
       "           Unnamed: 0  ENERGIA ACTIVA  ENERGIA ACTIVA SIN FACTOR  \\\n",
       "0 2017-01-01 00:00:00           205.8                      0.049   \n",
       "1 2017-01-01 00:15:00           205.8                      0.049   \n",
       "2 2017-01-01 00:30:00           210.0                      0.050   \n",
       "3 2017-01-01 00:45:00           205.8                      0.049   \n",
       "4 2017-01-01 01:00:00           205.8                      0.049   \n",
       "\n",
       "   ENERGIA REACTIVA  ENERGIA REACTIVA SIN FACTOR  DEMANDA ACTIVA  \\\n",
       "0              92.4                        0.022           823.2   \n",
       "1              88.2                        0.021           823.2   \n",
       "2              88.2                        0.021           840.0   \n",
       "3              84.0                        0.020           823.2   \n",
       "4              84.0                        0.020           823.2   \n",
       "\n",
       "   DEMANDA REACTIVA  \n",
       "0             369.6  \n",
       "1             352.8  \n",
       "2             352.8  \n",
       "3             336.0  \n",
       "4             336.0  "
      ]
     },
     "execution_count": 211,
     "metadata": {},
     "output_type": "execute_result"
    }
   ],
   "source": [
    "df.head()"
   ]
  },
  {
   "cell_type": "code",
   "execution_count": 212,
   "id": "fd975752",
   "metadata": {},
   "outputs": [
    {
     "data": {
      "text/html": [
       "<div>\n",
       "<style scoped>\n",
       "    .dataframe tbody tr th:only-of-type {\n",
       "        vertical-align: middle;\n",
       "    }\n",
       "\n",
       "    .dataframe tbody tr th {\n",
       "        vertical-align: top;\n",
       "    }\n",
       "\n",
       "    .dataframe thead th {\n",
       "        text-align: right;\n",
       "    }\n",
       "</style>\n",
       "<table border=\"1\" class=\"dataframe\">\n",
       "  <thead>\n",
       "    <tr style=\"text-align: right;\">\n",
       "      <th></th>\n",
       "      <th>Unnamed: 0</th>\n",
       "      <th>ENERGIA ACTIVA</th>\n",
       "      <th>ENERGIA ACTIVA SIN FACTOR</th>\n",
       "      <th>ENERGIA REACTIVA</th>\n",
       "      <th>ENERGIA REACTIVA SIN FACTOR</th>\n",
       "      <th>DEMANDA ACTIVA</th>\n",
       "      <th>DEMANDA REACTIVA</th>\n",
       "    </tr>\n",
       "  </thead>\n",
       "  <tbody>\n",
       "    <tr>\n",
       "      <th>1628</th>\n",
       "      <td>2020-12-17 23:00:00</td>\n",
       "      <td>184.8</td>\n",
       "      <td>0.044</td>\n",
       "      <td>50.4</td>\n",
       "      <td>0.012</td>\n",
       "      <td>739.2</td>\n",
       "      <td>201.6</td>\n",
       "    </tr>\n",
       "    <tr>\n",
       "      <th>1629</th>\n",
       "      <td>2020-12-17 23:15:00</td>\n",
       "      <td>189.0</td>\n",
       "      <td>0.045</td>\n",
       "      <td>54.6</td>\n",
       "      <td>0.013</td>\n",
       "      <td>756.0</td>\n",
       "      <td>218.4</td>\n",
       "    </tr>\n",
       "    <tr>\n",
       "      <th>1630</th>\n",
       "      <td>2020-12-17 23:30:00</td>\n",
       "      <td>189.0</td>\n",
       "      <td>0.045</td>\n",
       "      <td>58.8</td>\n",
       "      <td>0.014</td>\n",
       "      <td>756.0</td>\n",
       "      <td>235.2</td>\n",
       "    </tr>\n",
       "    <tr>\n",
       "      <th>1631</th>\n",
       "      <td>2020-12-17 23:45:00</td>\n",
       "      <td>184.8</td>\n",
       "      <td>0.044</td>\n",
       "      <td>58.8</td>\n",
       "      <td>0.014</td>\n",
       "      <td>739.2</td>\n",
       "      <td>235.2</td>\n",
       "    </tr>\n",
       "    <tr>\n",
       "      <th>1632</th>\n",
       "      <td>2020-12-18 00:00:00</td>\n",
       "      <td>184.8</td>\n",
       "      <td>0.044</td>\n",
       "      <td>58.8</td>\n",
       "      <td>0.014</td>\n",
       "      <td>739.2</td>\n",
       "      <td>235.2</td>\n",
       "    </tr>\n",
       "  </tbody>\n",
       "</table>\n",
       "</div>"
      ],
      "text/plain": [
       "              Unnamed: 0  ENERGIA ACTIVA  ENERGIA ACTIVA SIN FACTOR  \\\n",
       "1628 2020-12-17 23:00:00           184.8                      0.044   \n",
       "1629 2020-12-17 23:15:00           189.0                      0.045   \n",
       "1630 2020-12-17 23:30:00           189.0                      0.045   \n",
       "1631 2020-12-17 23:45:00           184.8                      0.044   \n",
       "1632 2020-12-18 00:00:00           184.8                      0.044   \n",
       "\n",
       "      ENERGIA REACTIVA  ENERGIA REACTIVA SIN FACTOR  DEMANDA ACTIVA  \\\n",
       "1628              50.4                        0.012           739.2   \n",
       "1629              54.6                        0.013           756.0   \n",
       "1630              58.8                        0.014           756.0   \n",
       "1631              58.8                        0.014           739.2   \n",
       "1632              58.8                        0.014           739.2   \n",
       "\n",
       "      DEMANDA REACTIVA  \n",
       "1628             201.6  \n",
       "1629             218.4  \n",
       "1630             235.2  \n",
       "1631             235.2  \n",
       "1632             235.2  "
      ]
     },
     "execution_count": 212,
     "metadata": {},
     "output_type": "execute_result"
    }
   ],
   "source": [
    "df.tail()"
   ]
  },
  {
   "cell_type": "code",
   "execution_count": 213,
   "id": "0f8bac3f",
   "metadata": {},
   "outputs": [],
   "source": [
    "nombres_variables = dict()"
   ]
  },
  {
   "cell_type": "code",
   "execution_count": 214,
   "id": "08eac270",
   "metadata": {},
   "outputs": [
    {
     "data": {
      "text/plain": [
       "{}"
      ]
     },
     "execution_count": 214,
     "metadata": {},
     "output_type": "execute_result"
    }
   ],
   "source": [
    "nombres_variables"
   ]
  },
  {
   "cell_type": "code",
   "execution_count": 215,
   "id": "9de035ea",
   "metadata": {},
   "outputs": [],
   "source": [
    "nombres_variables = df.columns"
   ]
  },
  {
   "cell_type": "code",
   "execution_count": 216,
   "id": "ef60a2a8",
   "metadata": {},
   "outputs": [
    {
     "data": {
      "text/plain": [
       "Index(['Unnamed: 0', 'ENERGIA ACTIVA', 'ENERGIA ACTIVA SIN FACTOR',\n",
       "       'ENERGIA REACTIVA', 'ENERGIA REACTIVA SIN FACTOR', 'DEMANDA ACTIVA',\n",
       "       'DEMANDA REACTIVA'],\n",
       "      dtype='object')"
      ]
     },
     "execution_count": 216,
     "metadata": {},
     "output_type": "execute_result"
    }
   ],
   "source": [
    "nombres_variables"
   ]
  },
  {
   "cell_type": "code",
   "execution_count": 217,
   "id": "339beaca",
   "metadata": {},
   "outputs": [],
   "source": [
    "df = df.rename(columns={'Unnamed: 0': 'tiempo', \n",
    "                        'ENERGIA ACTIVA':'energia_activa', \n",
    "                        'ENERGIA ACTIVA SIN FACTOR':'energia_activa_sin_factor',\n",
    "                        'ENERGIA REACTIVA':'energia_rectiva', \n",
    "                        'ENERGIA REACTIVA SIN FACTOR':'energia_rectiva_sin_factor', \n",
    "                        'DEMANDA ACTIVA':'demanda_activa',\n",
    "                        'DEMANDA REACTIVA':'demanda_reactiva'})"
   ]
  },
  {
   "cell_type": "code",
   "execution_count": 218,
   "id": "f6982e51",
   "metadata": {},
   "outputs": [
    {
     "data": {
      "text/html": [
       "<div>\n",
       "<style scoped>\n",
       "    .dataframe tbody tr th:only-of-type {\n",
       "        vertical-align: middle;\n",
       "    }\n",
       "\n",
       "    .dataframe tbody tr th {\n",
       "        vertical-align: top;\n",
       "    }\n",
       "\n",
       "    .dataframe thead th {\n",
       "        text-align: right;\n",
       "    }\n",
       "</style>\n",
       "<table border=\"1\" class=\"dataframe\">\n",
       "  <thead>\n",
       "    <tr style=\"text-align: right;\">\n",
       "      <th></th>\n",
       "      <th>tiempo</th>\n",
       "      <th>energia_activa</th>\n",
       "      <th>energia_activa_sin_factor</th>\n",
       "      <th>energia_rectiva</th>\n",
       "      <th>energia_rectiva_sin_factor</th>\n",
       "      <th>demanda_activa</th>\n",
       "      <th>demanda_reactiva</th>\n",
       "    </tr>\n",
       "  </thead>\n",
       "  <tbody>\n",
       "    <tr>\n",
       "      <th>0</th>\n",
       "      <td>2017-01-01 00:00:00</td>\n",
       "      <td>205.8</td>\n",
       "      <td>0.049</td>\n",
       "      <td>92.4</td>\n",
       "      <td>0.022</td>\n",
       "      <td>823.2</td>\n",
       "      <td>369.6</td>\n",
       "    </tr>\n",
       "    <tr>\n",
       "      <th>1</th>\n",
       "      <td>2017-01-01 00:15:00</td>\n",
       "      <td>205.8</td>\n",
       "      <td>0.049</td>\n",
       "      <td>88.2</td>\n",
       "      <td>0.021</td>\n",
       "      <td>823.2</td>\n",
       "      <td>352.8</td>\n",
       "    </tr>\n",
       "    <tr>\n",
       "      <th>2</th>\n",
       "      <td>2017-01-01 00:30:00</td>\n",
       "      <td>210.0</td>\n",
       "      <td>0.050</td>\n",
       "      <td>88.2</td>\n",
       "      <td>0.021</td>\n",
       "      <td>840.0</td>\n",
       "      <td>352.8</td>\n",
       "    </tr>\n",
       "    <tr>\n",
       "      <th>3</th>\n",
       "      <td>2017-01-01 00:45:00</td>\n",
       "      <td>205.8</td>\n",
       "      <td>0.049</td>\n",
       "      <td>84.0</td>\n",
       "      <td>0.020</td>\n",
       "      <td>823.2</td>\n",
       "      <td>336.0</td>\n",
       "    </tr>\n",
       "    <tr>\n",
       "      <th>4</th>\n",
       "      <td>2017-01-01 01:00:00</td>\n",
       "      <td>205.8</td>\n",
       "      <td>0.049</td>\n",
       "      <td>84.0</td>\n",
       "      <td>0.020</td>\n",
       "      <td>823.2</td>\n",
       "      <td>336.0</td>\n",
       "    </tr>\n",
       "  </tbody>\n",
       "</table>\n",
       "</div>"
      ],
      "text/plain": [
       "               tiempo  energia_activa  energia_activa_sin_factor  \\\n",
       "0 2017-01-01 00:00:00           205.8                      0.049   \n",
       "1 2017-01-01 00:15:00           205.8                      0.049   \n",
       "2 2017-01-01 00:30:00           210.0                      0.050   \n",
       "3 2017-01-01 00:45:00           205.8                      0.049   \n",
       "4 2017-01-01 01:00:00           205.8                      0.049   \n",
       "\n",
       "   energia_rectiva  energia_rectiva_sin_factor  demanda_activa  \\\n",
       "0             92.4                       0.022           823.2   \n",
       "1             88.2                       0.021           823.2   \n",
       "2             88.2                       0.021           840.0   \n",
       "3             84.0                       0.020           823.2   \n",
       "4             84.0                       0.020           823.2   \n",
       "\n",
       "   demanda_reactiva  \n",
       "0             369.6  \n",
       "1             352.8  \n",
       "2             352.8  \n",
       "3             336.0  \n",
       "4             336.0  "
      ]
     },
     "execution_count": 218,
     "metadata": {},
     "output_type": "execute_result"
    }
   ],
   "source": [
    "df.head()"
   ]
  },
  {
   "cell_type": "code",
   "execution_count": 219,
   "id": "e317550f",
   "metadata": {},
   "outputs": [],
   "source": [
    "bucket = 'C:/Users/franx/Documents/MCD/Tesis/Bucket/'"
   ]
  },
  {
   "cell_type": "code",
   "execution_count": 220,
   "id": "facial-estonia",
   "metadata": {},
   "outputs": [],
   "source": [
    "df.to_csv(bucket+\"med_principal.csv\",index=False)"
   ]
  },
  {
   "cell_type": "code",
   "execution_count": 221,
   "id": "hispanic-slope",
   "metadata": {},
   "outputs": [],
   "source": [
    "df = pd.read_csv(bucket+\"med_principal.csv\", encoding=\"utf-8\")"
   ]
  },
  {
   "cell_type": "code",
   "execution_count": 222,
   "id": "hispanic-orbit",
   "metadata": {},
   "outputs": [
    {
     "data": {
      "text/plain": [
       "tiempo                         object\n",
       "energia_activa                float64\n",
       "energia_activa_sin_factor     float64\n",
       "energia_rectiva               float64\n",
       "energia_rectiva_sin_factor    float64\n",
       "demanda_activa                float64\n",
       "demanda_reactiva              float64\n",
       "dtype: object"
      ]
     },
     "execution_count": 222,
     "metadata": {},
     "output_type": "execute_result"
    }
   ],
   "source": [
    "df.dtypes"
   ]
  },
  {
   "cell_type": "code",
   "execution_count": 223,
   "id": "elder-adapter",
   "metadata": {},
   "outputs": [],
   "source": [
    "df['tiempo'] = df['tiempo'].astype('datetime64')"
   ]
  },
  {
   "cell_type": "code",
   "execution_count": 224,
   "id": "authorized-august",
   "metadata": {},
   "outputs": [
    {
     "data": {
      "text/plain": [
       "tiempo                        datetime64[ns]\n",
       "energia_activa                       float64\n",
       "energia_activa_sin_factor            float64\n",
       "energia_rectiva                      float64\n",
       "energia_rectiva_sin_factor           float64\n",
       "demanda_activa                       float64\n",
       "demanda_reactiva                     float64\n",
       "dtype: object"
      ]
     },
     "execution_count": 224,
     "metadata": {},
     "output_type": "execute_result"
    }
   ],
   "source": [
    "df.dtypes"
   ]
  },
  {
   "cell_type": "code",
   "execution_count": 225,
   "id": "reliable-differential",
   "metadata": {},
   "outputs": [
    {
     "data": {
      "text/html": [
       "<div>\n",
       "<style scoped>\n",
       "    .dataframe tbody tr th:only-of-type {\n",
       "        vertical-align: middle;\n",
       "    }\n",
       "\n",
       "    .dataframe tbody tr th {\n",
       "        vertical-align: top;\n",
       "    }\n",
       "\n",
       "    .dataframe thead th {\n",
       "        text-align: right;\n",
       "    }\n",
       "</style>\n",
       "<table border=\"1\" class=\"dataframe\">\n",
       "  <thead>\n",
       "    <tr style=\"text-align: right;\">\n",
       "      <th></th>\n",
       "      <th>tiempo</th>\n",
       "      <th>energia_activa</th>\n",
       "      <th>energia_activa_sin_factor</th>\n",
       "      <th>energia_rectiva</th>\n",
       "      <th>energia_rectiva_sin_factor</th>\n",
       "      <th>demanda_activa</th>\n",
       "      <th>demanda_reactiva</th>\n",
       "    </tr>\n",
       "  </thead>\n",
       "  <tbody>\n",
       "    <tr>\n",
       "      <th>0</th>\n",
       "      <td>2017-01-01 00:00:00</td>\n",
       "      <td>205.8</td>\n",
       "      <td>0.049</td>\n",
       "      <td>92.4</td>\n",
       "      <td>0.022</td>\n",
       "      <td>823.2</td>\n",
       "      <td>369.6</td>\n",
       "    </tr>\n",
       "    <tr>\n",
       "      <th>1</th>\n",
       "      <td>2017-01-01 00:15:00</td>\n",
       "      <td>205.8</td>\n",
       "      <td>0.049</td>\n",
       "      <td>88.2</td>\n",
       "      <td>0.021</td>\n",
       "      <td>823.2</td>\n",
       "      <td>352.8</td>\n",
       "    </tr>\n",
       "    <tr>\n",
       "      <th>2</th>\n",
       "      <td>2017-01-01 00:30:00</td>\n",
       "      <td>210.0</td>\n",
       "      <td>0.050</td>\n",
       "      <td>88.2</td>\n",
       "      <td>0.021</td>\n",
       "      <td>840.0</td>\n",
       "      <td>352.8</td>\n",
       "    </tr>\n",
       "    <tr>\n",
       "      <th>3</th>\n",
       "      <td>2017-01-01 00:45:00</td>\n",
       "      <td>205.8</td>\n",
       "      <td>0.049</td>\n",
       "      <td>84.0</td>\n",
       "      <td>0.020</td>\n",
       "      <td>823.2</td>\n",
       "      <td>336.0</td>\n",
       "    </tr>\n",
       "    <tr>\n",
       "      <th>4</th>\n",
       "      <td>2017-01-01 01:00:00</td>\n",
       "      <td>205.8</td>\n",
       "      <td>0.049</td>\n",
       "      <td>84.0</td>\n",
       "      <td>0.020</td>\n",
       "      <td>823.2</td>\n",
       "      <td>336.0</td>\n",
       "    </tr>\n",
       "  </tbody>\n",
       "</table>\n",
       "</div>"
      ],
      "text/plain": [
       "               tiempo  energia_activa  energia_activa_sin_factor  \\\n",
       "0 2017-01-01 00:00:00           205.8                      0.049   \n",
       "1 2017-01-01 00:15:00           205.8                      0.049   \n",
       "2 2017-01-01 00:30:00           210.0                      0.050   \n",
       "3 2017-01-01 00:45:00           205.8                      0.049   \n",
       "4 2017-01-01 01:00:00           205.8                      0.049   \n",
       "\n",
       "   energia_rectiva  energia_rectiva_sin_factor  demanda_activa  \\\n",
       "0             92.4                       0.022           823.2   \n",
       "1             88.2                       0.021           823.2   \n",
       "2             88.2                       0.021           840.0   \n",
       "3             84.0                       0.020           823.2   \n",
       "4             84.0                       0.020           823.2   \n",
       "\n",
       "   demanda_reactiva  \n",
       "0             369.6  \n",
       "1             352.8  \n",
       "2             352.8  \n",
       "3             336.0  \n",
       "4             336.0  "
      ]
     },
     "execution_count": 225,
     "metadata": {},
     "output_type": "execute_result"
    }
   ],
   "source": [
    "df.head()"
   ]
  },
  {
   "cell_type": "code",
   "execution_count": 226,
   "id": "upset-spain",
   "metadata": {},
   "outputs": [
    {
     "data": {
      "text/plain": [
       "0"
      ]
     },
     "execution_count": 226,
     "metadata": {},
     "output_type": "execute_result"
    }
   ],
   "source": [
    "df.isnull().any(axis=1).sum()"
   ]
  },
  {
   "cell_type": "code",
   "execution_count": 227,
   "id": "prime-millennium",
   "metadata": {},
   "outputs": [
    {
     "data": {
      "text/plain": [
       "0"
      ]
     },
     "execution_count": 227,
     "metadata": {},
     "output_type": "execute_result"
    }
   ],
   "source": [
    "df.isnull().any(axis=0).sum()"
   ]
  },
  {
   "cell_type": "code",
   "execution_count": 228,
   "id": "working-speech",
   "metadata": {},
   "outputs": [],
   "source": [
    "observ = df.shape"
   ]
  },
  {
   "cell_type": "code",
   "execution_count": 229,
   "id": "foreign-essence",
   "metadata": {},
   "outputs": [
    {
     "name": "stdout",
     "output_type": "stream",
     "text": [
      "(141312, 7)\n"
     ]
    }
   ],
   "source": [
    "print(observ)"
   ]
  },
  {
   "cell_type": "code",
   "execution_count": 230,
   "id": "rapid-aerospace",
   "metadata": {},
   "outputs": [
    {
     "data": {
      "text/plain": [
       "141312"
      ]
     },
     "execution_count": 230,
     "metadata": {},
     "output_type": "execute_result"
    }
   ],
   "source": [
    "observ[0]"
   ]
  },
  {
   "cell_type": "code",
   "execution_count": 231,
   "id": "described-progress",
   "metadata": {},
   "outputs": [],
   "source": [
    "observ_rest=df.drop_duplicates(keep='last').shape"
   ]
  },
  {
   "cell_type": "code",
   "execution_count": 232,
   "id": "automotive-poetry",
   "metadata": {},
   "outputs": [
    {
     "data": {
      "text/plain": [
       "136897"
      ]
     },
     "execution_count": 232,
     "metadata": {},
     "output_type": "execute_result"
    }
   ],
   "source": [
    "observ_rest[0]"
   ]
  },
  {
   "cell_type": "code",
   "execution_count": 233,
   "id": "provincial-viking",
   "metadata": {},
   "outputs": [],
   "source": [
    "x = ((observ[0] - observ_rest[0])/observ[0])*100"
   ]
  },
  {
   "cell_type": "code",
   "execution_count": 234,
   "id": "occupied-abraham",
   "metadata": {},
   "outputs": [
    {
     "name": "stdout",
     "output_type": "stream",
     "text": [
      "El procentaje de registros duplicados a eliminar es 3.12%\n"
     ]
    }
   ],
   "source": [
    "print(\"El procentaje de registros duplicados a eliminar es\",'{:.2f}%'.format(x))"
   ]
  },
  {
   "cell_type": "code",
   "execution_count": 235,
   "id": "postal-johns",
   "metadata": {},
   "outputs": [],
   "source": [
    "df.drop_duplicates(inplace=True)"
   ]
  },
  {
   "cell_type": "code",
   "execution_count": 236,
   "id": "adjacent-champion",
   "metadata": {},
   "outputs": [
    {
     "data": {
      "text/plain": [
       "(136897, 7)"
      ]
     },
     "execution_count": 236,
     "metadata": {},
     "output_type": "execute_result"
    }
   ],
   "source": [
    "df.shape"
   ]
  },
  {
   "cell_type": "code",
   "execution_count": 237,
   "id": "coordinate-operations",
   "metadata": {},
   "outputs": [
    {
     "data": {
      "text/html": [
       "<div>\n",
       "<style scoped>\n",
       "    .dataframe tbody tr th:only-of-type {\n",
       "        vertical-align: middle;\n",
       "    }\n",
       "\n",
       "    .dataframe tbody tr th {\n",
       "        vertical-align: top;\n",
       "    }\n",
       "\n",
       "    .dataframe thead th {\n",
       "        text-align: right;\n",
       "    }\n",
       "</style>\n",
       "<table border=\"1\" class=\"dataframe\">\n",
       "  <thead>\n",
       "    <tr style=\"text-align: right;\">\n",
       "      <th></th>\n",
       "      <th>tiempo</th>\n",
       "      <th>energia_activa</th>\n",
       "      <th>energia_activa_sin_factor</th>\n",
       "      <th>energia_rectiva</th>\n",
       "      <th>energia_rectiva_sin_factor</th>\n",
       "      <th>demanda_activa</th>\n",
       "      <th>demanda_reactiva</th>\n",
       "    </tr>\n",
       "  </thead>\n",
       "  <tbody>\n",
       "    <tr>\n",
       "      <th>0</th>\n",
       "      <td>2017-01-01 00:00:00</td>\n",
       "      <td>205.8</td>\n",
       "      <td>0.049</td>\n",
       "      <td>92.4</td>\n",
       "      <td>0.022</td>\n",
       "      <td>823.2</td>\n",
       "      <td>369.6</td>\n",
       "    </tr>\n",
       "    <tr>\n",
       "      <th>1</th>\n",
       "      <td>2017-01-01 00:15:00</td>\n",
       "      <td>205.8</td>\n",
       "      <td>0.049</td>\n",
       "      <td>88.2</td>\n",
       "      <td>0.021</td>\n",
       "      <td>823.2</td>\n",
       "      <td>352.8</td>\n",
       "    </tr>\n",
       "    <tr>\n",
       "      <th>2</th>\n",
       "      <td>2017-01-01 00:30:00</td>\n",
       "      <td>210.0</td>\n",
       "      <td>0.050</td>\n",
       "      <td>88.2</td>\n",
       "      <td>0.021</td>\n",
       "      <td>840.0</td>\n",
       "      <td>352.8</td>\n",
       "    </tr>\n",
       "    <tr>\n",
       "      <th>3</th>\n",
       "      <td>2017-01-01 00:45:00</td>\n",
       "      <td>205.8</td>\n",
       "      <td>0.049</td>\n",
       "      <td>84.0</td>\n",
       "      <td>0.020</td>\n",
       "      <td>823.2</td>\n",
       "      <td>336.0</td>\n",
       "    </tr>\n",
       "    <tr>\n",
       "      <th>4</th>\n",
       "      <td>2017-01-01 01:00:00</td>\n",
       "      <td>205.8</td>\n",
       "      <td>0.049</td>\n",
       "      <td>84.0</td>\n",
       "      <td>0.020</td>\n",
       "      <td>823.2</td>\n",
       "      <td>336.0</td>\n",
       "    </tr>\n",
       "    <tr>\n",
       "      <th>...</th>\n",
       "      <td>...</td>\n",
       "      <td>...</td>\n",
       "      <td>...</td>\n",
       "      <td>...</td>\n",
       "      <td>...</td>\n",
       "      <td>...</td>\n",
       "      <td>...</td>\n",
       "    </tr>\n",
       "    <tr>\n",
       "      <th>141307</th>\n",
       "      <td>2020-12-17 23:00:00</td>\n",
       "      <td>184.8</td>\n",
       "      <td>0.044</td>\n",
       "      <td>50.4</td>\n",
       "      <td>0.012</td>\n",
       "      <td>739.2</td>\n",
       "      <td>201.6</td>\n",
       "    </tr>\n",
       "    <tr>\n",
       "      <th>141308</th>\n",
       "      <td>2020-12-17 23:15:00</td>\n",
       "      <td>189.0</td>\n",
       "      <td>0.045</td>\n",
       "      <td>54.6</td>\n",
       "      <td>0.013</td>\n",
       "      <td>756.0</td>\n",
       "      <td>218.4</td>\n",
       "    </tr>\n",
       "    <tr>\n",
       "      <th>141309</th>\n",
       "      <td>2020-12-17 23:30:00</td>\n",
       "      <td>189.0</td>\n",
       "      <td>0.045</td>\n",
       "      <td>58.8</td>\n",
       "      <td>0.014</td>\n",
       "      <td>756.0</td>\n",
       "      <td>235.2</td>\n",
       "    </tr>\n",
       "    <tr>\n",
       "      <th>141310</th>\n",
       "      <td>2020-12-17 23:45:00</td>\n",
       "      <td>184.8</td>\n",
       "      <td>0.044</td>\n",
       "      <td>58.8</td>\n",
       "      <td>0.014</td>\n",
       "      <td>739.2</td>\n",
       "      <td>235.2</td>\n",
       "    </tr>\n",
       "    <tr>\n",
       "      <th>141311</th>\n",
       "      <td>2020-12-18 00:00:00</td>\n",
       "      <td>184.8</td>\n",
       "      <td>0.044</td>\n",
       "      <td>58.8</td>\n",
       "      <td>0.014</td>\n",
       "      <td>739.2</td>\n",
       "      <td>235.2</td>\n",
       "    </tr>\n",
       "  </tbody>\n",
       "</table>\n",
       "<p>136897 rows × 7 columns</p>\n",
       "</div>"
      ],
      "text/plain": [
       "                    tiempo  energia_activa  energia_activa_sin_factor  \\\n",
       "0      2017-01-01 00:00:00           205.8                      0.049   \n",
       "1      2017-01-01 00:15:00           205.8                      0.049   \n",
       "2      2017-01-01 00:30:00           210.0                      0.050   \n",
       "3      2017-01-01 00:45:00           205.8                      0.049   \n",
       "4      2017-01-01 01:00:00           205.8                      0.049   \n",
       "...                    ...             ...                        ...   \n",
       "141307 2020-12-17 23:00:00           184.8                      0.044   \n",
       "141308 2020-12-17 23:15:00           189.0                      0.045   \n",
       "141309 2020-12-17 23:30:00           189.0                      0.045   \n",
       "141310 2020-12-17 23:45:00           184.8                      0.044   \n",
       "141311 2020-12-18 00:00:00           184.8                      0.044   \n",
       "\n",
       "        energia_rectiva  energia_rectiva_sin_factor  demanda_activa  \\\n",
       "0                  92.4                       0.022           823.2   \n",
       "1                  88.2                       0.021           823.2   \n",
       "2                  88.2                       0.021           840.0   \n",
       "3                  84.0                       0.020           823.2   \n",
       "4                  84.0                       0.020           823.2   \n",
       "...                 ...                         ...             ...   \n",
       "141307             50.4                       0.012           739.2   \n",
       "141308             54.6                       0.013           756.0   \n",
       "141309             58.8                       0.014           756.0   \n",
       "141310             58.8                       0.014           739.2   \n",
       "141311             58.8                       0.014           739.2   \n",
       "\n",
       "        demanda_reactiva  \n",
       "0                  369.6  \n",
       "1                  352.8  \n",
       "2                  352.8  \n",
       "3                  336.0  \n",
       "4                  336.0  \n",
       "...                  ...  \n",
       "141307             201.6  \n",
       "141308             218.4  \n",
       "141309             235.2  \n",
       "141310             235.2  \n",
       "141311             235.2  \n",
       "\n",
       "[136897 rows x 7 columns]"
      ]
     },
     "execution_count": 237,
     "metadata": {},
     "output_type": "execute_result"
    }
   ],
   "source": [
    "df.drop_duplicates()"
   ]
  },
  {
   "cell_type": "code",
   "execution_count": 238,
   "id": "employed-monday",
   "metadata": {},
   "outputs": [],
   "source": [
    "observ = df.shape"
   ]
  },
  {
   "cell_type": "code",
   "execution_count": 239,
   "id": "expressed-speech",
   "metadata": {},
   "outputs": [],
   "source": [
    "observ_rest=df.drop_duplicates(keep='last').shape"
   ]
  },
  {
   "cell_type": "code",
   "execution_count": 240,
   "id": "analyzed-bronze",
   "metadata": {},
   "outputs": [],
   "source": [
    "x = ((observ[0] - observ_rest[0])/observ[0])*100"
   ]
  },
  {
   "cell_type": "code",
   "execution_count": 241,
   "id": "related-handling",
   "metadata": {},
   "outputs": [
    {
     "name": "stdout",
     "output_type": "stream",
     "text": [
      "El procentaje de registros duplicados a eliminar es 0.00%\n"
     ]
    }
   ],
   "source": [
    "print(\"El procentaje de registros duplicados a eliminar es\",'{:.2f}%'.format(x))"
   ]
  },
  {
   "cell_type": "code",
   "execution_count": 242,
   "id": "painful-wyoming",
   "metadata": {},
   "outputs": [
    {
     "data": {
      "text/html": [
       "<div>\n",
       "<style scoped>\n",
       "    .dataframe tbody tr th:only-of-type {\n",
       "        vertical-align: middle;\n",
       "    }\n",
       "\n",
       "    .dataframe tbody tr th {\n",
       "        vertical-align: top;\n",
       "    }\n",
       "\n",
       "    .dataframe thead th {\n",
       "        text-align: right;\n",
       "    }\n",
       "</style>\n",
       "<table border=\"1\" class=\"dataframe\">\n",
       "  <thead>\n",
       "    <tr style=\"text-align: right;\">\n",
       "      <th></th>\n",
       "      <th>tiempo</th>\n",
       "      <th>energia_activa</th>\n",
       "      <th>energia_activa_sin_factor</th>\n",
       "      <th>energia_rectiva</th>\n",
       "      <th>energia_rectiva_sin_factor</th>\n",
       "      <th>demanda_activa</th>\n",
       "      <th>demanda_reactiva</th>\n",
       "    </tr>\n",
       "  </thead>\n",
       "  <tbody>\n",
       "    <tr>\n",
       "      <th>0</th>\n",
       "      <td>2017-01-01 00:00:00</td>\n",
       "      <td>205.8</td>\n",
       "      <td>0.049</td>\n",
       "      <td>92.4</td>\n",
       "      <td>0.022</td>\n",
       "      <td>823.2</td>\n",
       "      <td>369.6</td>\n",
       "    </tr>\n",
       "    <tr>\n",
       "      <th>1</th>\n",
       "      <td>2017-01-01 00:15:00</td>\n",
       "      <td>205.8</td>\n",
       "      <td>0.049</td>\n",
       "      <td>88.2</td>\n",
       "      <td>0.021</td>\n",
       "      <td>823.2</td>\n",
       "      <td>352.8</td>\n",
       "    </tr>\n",
       "    <tr>\n",
       "      <th>2</th>\n",
       "      <td>2017-01-01 00:30:00</td>\n",
       "      <td>210.0</td>\n",
       "      <td>0.050</td>\n",
       "      <td>88.2</td>\n",
       "      <td>0.021</td>\n",
       "      <td>840.0</td>\n",
       "      <td>352.8</td>\n",
       "    </tr>\n",
       "    <tr>\n",
       "      <th>3</th>\n",
       "      <td>2017-01-01 00:45:00</td>\n",
       "      <td>205.8</td>\n",
       "      <td>0.049</td>\n",
       "      <td>84.0</td>\n",
       "      <td>0.020</td>\n",
       "      <td>823.2</td>\n",
       "      <td>336.0</td>\n",
       "    </tr>\n",
       "    <tr>\n",
       "      <th>4</th>\n",
       "      <td>2017-01-01 01:00:00</td>\n",
       "      <td>205.8</td>\n",
       "      <td>0.049</td>\n",
       "      <td>84.0</td>\n",
       "      <td>0.020</td>\n",
       "      <td>823.2</td>\n",
       "      <td>336.0</td>\n",
       "    </tr>\n",
       "    <tr>\n",
       "      <th>5</th>\n",
       "      <td>2017-01-01 01:15:00</td>\n",
       "      <td>201.6</td>\n",
       "      <td>0.048</td>\n",
       "      <td>84.0</td>\n",
       "      <td>0.020</td>\n",
       "      <td>806.4</td>\n",
       "      <td>336.0</td>\n",
       "    </tr>\n",
       "    <tr>\n",
       "      <th>6</th>\n",
       "      <td>2017-01-01 01:30:00</td>\n",
       "      <td>205.8</td>\n",
       "      <td>0.049</td>\n",
       "      <td>88.2</td>\n",
       "      <td>0.021</td>\n",
       "      <td>823.2</td>\n",
       "      <td>352.8</td>\n",
       "    </tr>\n",
       "    <tr>\n",
       "      <th>7</th>\n",
       "      <td>2017-01-01 01:45:00</td>\n",
       "      <td>201.6</td>\n",
       "      <td>0.048</td>\n",
       "      <td>92.4</td>\n",
       "      <td>0.022</td>\n",
       "      <td>806.4</td>\n",
       "      <td>369.6</td>\n",
       "    </tr>\n",
       "    <tr>\n",
       "      <th>8</th>\n",
       "      <td>2017-01-01 02:00:00</td>\n",
       "      <td>201.6</td>\n",
       "      <td>0.048</td>\n",
       "      <td>92.4</td>\n",
       "      <td>0.022</td>\n",
       "      <td>806.4</td>\n",
       "      <td>369.6</td>\n",
       "    </tr>\n",
       "    <tr>\n",
       "      <th>9</th>\n",
       "      <td>2017-01-01 02:15:00</td>\n",
       "      <td>201.6</td>\n",
       "      <td>0.048</td>\n",
       "      <td>88.2</td>\n",
       "      <td>0.021</td>\n",
       "      <td>806.4</td>\n",
       "      <td>352.8</td>\n",
       "    </tr>\n",
       "    <tr>\n",
       "      <th>10</th>\n",
       "      <td>2017-01-01 02:30:00</td>\n",
       "      <td>197.4</td>\n",
       "      <td>0.047</td>\n",
       "      <td>88.2</td>\n",
       "      <td>0.021</td>\n",
       "      <td>789.6</td>\n",
       "      <td>352.8</td>\n",
       "    </tr>\n",
       "    <tr>\n",
       "      <th>11</th>\n",
       "      <td>2017-01-01 02:45:00</td>\n",
       "      <td>197.4</td>\n",
       "      <td>0.047</td>\n",
       "      <td>92.4</td>\n",
       "      <td>0.022</td>\n",
       "      <td>789.6</td>\n",
       "      <td>369.6</td>\n",
       "    </tr>\n",
       "    <tr>\n",
       "      <th>12</th>\n",
       "      <td>2017-01-01 03:00:00</td>\n",
       "      <td>201.6</td>\n",
       "      <td>0.048</td>\n",
       "      <td>96.6</td>\n",
       "      <td>0.023</td>\n",
       "      <td>806.4</td>\n",
       "      <td>386.4</td>\n",
       "    </tr>\n",
       "    <tr>\n",
       "      <th>13</th>\n",
       "      <td>2017-01-01 03:15:00</td>\n",
       "      <td>197.4</td>\n",
       "      <td>0.047</td>\n",
       "      <td>96.6</td>\n",
       "      <td>0.023</td>\n",
       "      <td>789.6</td>\n",
       "      <td>386.4</td>\n",
       "    </tr>\n",
       "    <tr>\n",
       "      <th>14</th>\n",
       "      <td>2017-01-01 03:30:00</td>\n",
       "      <td>201.6</td>\n",
       "      <td>0.048</td>\n",
       "      <td>88.2</td>\n",
       "      <td>0.021</td>\n",
       "      <td>806.4</td>\n",
       "      <td>352.8</td>\n",
       "    </tr>\n",
       "    <tr>\n",
       "      <th>15</th>\n",
       "      <td>2017-01-01 03:45:00</td>\n",
       "      <td>201.6</td>\n",
       "      <td>0.048</td>\n",
       "      <td>96.6</td>\n",
       "      <td>0.023</td>\n",
       "      <td>806.4</td>\n",
       "      <td>386.4</td>\n",
       "    </tr>\n",
       "    <tr>\n",
       "      <th>16</th>\n",
       "      <td>2017-01-01 04:00:00</td>\n",
       "      <td>201.6</td>\n",
       "      <td>0.048</td>\n",
       "      <td>96.6</td>\n",
       "      <td>0.023</td>\n",
       "      <td>806.4</td>\n",
       "      <td>386.4</td>\n",
       "    </tr>\n",
       "    <tr>\n",
       "      <th>17</th>\n",
       "      <td>2017-01-01 04:15:00</td>\n",
       "      <td>197.4</td>\n",
       "      <td>0.047</td>\n",
       "      <td>92.4</td>\n",
       "      <td>0.022</td>\n",
       "      <td>789.6</td>\n",
       "      <td>369.6</td>\n",
       "    </tr>\n",
       "    <tr>\n",
       "      <th>18</th>\n",
       "      <td>2017-01-01 04:30:00</td>\n",
       "      <td>197.4</td>\n",
       "      <td>0.047</td>\n",
       "      <td>100.8</td>\n",
       "      <td>0.024</td>\n",
       "      <td>789.6</td>\n",
       "      <td>403.2</td>\n",
       "    </tr>\n",
       "    <tr>\n",
       "      <th>19</th>\n",
       "      <td>2017-01-01 04:45:00</td>\n",
       "      <td>197.4</td>\n",
       "      <td>0.047</td>\n",
       "      <td>96.6</td>\n",
       "      <td>0.023</td>\n",
       "      <td>789.6</td>\n",
       "      <td>386.4</td>\n",
       "    </tr>\n",
       "  </tbody>\n",
       "</table>\n",
       "</div>"
      ],
      "text/plain": [
       "                tiempo  energia_activa  energia_activa_sin_factor  \\\n",
       "0  2017-01-01 00:00:00           205.8                      0.049   \n",
       "1  2017-01-01 00:15:00           205.8                      0.049   \n",
       "2  2017-01-01 00:30:00           210.0                      0.050   \n",
       "3  2017-01-01 00:45:00           205.8                      0.049   \n",
       "4  2017-01-01 01:00:00           205.8                      0.049   \n",
       "5  2017-01-01 01:15:00           201.6                      0.048   \n",
       "6  2017-01-01 01:30:00           205.8                      0.049   \n",
       "7  2017-01-01 01:45:00           201.6                      0.048   \n",
       "8  2017-01-01 02:00:00           201.6                      0.048   \n",
       "9  2017-01-01 02:15:00           201.6                      0.048   \n",
       "10 2017-01-01 02:30:00           197.4                      0.047   \n",
       "11 2017-01-01 02:45:00           197.4                      0.047   \n",
       "12 2017-01-01 03:00:00           201.6                      0.048   \n",
       "13 2017-01-01 03:15:00           197.4                      0.047   \n",
       "14 2017-01-01 03:30:00           201.6                      0.048   \n",
       "15 2017-01-01 03:45:00           201.6                      0.048   \n",
       "16 2017-01-01 04:00:00           201.6                      0.048   \n",
       "17 2017-01-01 04:15:00           197.4                      0.047   \n",
       "18 2017-01-01 04:30:00           197.4                      0.047   \n",
       "19 2017-01-01 04:45:00           197.4                      0.047   \n",
       "\n",
       "    energia_rectiva  energia_rectiva_sin_factor  demanda_activa  \\\n",
       "0              92.4                       0.022           823.2   \n",
       "1              88.2                       0.021           823.2   \n",
       "2              88.2                       0.021           840.0   \n",
       "3              84.0                       0.020           823.2   \n",
       "4              84.0                       0.020           823.2   \n",
       "5              84.0                       0.020           806.4   \n",
       "6              88.2                       0.021           823.2   \n",
       "7              92.4                       0.022           806.4   \n",
       "8              92.4                       0.022           806.4   \n",
       "9              88.2                       0.021           806.4   \n",
       "10             88.2                       0.021           789.6   \n",
       "11             92.4                       0.022           789.6   \n",
       "12             96.6                       0.023           806.4   \n",
       "13             96.6                       0.023           789.6   \n",
       "14             88.2                       0.021           806.4   \n",
       "15             96.6                       0.023           806.4   \n",
       "16             96.6                       0.023           806.4   \n",
       "17             92.4                       0.022           789.6   \n",
       "18            100.8                       0.024           789.6   \n",
       "19             96.6                       0.023           789.6   \n",
       "\n",
       "    demanda_reactiva  \n",
       "0              369.6  \n",
       "1              352.8  \n",
       "2              352.8  \n",
       "3              336.0  \n",
       "4              336.0  \n",
       "5              336.0  \n",
       "6              352.8  \n",
       "7              369.6  \n",
       "8              369.6  \n",
       "9              352.8  \n",
       "10             352.8  \n",
       "11             369.6  \n",
       "12             386.4  \n",
       "13             386.4  \n",
       "14             352.8  \n",
       "15             386.4  \n",
       "16             386.4  \n",
       "17             369.6  \n",
       "18             403.2  \n",
       "19             386.4  "
      ]
     },
     "execution_count": 242,
     "metadata": {},
     "output_type": "execute_result"
    }
   ],
   "source": [
    "df.head(20)"
   ]
  },
  {
   "cell_type": "code",
   "execution_count": 243,
   "id": "stylish-designation",
   "metadata": {},
   "outputs": [],
   "source": [
    "df.to_csv(bucket+\"med_principal_clean.csv\",index=False)"
   ]
  },
  {
   "cell_type": "code",
   "execution_count": null,
   "id": "7f60e8ee",
   "metadata": {},
   "outputs": [],
   "source": []
  },
  {
   "cell_type": "code",
   "execution_count": 244,
   "id": "proper-clearing",
   "metadata": {},
   "outputs": [],
   "source": [
    "df['tiempo'] = pd.to_datetime(df['tiempo'])"
   ]
  },
  {
   "cell_type": "code",
   "execution_count": 245,
   "id": "worldwide-index",
   "metadata": {},
   "outputs": [
    {
     "data": {
      "text/plain": [
       "tiempo                        datetime64[ns]\n",
       "energia_activa                       float64\n",
       "energia_activa_sin_factor            float64\n",
       "energia_rectiva                      float64\n",
       "energia_rectiva_sin_factor           float64\n",
       "demanda_activa                       float64\n",
       "demanda_reactiva                     float64\n",
       "dtype: object"
      ]
     },
     "execution_count": 245,
     "metadata": {},
     "output_type": "execute_result"
    }
   ],
   "source": [
    "df.dtypes"
   ]
  },
  {
   "cell_type": "code",
   "execution_count": 246,
   "id": "defined-behalf",
   "metadata": {},
   "outputs": [
    {
     "data": {
      "text/html": [
       "<div>\n",
       "<style scoped>\n",
       "    .dataframe tbody tr th:only-of-type {\n",
       "        vertical-align: middle;\n",
       "    }\n",
       "\n",
       "    .dataframe tbody tr th {\n",
       "        vertical-align: top;\n",
       "    }\n",
       "\n",
       "    .dataframe thead th {\n",
       "        text-align: right;\n",
       "    }\n",
       "</style>\n",
       "<table border=\"1\" class=\"dataframe\">\n",
       "  <thead>\n",
       "    <tr style=\"text-align: right;\">\n",
       "      <th></th>\n",
       "      <th>tiempo</th>\n",
       "      <th>energia_activa</th>\n",
       "      <th>energia_activa_sin_factor</th>\n",
       "      <th>energia_rectiva</th>\n",
       "      <th>energia_rectiva_sin_factor</th>\n",
       "      <th>demanda_activa</th>\n",
       "      <th>demanda_reactiva</th>\n",
       "    </tr>\n",
       "  </thead>\n",
       "  <tbody>\n",
       "    <tr>\n",
       "      <th>0</th>\n",
       "      <td>2017-01-01 00:00:00</td>\n",
       "      <td>205.8</td>\n",
       "      <td>0.049</td>\n",
       "      <td>92.4</td>\n",
       "      <td>0.022</td>\n",
       "      <td>823.2</td>\n",
       "      <td>369.6</td>\n",
       "    </tr>\n",
       "    <tr>\n",
       "      <th>1</th>\n",
       "      <td>2017-01-01 00:15:00</td>\n",
       "      <td>205.8</td>\n",
       "      <td>0.049</td>\n",
       "      <td>88.2</td>\n",
       "      <td>0.021</td>\n",
       "      <td>823.2</td>\n",
       "      <td>352.8</td>\n",
       "    </tr>\n",
       "    <tr>\n",
       "      <th>2</th>\n",
       "      <td>2017-01-01 00:30:00</td>\n",
       "      <td>210.0</td>\n",
       "      <td>0.050</td>\n",
       "      <td>88.2</td>\n",
       "      <td>0.021</td>\n",
       "      <td>840.0</td>\n",
       "      <td>352.8</td>\n",
       "    </tr>\n",
       "    <tr>\n",
       "      <th>3</th>\n",
       "      <td>2017-01-01 00:45:00</td>\n",
       "      <td>205.8</td>\n",
       "      <td>0.049</td>\n",
       "      <td>84.0</td>\n",
       "      <td>0.020</td>\n",
       "      <td>823.2</td>\n",
       "      <td>336.0</td>\n",
       "    </tr>\n",
       "    <tr>\n",
       "      <th>4</th>\n",
       "      <td>2017-01-01 01:00:00</td>\n",
       "      <td>205.8</td>\n",
       "      <td>0.049</td>\n",
       "      <td>84.0</td>\n",
       "      <td>0.020</td>\n",
       "      <td>823.2</td>\n",
       "      <td>336.0</td>\n",
       "    </tr>\n",
       "    <tr>\n",
       "      <th>5</th>\n",
       "      <td>2017-01-01 01:15:00</td>\n",
       "      <td>201.6</td>\n",
       "      <td>0.048</td>\n",
       "      <td>84.0</td>\n",
       "      <td>0.020</td>\n",
       "      <td>806.4</td>\n",
       "      <td>336.0</td>\n",
       "    </tr>\n",
       "    <tr>\n",
       "      <th>6</th>\n",
       "      <td>2017-01-01 01:30:00</td>\n",
       "      <td>205.8</td>\n",
       "      <td>0.049</td>\n",
       "      <td>88.2</td>\n",
       "      <td>0.021</td>\n",
       "      <td>823.2</td>\n",
       "      <td>352.8</td>\n",
       "    </tr>\n",
       "    <tr>\n",
       "      <th>7</th>\n",
       "      <td>2017-01-01 01:45:00</td>\n",
       "      <td>201.6</td>\n",
       "      <td>0.048</td>\n",
       "      <td>92.4</td>\n",
       "      <td>0.022</td>\n",
       "      <td>806.4</td>\n",
       "      <td>369.6</td>\n",
       "    </tr>\n",
       "    <tr>\n",
       "      <th>8</th>\n",
       "      <td>2017-01-01 02:00:00</td>\n",
       "      <td>201.6</td>\n",
       "      <td>0.048</td>\n",
       "      <td>92.4</td>\n",
       "      <td>0.022</td>\n",
       "      <td>806.4</td>\n",
       "      <td>369.6</td>\n",
       "    </tr>\n",
       "    <tr>\n",
       "      <th>9</th>\n",
       "      <td>2017-01-01 02:15:00</td>\n",
       "      <td>201.6</td>\n",
       "      <td>0.048</td>\n",
       "      <td>88.2</td>\n",
       "      <td>0.021</td>\n",
       "      <td>806.4</td>\n",
       "      <td>352.8</td>\n",
       "    </tr>\n",
       "    <tr>\n",
       "      <th>10</th>\n",
       "      <td>2017-01-01 02:30:00</td>\n",
       "      <td>197.4</td>\n",
       "      <td>0.047</td>\n",
       "      <td>88.2</td>\n",
       "      <td>0.021</td>\n",
       "      <td>789.6</td>\n",
       "      <td>352.8</td>\n",
       "    </tr>\n",
       "    <tr>\n",
       "      <th>11</th>\n",
       "      <td>2017-01-01 02:45:00</td>\n",
       "      <td>197.4</td>\n",
       "      <td>0.047</td>\n",
       "      <td>92.4</td>\n",
       "      <td>0.022</td>\n",
       "      <td>789.6</td>\n",
       "      <td>369.6</td>\n",
       "    </tr>\n",
       "    <tr>\n",
       "      <th>12</th>\n",
       "      <td>2017-01-01 03:00:00</td>\n",
       "      <td>201.6</td>\n",
       "      <td>0.048</td>\n",
       "      <td>96.6</td>\n",
       "      <td>0.023</td>\n",
       "      <td>806.4</td>\n",
       "      <td>386.4</td>\n",
       "    </tr>\n",
       "    <tr>\n",
       "      <th>13</th>\n",
       "      <td>2017-01-01 03:15:00</td>\n",
       "      <td>197.4</td>\n",
       "      <td>0.047</td>\n",
       "      <td>96.6</td>\n",
       "      <td>0.023</td>\n",
       "      <td>789.6</td>\n",
       "      <td>386.4</td>\n",
       "    </tr>\n",
       "    <tr>\n",
       "      <th>14</th>\n",
       "      <td>2017-01-01 03:30:00</td>\n",
       "      <td>201.6</td>\n",
       "      <td>0.048</td>\n",
       "      <td>88.2</td>\n",
       "      <td>0.021</td>\n",
       "      <td>806.4</td>\n",
       "      <td>352.8</td>\n",
       "    </tr>\n",
       "    <tr>\n",
       "      <th>15</th>\n",
       "      <td>2017-01-01 03:45:00</td>\n",
       "      <td>201.6</td>\n",
       "      <td>0.048</td>\n",
       "      <td>96.6</td>\n",
       "      <td>0.023</td>\n",
       "      <td>806.4</td>\n",
       "      <td>386.4</td>\n",
       "    </tr>\n",
       "    <tr>\n",
       "      <th>16</th>\n",
       "      <td>2017-01-01 04:00:00</td>\n",
       "      <td>201.6</td>\n",
       "      <td>0.048</td>\n",
       "      <td>96.6</td>\n",
       "      <td>0.023</td>\n",
       "      <td>806.4</td>\n",
       "      <td>386.4</td>\n",
       "    </tr>\n",
       "    <tr>\n",
       "      <th>17</th>\n",
       "      <td>2017-01-01 04:15:00</td>\n",
       "      <td>197.4</td>\n",
       "      <td>0.047</td>\n",
       "      <td>92.4</td>\n",
       "      <td>0.022</td>\n",
       "      <td>789.6</td>\n",
       "      <td>369.6</td>\n",
       "    </tr>\n",
       "    <tr>\n",
       "      <th>18</th>\n",
       "      <td>2017-01-01 04:30:00</td>\n",
       "      <td>197.4</td>\n",
       "      <td>0.047</td>\n",
       "      <td>100.8</td>\n",
       "      <td>0.024</td>\n",
       "      <td>789.6</td>\n",
       "      <td>403.2</td>\n",
       "    </tr>\n",
       "    <tr>\n",
       "      <th>19</th>\n",
       "      <td>2017-01-01 04:45:00</td>\n",
       "      <td>197.4</td>\n",
       "      <td>0.047</td>\n",
       "      <td>96.6</td>\n",
       "      <td>0.023</td>\n",
       "      <td>789.6</td>\n",
       "      <td>386.4</td>\n",
       "    </tr>\n",
       "  </tbody>\n",
       "</table>\n",
       "</div>"
      ],
      "text/plain": [
       "                tiempo  energia_activa  energia_activa_sin_factor  \\\n",
       "0  2017-01-01 00:00:00           205.8                      0.049   \n",
       "1  2017-01-01 00:15:00           205.8                      0.049   \n",
       "2  2017-01-01 00:30:00           210.0                      0.050   \n",
       "3  2017-01-01 00:45:00           205.8                      0.049   \n",
       "4  2017-01-01 01:00:00           205.8                      0.049   \n",
       "5  2017-01-01 01:15:00           201.6                      0.048   \n",
       "6  2017-01-01 01:30:00           205.8                      0.049   \n",
       "7  2017-01-01 01:45:00           201.6                      0.048   \n",
       "8  2017-01-01 02:00:00           201.6                      0.048   \n",
       "9  2017-01-01 02:15:00           201.6                      0.048   \n",
       "10 2017-01-01 02:30:00           197.4                      0.047   \n",
       "11 2017-01-01 02:45:00           197.4                      0.047   \n",
       "12 2017-01-01 03:00:00           201.6                      0.048   \n",
       "13 2017-01-01 03:15:00           197.4                      0.047   \n",
       "14 2017-01-01 03:30:00           201.6                      0.048   \n",
       "15 2017-01-01 03:45:00           201.6                      0.048   \n",
       "16 2017-01-01 04:00:00           201.6                      0.048   \n",
       "17 2017-01-01 04:15:00           197.4                      0.047   \n",
       "18 2017-01-01 04:30:00           197.4                      0.047   \n",
       "19 2017-01-01 04:45:00           197.4                      0.047   \n",
       "\n",
       "    energia_rectiva  energia_rectiva_sin_factor  demanda_activa  \\\n",
       "0              92.4                       0.022           823.2   \n",
       "1              88.2                       0.021           823.2   \n",
       "2              88.2                       0.021           840.0   \n",
       "3              84.0                       0.020           823.2   \n",
       "4              84.0                       0.020           823.2   \n",
       "5              84.0                       0.020           806.4   \n",
       "6              88.2                       0.021           823.2   \n",
       "7              92.4                       0.022           806.4   \n",
       "8              92.4                       0.022           806.4   \n",
       "9              88.2                       0.021           806.4   \n",
       "10             88.2                       0.021           789.6   \n",
       "11             92.4                       0.022           789.6   \n",
       "12             96.6                       0.023           806.4   \n",
       "13             96.6                       0.023           789.6   \n",
       "14             88.2                       0.021           806.4   \n",
       "15             96.6                       0.023           806.4   \n",
       "16             96.6                       0.023           806.4   \n",
       "17             92.4                       0.022           789.6   \n",
       "18            100.8                       0.024           789.6   \n",
       "19             96.6                       0.023           789.6   \n",
       "\n",
       "    demanda_reactiva  \n",
       "0              369.6  \n",
       "1              352.8  \n",
       "2              352.8  \n",
       "3              336.0  \n",
       "4              336.0  \n",
       "5              336.0  \n",
       "6              352.8  \n",
       "7              369.6  \n",
       "8              369.6  \n",
       "9              352.8  \n",
       "10             352.8  \n",
       "11             369.6  \n",
       "12             386.4  \n",
       "13             386.4  \n",
       "14             352.8  \n",
       "15             386.4  \n",
       "16             386.4  \n",
       "17             369.6  \n",
       "18             403.2  \n",
       "19             386.4  "
      ]
     },
     "execution_count": 246,
     "metadata": {},
     "output_type": "execute_result"
    }
   ],
   "source": [
    "df.head(20)"
   ]
  },
  {
   "cell_type": "markdown",
   "id": "9759f5aa",
   "metadata": {},
   "source": [
    "# Limpieza de Dataset Clima"
   ]
  },
  {
   "cell_type": "code",
   "execution_count": 247,
   "id": "dae5befa",
   "metadata": {},
   "outputs": [],
   "source": [
    "ruta = 'C:/Users/franx/Documents/MCD/Tesis/Raw/Datos_meteorologicos_Edificio_Litoral/'"
   ]
  },
  {
   "cell_type": "code",
   "execution_count": 248,
   "id": "01411e47",
   "metadata": {},
   "outputs": [
    {
     "data": {
      "text/plain": [
       "'C:/Users/franx/Documents/MCD/Tesis/Raw/Datos_meteorologicos_Edificio_Litoral/'"
      ]
     },
     "execution_count": 248,
     "metadata": {},
     "output_type": "execute_result"
    }
   ],
   "source": [
    "ruta"
   ]
  },
  {
   "cell_type": "code",
   "execution_count": 249,
   "id": "great-madness",
   "metadata": {},
   "outputs": [],
   "source": [
    "df = pd.read_csv(ruta+'01.csv',header=0)"
   ]
  },
  {
   "cell_type": "code",
   "execution_count": 250,
   "id": "partial-opinion",
   "metadata": {},
   "outputs": [
    {
     "data": {
      "text/html": [
       "<div>\n",
       "<style scoped>\n",
       "    .dataframe tbody tr th:only-of-type {\n",
       "        vertical-align: middle;\n",
       "    }\n",
       "\n",
       "    .dataframe tbody tr th {\n",
       "        vertical-align: top;\n",
       "    }\n",
       "\n",
       "    .dataframe thead th {\n",
       "        text-align: right;\n",
       "    }\n",
       "</style>\n",
       "<table border=\"1\" class=\"dataframe\">\n",
       "  <thead>\n",
       "    <tr style=\"text-align: right;\">\n",
       "      <th></th>\n",
       "      <th>N</th>\n",
       "      <th>Fecha Tiempo</th>\n",
       "      <th>TempCelcius</th>\n",
       "      <th>HR</th>\n",
       "      <th>Lluviamm</th>\n",
       "      <th>Dirdelviento</th>\n",
       "      <th>Veldelviento_m/s</th>\n",
       "      <th>Velderafagas_m/s</th>\n",
       "      <th>Bat</th>\n",
       "    </tr>\n",
       "  </thead>\n",
       "  <tbody>\n",
       "    <tr>\n",
       "      <th>0</th>\n",
       "      <td>1</td>\n",
       "      <td>01/21/16 02:00:00 AM</td>\n",
       "      <td>25.817</td>\n",
       "      <td>87.9</td>\n",
       "      <td>0.0</td>\n",
       "      <td>146.0</td>\n",
       "      <td>-888.88</td>\n",
       "      <td>-888.88</td>\n",
       "      <td>4.321</td>\n",
       "    </tr>\n",
       "    <tr>\n",
       "      <th>1</th>\n",
       "      <td>2</td>\n",
       "      <td>01/21/16 02:10:00 AM</td>\n",
       "      <td>25.671</td>\n",
       "      <td>88.3</td>\n",
       "      <td>0.0</td>\n",
       "      <td>181.1</td>\n",
       "      <td>-888.88</td>\n",
       "      <td>-888.88</td>\n",
       "      <td>4.321</td>\n",
       "    </tr>\n",
       "    <tr>\n",
       "      <th>2</th>\n",
       "      <td>3</td>\n",
       "      <td>01/21/16 02:20:00 AM</td>\n",
       "      <td>25.623</td>\n",
       "      <td>88.7</td>\n",
       "      <td>0.0</td>\n",
       "      <td>164.3</td>\n",
       "      <td>-888.88</td>\n",
       "      <td>-888.88</td>\n",
       "      <td>4.321</td>\n",
       "    </tr>\n",
       "    <tr>\n",
       "      <th>3</th>\n",
       "      <td>4</td>\n",
       "      <td>01/21/16 02:30:00 AM</td>\n",
       "      <td>25.623</td>\n",
       "      <td>88.9</td>\n",
       "      <td>0.0</td>\n",
       "      <td>181.1</td>\n",
       "      <td>-888.88</td>\n",
       "      <td>-888.88</td>\n",
       "      <td>4.303</td>\n",
       "    </tr>\n",
       "    <tr>\n",
       "      <th>4</th>\n",
       "      <td>5</td>\n",
       "      <td>01/21/16 02:40:00 AM</td>\n",
       "      <td>25.598</td>\n",
       "      <td>89.1</td>\n",
       "      <td>0.0</td>\n",
       "      <td>151.6</td>\n",
       "      <td>-888.88</td>\n",
       "      <td>-888.88</td>\n",
       "      <td>4.315</td>\n",
       "    </tr>\n",
       "  </tbody>\n",
       "</table>\n",
       "</div>"
      ],
      "text/plain": [
       "   N          Fecha Tiempo  TempCelcius     HR  Lluviamm  Dirdelviento  \\\n",
       "0  1  01/21/16 02:00:00 AM        25.817  87.9       0.0         146.0   \n",
       "1  2  01/21/16 02:10:00 AM        25.671  88.3       0.0         181.1   \n",
       "2  3  01/21/16 02:20:00 AM        25.623  88.7       0.0         164.3   \n",
       "3  4  01/21/16 02:30:00 AM        25.623  88.9       0.0         181.1   \n",
       "4  5  01/21/16 02:40:00 AM        25.598  89.1       0.0         151.6   \n",
       "\n",
       "   Veldelviento_m/s  Velderafagas_m/s    Bat  \n",
       "0           -888.88           -888.88  4.321  \n",
       "1           -888.88           -888.88  4.321  \n",
       "2           -888.88           -888.88  4.321  \n",
       "3           -888.88           -888.88  4.303  \n",
       "4           -888.88           -888.88  4.315  "
      ]
     },
     "execution_count": 250,
     "metadata": {},
     "output_type": "execute_result"
    }
   ],
   "source": [
    "df.head()"
   ]
  },
  {
   "cell_type": "code",
   "execution_count": 251,
   "id": "a3333561",
   "metadata": {},
   "outputs": [],
   "source": [
    "nombres_variables = df.columns"
   ]
  },
  {
   "cell_type": "code",
   "execution_count": 252,
   "id": "f769db58",
   "metadata": {},
   "outputs": [
    {
     "data": {
      "text/plain": [
       "Index(['N', 'Fecha Tiempo', 'TempCelcius ', 'HR', 'Lluviamm', 'Dirdelviento',\n",
       "       'Veldelviento_m/s', 'Velderafagas_m/s', 'Bat'],\n",
       "      dtype='object')"
      ]
     },
     "execution_count": 252,
     "metadata": {},
     "output_type": "execute_result"
    }
   ],
   "source": [
    "nombres_variables"
   ]
  },
  {
   "cell_type": "code",
   "execution_count": 253,
   "id": "a7ad25aa",
   "metadata": {},
   "outputs": [],
   "source": [
    "df = df.rename(columns={'Fecha Tiempo':'Fecha Tiempo', \n",
    "                        'TempCelcius ':'TempCelcius', \n",
    "                        'HR':'HR', \n",
    "                        'Lluviamm':'Lluviamm', \n",
    "                        'Dirdelviento':'Dirdelviento',\n",
    "                        'Veldelviento_m/s':'Veldelviento_m/s', \n",
    "                        'Velderafagas_m/s':'Velderafagas_m/s',\n",
    "                        'Bat':'Bat'})"
   ]
  },
  {
   "cell_type": "code",
   "execution_count": 254,
   "id": "permanent-parent",
   "metadata": {},
   "outputs": [
    {
     "data": {
      "text/plain": [
       "(61536, 9)"
      ]
     },
     "execution_count": 254,
     "metadata": {},
     "output_type": "execute_result"
    }
   ],
   "source": [
    "df.shape"
   ]
  },
  {
   "cell_type": "code",
   "execution_count": null,
   "id": "vocational-berkeley",
   "metadata": {},
   "outputs": [],
   "source": []
  },
  {
   "cell_type": "code",
   "execution_count": 255,
   "id": "adaptive-luther",
   "metadata": {},
   "outputs": [],
   "source": [
    "df.drop(['N'], axis=1, inplace=True)"
   ]
  },
  {
   "cell_type": "code",
   "execution_count": 256,
   "id": "organizational-david",
   "metadata": {},
   "outputs": [
    {
     "data": {
      "text/plain": [
       "Fecha Tiempo         object\n",
       "TempCelcius         float64\n",
       "HR                  float64\n",
       "Lluviamm            float64\n",
       "Dirdelviento        float64\n",
       "Veldelviento_m/s    float64\n",
       "Velderafagas_m/s    float64\n",
       "Bat                 float64\n",
       "dtype: object"
      ]
     },
     "execution_count": 256,
     "metadata": {},
     "output_type": "execute_result"
    }
   ],
   "source": [
    "df.dtypes"
   ]
  },
  {
   "cell_type": "code",
   "execution_count": 257,
   "id": "prerequisite-seeker",
   "metadata": {},
   "outputs": [
    {
     "data": {
      "text/html": [
       "<div>\n",
       "<style scoped>\n",
       "    .dataframe tbody tr th:only-of-type {\n",
       "        vertical-align: middle;\n",
       "    }\n",
       "\n",
       "    .dataframe tbody tr th {\n",
       "        vertical-align: top;\n",
       "    }\n",
       "\n",
       "    .dataframe thead th {\n",
       "        text-align: right;\n",
       "    }\n",
       "</style>\n",
       "<table border=\"1\" class=\"dataframe\">\n",
       "  <thead>\n",
       "    <tr style=\"text-align: right;\">\n",
       "      <th></th>\n",
       "      <th>Fecha Tiempo</th>\n",
       "      <th>TempCelcius</th>\n",
       "      <th>HR</th>\n",
       "      <th>Lluviamm</th>\n",
       "      <th>Dirdelviento</th>\n",
       "      <th>Veldelviento_m/s</th>\n",
       "      <th>Velderafagas_m/s</th>\n",
       "      <th>Bat</th>\n",
       "    </tr>\n",
       "  </thead>\n",
       "  <tbody>\n",
       "    <tr>\n",
       "      <th>0</th>\n",
       "      <td>01/21/16 02:00:00 AM</td>\n",
       "      <td>25.817</td>\n",
       "      <td>87.9</td>\n",
       "      <td>0.0</td>\n",
       "      <td>146.0</td>\n",
       "      <td>-888.88</td>\n",
       "      <td>-888.88</td>\n",
       "      <td>4.321</td>\n",
       "    </tr>\n",
       "  </tbody>\n",
       "</table>\n",
       "</div>"
      ],
      "text/plain": [
       "           Fecha Tiempo  TempCelcius    HR  Lluviamm  Dirdelviento  \\\n",
       "0  01/21/16 02:00:00 AM       25.817  87.9       0.0         146.0   \n",
       "\n",
       "   Veldelviento_m/s  Velderafagas_m/s    Bat  \n",
       "0           -888.88           -888.88  4.321  "
      ]
     },
     "execution_count": 257,
     "metadata": {},
     "output_type": "execute_result"
    }
   ],
   "source": [
    "df.head(1)"
   ]
  },
  {
   "cell_type": "code",
   "execution_count": 258,
   "id": "1c2256b7",
   "metadata": {},
   "outputs": [],
   "source": [
    "df['Fecha Tiempo'] = pd.to_datetime(df['Fecha Tiempo'])"
   ]
  },
  {
   "cell_type": "code",
   "execution_count": 259,
   "id": "be400366",
   "metadata": {},
   "outputs": [],
   "source": [
    "df1 = pd.read_csv(ruta+'02.csv',header=1, delimiter=';')"
   ]
  },
  {
   "cell_type": "code",
   "execution_count": 260,
   "id": "3133b46a",
   "metadata": {},
   "outputs": [
    {
     "data": {
      "text/html": [
       "<div>\n",
       "<style scoped>\n",
       "    .dataframe tbody tr th:only-of-type {\n",
       "        vertical-align: middle;\n",
       "    }\n",
       "\n",
       "    .dataframe tbody tr th {\n",
       "        vertical-align: top;\n",
       "    }\n",
       "\n",
       "    .dataframe thead th {\n",
       "        text-align: right;\n",
       "    }\n",
       "</style>\n",
       "<table border=\"1\" class=\"dataframe\">\n",
       "  <thead>\n",
       "    <tr style=\"text-align: right;\">\n",
       "      <th></th>\n",
       "      <th>N.�</th>\n",
       "      <th>Fecha Tiempo. GMT-05:00</th>\n",
       "      <th>Temp. °C (LGR S/N: 10450278. SEN S/N: 10431781. LBL: AmbTemp</th>\n",
       "      <th>HR. % (LGR S/N: 10450278. SEN S/N: 10431781. LBL: AmbHR)</th>\n",
       "      <th>Lluvia. mm (LGR S/N: 10450278. SEN S/N: 10440752. LBL: Lluvia)</th>\n",
       "      <th>Dirección del viento. ø (LGR S/N: 10450278. SEN S/N: 10468828. LBL: Direccion del vient</th>\n",
       "      <th>Velocidad del viento. m/s (LGR S/N: 10450278. SEN S/N: 10470750. LBL: Velocidad del viento)</th>\n",
       "      <th>Velocidad de Ráfagas. m/s (LGR S/N: 10450278. SEN S/N: 10470750. LBL: Velocidad de rafagas</th>\n",
       "    </tr>\n",
       "  </thead>\n",
       "  <tbody>\n",
       "    <tr>\n",
       "      <th>0</th>\n",
       "      <td>1</td>\n",
       "      <td>03/23/17 10:21:40 AM</td>\n",
       "      <td>30.672</td>\n",
       "      <td>71.4</td>\n",
       "      <td>0.0</td>\n",
       "      <td>130.6</td>\n",
       "      <td>1.26</td>\n",
       "      <td>1.76</td>\n",
       "    </tr>\n",
       "    <tr>\n",
       "      <th>1</th>\n",
       "      <td>2</td>\n",
       "      <td>03/23/17 10:31:40 AM</td>\n",
       "      <td>31.001</td>\n",
       "      <td>72.0</td>\n",
       "      <td>0.0</td>\n",
       "      <td>161.5</td>\n",
       "      <td>0.76</td>\n",
       "      <td>3.02</td>\n",
       "    </tr>\n",
       "  </tbody>\n",
       "</table>\n",
       "</div>"
      ],
      "text/plain": [
       "   N.� Fecha Tiempo. GMT-05:00  \\\n",
       "0    1    03/23/17 10:21:40 AM   \n",
       "1    2    03/23/17 10:31:40 AM   \n",
       "\n",
       "   Temp. °C (LGR S/N: 10450278. SEN S/N: 10431781. LBL: AmbTemp  \\\n",
       "0                                             30.672              \n",
       "1                                             31.001              \n",
       "\n",
       "   HR. % (LGR S/N: 10450278. SEN S/N: 10431781. LBL: AmbHR)  \\\n",
       "0                                               71.4          \n",
       "1                                               72.0          \n",
       "\n",
       "   Lluvia. mm (LGR S/N: 10450278. SEN S/N: 10440752. LBL: Lluvia)  \\\n",
       "0                                                0.0                \n",
       "1                                                0.0                \n",
       "\n",
       "   Dirección del viento. ø (LGR S/N: 10450278. SEN S/N: 10468828. LBL: Direccion del vient  \\\n",
       "0                                              130.6                                         \n",
       "1                                              161.5                                         \n",
       "\n",
       "   Velocidad del viento. m/s (LGR S/N: 10450278. SEN S/N: 10470750. LBL: Velocidad del viento)  \\\n",
       "0                                               1.26                                             \n",
       "1                                               0.76                                             \n",
       "\n",
       "   Velocidad de Ráfagas. m/s (LGR S/N: 10450278. SEN S/N: 10470750. LBL: Velocidad de rafagas  \n",
       "0                                               1.76                                           \n",
       "1                                               3.02                                           "
      ]
     },
     "execution_count": 260,
     "metadata": {},
     "output_type": "execute_result"
    }
   ],
   "source": [
    "df1.head(2)"
   ]
  },
  {
   "cell_type": "code",
   "execution_count": 261,
   "id": "87097ef9",
   "metadata": {},
   "outputs": [],
   "source": [
    "nombres_variables = df1.columns"
   ]
  },
  {
   "cell_type": "code",
   "execution_count": 262,
   "id": "b005a882",
   "metadata": {},
   "outputs": [
    {
     "data": {
      "text/plain": [
       "Index(['N.�', 'Fecha Tiempo. GMT-05:00',\n",
       "       'Temp. °C (LGR S/N: 10450278. SEN S/N: 10431781. LBL: AmbTemp',\n",
       "       'HR. % (LGR S/N: 10450278. SEN S/N: 10431781. LBL: AmbHR)',\n",
       "       'Lluvia. mm (LGR S/N: 10450278. SEN S/N: 10440752. LBL: Lluvia)',\n",
       "       'Dirección del viento. ø (LGR S/N: 10450278. SEN S/N: 10468828. LBL: Direccion del vient',\n",
       "       'Velocidad del viento. m/s (LGR S/N: 10450278. SEN S/N: 10470750. LBL: Velocidad del viento)',\n",
       "       'Velocidad de Ráfagas. m/s (LGR S/N: 10450278. SEN S/N: 10470750. LBL: Velocidad de rafagas'],\n",
       "      dtype='object')"
      ]
     },
     "execution_count": 262,
     "metadata": {},
     "output_type": "execute_result"
    }
   ],
   "source": [
    "nombres_variables"
   ]
  },
  {
   "cell_type": "code",
   "execution_count": 263,
   "id": "08ffdaa3",
   "metadata": {},
   "outputs": [],
   "source": [
    "df1 = df1.rename(columns={'N.�':'N', 'Fecha Tiempo. GMT-05:00':'Fecha Tiempo',\n",
    "                          'Temp. °C (LGR S/N: 10450278. SEN S/N: 10431781. LBL: AmbTemp':'TempCelcius',\n",
    "                          'HR. % (LGR S/N: 10450278. SEN S/N: 10431781. LBL: AmbHR)':'HR',\n",
    "                          'Lluvia. mm (LGR S/N: 10450278. SEN S/N: 10440752. LBL: Lluvia)':'Lluviamm',\n",
    "                          'Dirección del viento. ø (LGR S/N: 10450278. SEN S/N: 10468828. LBL: Direccion del vient':'Dirdelviento',\n",
    "                          'Velocidad del viento. m/s (LGR S/N: 10450278. SEN S/N: 10470750. LBL: Velocidad del viento)':'Veldelviento_m/s',\n",
    "                          'Velocidad de Ráfagas. m/s (LGR S/N: 10450278. SEN S/N: 10470750. LBL: Velocidad de rafagas':'Velderafagas_m/s'})"
   ]
  },
  {
   "cell_type": "code",
   "execution_count": 264,
   "id": "dcbcdc7b",
   "metadata": {},
   "outputs": [
    {
     "data": {
      "text/html": [
       "<div>\n",
       "<style scoped>\n",
       "    .dataframe tbody tr th:only-of-type {\n",
       "        vertical-align: middle;\n",
       "    }\n",
       "\n",
       "    .dataframe tbody tr th {\n",
       "        vertical-align: top;\n",
       "    }\n",
       "\n",
       "    .dataframe thead th {\n",
       "        text-align: right;\n",
       "    }\n",
       "</style>\n",
       "<table border=\"1\" class=\"dataframe\">\n",
       "  <thead>\n",
       "    <tr style=\"text-align: right;\">\n",
       "      <th></th>\n",
       "      <th>N</th>\n",
       "      <th>Fecha Tiempo</th>\n",
       "      <th>TempCelcius</th>\n",
       "      <th>HR</th>\n",
       "      <th>Lluviamm</th>\n",
       "      <th>Dirdelviento</th>\n",
       "      <th>Veldelviento_m/s</th>\n",
       "      <th>Velderafagas_m/s</th>\n",
       "    </tr>\n",
       "  </thead>\n",
       "  <tbody>\n",
       "    <tr>\n",
       "      <th>0</th>\n",
       "      <td>1</td>\n",
       "      <td>03/23/17 10:21:40 AM</td>\n",
       "      <td>30.672</td>\n",
       "      <td>71.4</td>\n",
       "      <td>0.0</td>\n",
       "      <td>130.6</td>\n",
       "      <td>1.26</td>\n",
       "      <td>1.76</td>\n",
       "    </tr>\n",
       "    <tr>\n",
       "      <th>1</th>\n",
       "      <td>2</td>\n",
       "      <td>03/23/17 10:31:40 AM</td>\n",
       "      <td>31.001</td>\n",
       "      <td>72.0</td>\n",
       "      <td>0.0</td>\n",
       "      <td>161.5</td>\n",
       "      <td>0.76</td>\n",
       "      <td>3.02</td>\n",
       "    </tr>\n",
       "  </tbody>\n",
       "</table>\n",
       "</div>"
      ],
      "text/plain": [
       "   N          Fecha Tiempo  TempCelcius    HR  Lluviamm  Dirdelviento  \\\n",
       "0  1  03/23/17 10:21:40 AM       30.672  71.4       0.0         130.6   \n",
       "1  2  03/23/17 10:31:40 AM       31.001  72.0       0.0         161.5   \n",
       "\n",
       "   Veldelviento_m/s  Velderafagas_m/s  \n",
       "0              1.26              1.76  \n",
       "1              0.76              3.02  "
      ]
     },
     "execution_count": 264,
     "metadata": {},
     "output_type": "execute_result"
    }
   ],
   "source": [
    "df1.head(2)"
   ]
  },
  {
   "cell_type": "code",
   "execution_count": 265,
   "id": "fe5e2d1e",
   "metadata": {},
   "outputs": [],
   "source": [
    "df2 = pd.read_csv(ruta+'03.csv',header=1, delimiter=',')"
   ]
  },
  {
   "cell_type": "code",
   "execution_count": 266,
   "id": "3381ff72",
   "metadata": {},
   "outputs": [
    {
     "data": {
      "text/html": [
       "<div>\n",
       "<style scoped>\n",
       "    .dataframe tbody tr th:only-of-type {\n",
       "        vertical-align: middle;\n",
       "    }\n",
       "\n",
       "    .dataframe tbody tr th {\n",
       "        vertical-align: top;\n",
       "    }\n",
       "\n",
       "    .dataframe thead th {\n",
       "        text-align: right;\n",
       "    }\n",
       "</style>\n",
       "<table border=\"1\" class=\"dataframe\">\n",
       "  <thead>\n",
       "    <tr style=\"text-align: right;\">\n",
       "      <th></th>\n",
       "      <th>N.º</th>\n",
       "      <th>Fecha Tiempo, GMT-05:00</th>\n",
       "      <th>Temp, °C (LGR S/N: 10450278, SEN S/N: 10431781, LBL: AmbTemp)</th>\n",
       "      <th>HR, % (LGR S/N: 10450278, SEN S/N: 10431781, LBL: AmbHR)</th>\n",
       "      <th>Lluvia, mm (LGR S/N: 10450278, SEN S/N: 10440752, LBL: Lluvia)</th>\n",
       "      <th>Dirección del viento, ø (LGR S/N: 10450278, SEN S/N: 10468828, LBL: Direccion del viento)</th>\n",
       "      <th>Velocidad del viento, m/s (LGR S/N: 10450278, SEN S/N: 10470750, LBL: Velocidad del viento)</th>\n",
       "      <th>Velocidad de Ráfagas, m/s (LGR S/N: 10450278, SEN S/N: 10470750, LBL: Velocidad de rafagas)</th>\n",
       "    </tr>\n",
       "  </thead>\n",
       "  <tbody>\n",
       "    <tr>\n",
       "      <th>0</th>\n",
       "      <td>1</td>\n",
       "      <td>01/20/18 03:51:40 PM</td>\n",
       "      <td>30.016</td>\n",
       "      <td>67.6</td>\n",
       "      <td>0.0</td>\n",
       "      <td>345.4</td>\n",
       "      <td>0.50</td>\n",
       "      <td>2.27</td>\n",
       "    </tr>\n",
       "    <tr>\n",
       "      <th>1</th>\n",
       "      <td>2</td>\n",
       "      <td>01/20/18 04:01:40 PM</td>\n",
       "      <td>29.565</td>\n",
       "      <td>66.7</td>\n",
       "      <td>0.0</td>\n",
       "      <td>16.8</td>\n",
       "      <td>0.76</td>\n",
       "      <td>2.52</td>\n",
       "    </tr>\n",
       "  </tbody>\n",
       "</table>\n",
       "</div>"
      ],
      "text/plain": [
       "   N.º Fecha Tiempo, GMT-05:00  \\\n",
       "0    1    01/20/18 03:51:40 PM   \n",
       "1    2    01/20/18 04:01:40 PM   \n",
       "\n",
       "   Temp, °C (LGR S/N: 10450278, SEN S/N: 10431781, LBL: AmbTemp)  \\\n",
       "0                                             30.016               \n",
       "1                                             29.565               \n",
       "\n",
       "   HR, % (LGR S/N: 10450278, SEN S/N: 10431781, LBL: AmbHR)  \\\n",
       "0                                               67.6          \n",
       "1                                               66.7          \n",
       "\n",
       "   Lluvia, mm (LGR S/N: 10450278, SEN S/N: 10440752, LBL: Lluvia)  \\\n",
       "0                                                0.0                \n",
       "1                                                0.0                \n",
       "\n",
       "   Dirección del viento, ø (LGR S/N: 10450278, SEN S/N: 10468828, LBL: Direccion del viento)  \\\n",
       "0                                              345.4                                           \n",
       "1                                               16.8                                           \n",
       "\n",
       "   Velocidad del viento, m/s (LGR S/N: 10450278, SEN S/N: 10470750, LBL: Velocidad del viento)  \\\n",
       "0                                               0.50                                             \n",
       "1                                               0.76                                             \n",
       "\n",
       "   Velocidad de Ráfagas, m/s (LGR S/N: 10450278, SEN S/N: 10470750, LBL: Velocidad de rafagas)  \n",
       "0                                               2.27                                            \n",
       "1                                               2.52                                            "
      ]
     },
     "execution_count": 266,
     "metadata": {},
     "output_type": "execute_result"
    }
   ],
   "source": [
    "df2.head(2)"
   ]
  },
  {
   "cell_type": "code",
   "execution_count": 267,
   "id": "809ba6a2",
   "metadata": {},
   "outputs": [],
   "source": [
    "nombres_variables = df2.columns"
   ]
  },
  {
   "cell_type": "code",
   "execution_count": 268,
   "id": "68eaa550",
   "metadata": {},
   "outputs": [
    {
     "data": {
      "text/plain": [
       "Index(['N.º', 'Fecha Tiempo, GMT-05:00',\n",
       "       'Temp, °C (LGR S/N: 10450278, SEN S/N: 10431781, LBL: AmbTemp)',\n",
       "       'HR, % (LGR S/N: 10450278, SEN S/N: 10431781, LBL: AmbHR)',\n",
       "       'Lluvia, mm (LGR S/N: 10450278, SEN S/N: 10440752, LBL: Lluvia)',\n",
       "       'Dirección del viento, ø (LGR S/N: 10450278, SEN S/N: 10468828, LBL: Direccion del viento)',\n",
       "       'Velocidad del viento, m/s (LGR S/N: 10450278, SEN S/N: 10470750, LBL: Velocidad del viento)',\n",
       "       'Velocidad de Ráfagas, m/s (LGR S/N: 10450278, SEN S/N: 10470750, LBL: Velocidad de rafagas)'],\n",
       "      dtype='object')"
      ]
     },
     "execution_count": 268,
     "metadata": {},
     "output_type": "execute_result"
    }
   ],
   "source": [
    "nombres_variables"
   ]
  },
  {
   "cell_type": "code",
   "execution_count": 269,
   "id": "cf1e4f74",
   "metadata": {},
   "outputs": [],
   "source": [
    "df2 = df2.rename(columns={'N.º':'N', 'Fecha Tiempo, GMT-05:00':'Fecha Tiempo',\n",
    "                          'Temp, °C (LGR S/N: 10450278, SEN S/N: 10431781, LBL: AmbTemp)':'TempCelcius',\n",
    "                          'HR, % (LGR S/N: 10450278, SEN S/N: 10431781, LBL: AmbHR)':'HR',\n",
    "                          'Lluvia, mm (LGR S/N: 10450278, SEN S/N: 10440752, LBL: Lluvia)':'Lluviamm',\n",
    "                          'Dirección del viento, ø (LGR S/N: 10450278, SEN S/N: 10468828, LBL: Direccion del viento)':'Dirdelviento',\n",
    "                          'Velocidad del viento, m/s (LGR S/N: 10450278, SEN S/N: 10470750, LBL: Velocidad del viento)':'Veldelviento_m/s',\n",
    "                          'Velocidad de Ráfagas, m/s (LGR S/N: 10450278, SEN S/N: 10470750, LBL: Velocidad de rafagas)':'Velderafagas_m/s'})"
   ]
  },
  {
   "cell_type": "code",
   "execution_count": 270,
   "id": "6000183f",
   "metadata": {},
   "outputs": [
    {
     "data": {
      "text/html": [
       "<div>\n",
       "<style scoped>\n",
       "    .dataframe tbody tr th:only-of-type {\n",
       "        vertical-align: middle;\n",
       "    }\n",
       "\n",
       "    .dataframe tbody tr th {\n",
       "        vertical-align: top;\n",
       "    }\n",
       "\n",
       "    .dataframe thead th {\n",
       "        text-align: right;\n",
       "    }\n",
       "</style>\n",
       "<table border=\"1\" class=\"dataframe\">\n",
       "  <thead>\n",
       "    <tr style=\"text-align: right;\">\n",
       "      <th></th>\n",
       "      <th>N</th>\n",
       "      <th>Fecha Tiempo</th>\n",
       "      <th>TempCelcius</th>\n",
       "      <th>HR</th>\n",
       "      <th>Lluviamm</th>\n",
       "      <th>Dirdelviento</th>\n",
       "      <th>Veldelviento_m/s</th>\n",
       "      <th>Velderafagas_m/s</th>\n",
       "    </tr>\n",
       "  </thead>\n",
       "  <tbody>\n",
       "    <tr>\n",
       "      <th>0</th>\n",
       "      <td>1</td>\n",
       "      <td>01/20/18 03:51:40 PM</td>\n",
       "      <td>30.016</td>\n",
       "      <td>67.6</td>\n",
       "      <td>0.0</td>\n",
       "      <td>345.4</td>\n",
       "      <td>0.50</td>\n",
       "      <td>2.27</td>\n",
       "    </tr>\n",
       "    <tr>\n",
       "      <th>1</th>\n",
       "      <td>2</td>\n",
       "      <td>01/20/18 04:01:40 PM</td>\n",
       "      <td>29.565</td>\n",
       "      <td>66.7</td>\n",
       "      <td>0.0</td>\n",
       "      <td>16.8</td>\n",
       "      <td>0.76</td>\n",
       "      <td>2.52</td>\n",
       "    </tr>\n",
       "  </tbody>\n",
       "</table>\n",
       "</div>"
      ],
      "text/plain": [
       "   N          Fecha Tiempo  TempCelcius    HR  Lluviamm  Dirdelviento  \\\n",
       "0  1  01/20/18 03:51:40 PM       30.016  67.6       0.0         345.4   \n",
       "1  2  01/20/18 04:01:40 PM       29.565  66.7       0.0          16.8   \n",
       "\n",
       "   Veldelviento_m/s  Velderafagas_m/s  \n",
       "0              0.50              2.27  \n",
       "1              0.76              2.52  "
      ]
     },
     "execution_count": 270,
     "metadata": {},
     "output_type": "execute_result"
    }
   ],
   "source": [
    "df2.head(2)"
   ]
  },
  {
   "cell_type": "code",
   "execution_count": null,
   "id": "6b3f0705",
   "metadata": {},
   "outputs": [],
   "source": []
  },
  {
   "cell_type": "code",
   "execution_count": 271,
   "id": "a6ecb3f5",
   "metadata": {},
   "outputs": [],
   "source": [
    "df3 = pd.read_csv(ruta+'04.csv',header=1, delimiter=';')"
   ]
  },
  {
   "cell_type": "code",
   "execution_count": 272,
   "id": "881a348b",
   "metadata": {},
   "outputs": [
    {
     "data": {
      "text/html": [
       "<div>\n",
       "<style scoped>\n",
       "    .dataframe tbody tr th:only-of-type {\n",
       "        vertical-align: middle;\n",
       "    }\n",
       "\n",
       "    .dataframe tbody tr th {\n",
       "        vertical-align: top;\n",
       "    }\n",
       "\n",
       "    .dataframe thead th {\n",
       "        text-align: right;\n",
       "    }\n",
       "</style>\n",
       "<table border=\"1\" class=\"dataframe\">\n",
       "  <thead>\n",
       "    <tr style=\"text-align: right;\">\n",
       "      <th></th>\n",
       "      <th>N.º</th>\n",
       "      <th>Fecha Tiempo, GMT-05:00</th>\n",
       "      <th>Temp, °C (LGR S/N: 10450278, SEN S/N: 10431781, LBL: AmbTemp)</th>\n",
       "      <th>HR, % (LGR S/N: 10450278, SEN S/N: 10431781, LBL: AmbHR)</th>\n",
       "      <th>Lluvia, mm (LGR S/N: 10450278, SEN S/N: 10440752, LBL: Lluvia)</th>\n",
       "      <th>Dirección del viento, ø (LGR S/N: 10450278, SEN S/N: 10468828, LBL: Direccion del viento)</th>\n",
       "      <th>Velocidad del viento, m/s (LGR S/N: 10450278, SEN S/N: 10470750, LBL: Velocidad del viento)</th>\n",
       "      <th>Velocidad de Ráfagas, m/s (LGR S/N: 10450278, SEN S/N: 10470750, LBL: Velocidad de rafagas)</th>\n",
       "    </tr>\n",
       "  </thead>\n",
       "  <tbody>\n",
       "    <tr>\n",
       "      <th>0</th>\n",
       "      <td>1</td>\n",
       "      <td>03/14/19 09:51:40 AM</td>\n",
       "      <td>26.475</td>\n",
       "      <td>96.1</td>\n",
       "      <td>0.0</td>\n",
       "      <td>108.1</td>\n",
       "      <td>0.25</td>\n",
       "      <td>2.01</td>\n",
       "    </tr>\n",
       "    <tr>\n",
       "      <th>1</th>\n",
       "      <td>2</td>\n",
       "      <td>03/14/19 10:01:40 AM</td>\n",
       "      <td>26.646</td>\n",
       "      <td>95.4</td>\n",
       "      <td>0.0</td>\n",
       "      <td>106.7</td>\n",
       "      <td>0.25</td>\n",
       "      <td>1.76</td>\n",
       "    </tr>\n",
       "  </tbody>\n",
       "</table>\n",
       "</div>"
      ],
      "text/plain": [
       "   N.º Fecha Tiempo, GMT-05:00  \\\n",
       "0    1    03/14/19 09:51:40 AM   \n",
       "1    2    03/14/19 10:01:40 AM   \n",
       "\n",
       "   Temp, °C (LGR S/N: 10450278, SEN S/N: 10431781, LBL: AmbTemp)  \\\n",
       "0                                             26.475               \n",
       "1                                             26.646               \n",
       "\n",
       "   HR, % (LGR S/N: 10450278, SEN S/N: 10431781, LBL: AmbHR)  \\\n",
       "0                                               96.1          \n",
       "1                                               95.4          \n",
       "\n",
       "   Lluvia, mm (LGR S/N: 10450278, SEN S/N: 10440752, LBL: Lluvia)  \\\n",
       "0                                                0.0                \n",
       "1                                                0.0                \n",
       "\n",
       "   Dirección del viento, ø (LGR S/N: 10450278, SEN S/N: 10468828, LBL: Direccion del viento)  \\\n",
       "0                                              108.1                                           \n",
       "1                                              106.7                                           \n",
       "\n",
       "   Velocidad del viento, m/s (LGR S/N: 10450278, SEN S/N: 10470750, LBL: Velocidad del viento)  \\\n",
       "0                                               0.25                                             \n",
       "1                                               0.25                                             \n",
       "\n",
       "   Velocidad de Ráfagas, m/s (LGR S/N: 10450278, SEN S/N: 10470750, LBL: Velocidad de rafagas)  \n",
       "0                                               2.01                                            \n",
       "1                                               1.76                                            "
      ]
     },
     "execution_count": 272,
     "metadata": {},
     "output_type": "execute_result"
    }
   ],
   "source": [
    "df3.head(2)"
   ]
  },
  {
   "cell_type": "code",
   "execution_count": 273,
   "id": "ff427cb6",
   "metadata": {},
   "outputs": [],
   "source": [
    "nombres_variables = df3.columns"
   ]
  },
  {
   "cell_type": "code",
   "execution_count": 274,
   "id": "d60558db",
   "metadata": {},
   "outputs": [
    {
     "data": {
      "text/plain": [
       "Index(['N.º', 'Fecha Tiempo, GMT-05:00',\n",
       "       'Temp, °C (LGR S/N: 10450278, SEN S/N: 10431781, LBL: AmbTemp)',\n",
       "       'HR, % (LGR S/N: 10450278, SEN S/N: 10431781, LBL: AmbHR)',\n",
       "       'Lluvia, mm (LGR S/N: 10450278, SEN S/N: 10440752, LBL: Lluvia)',\n",
       "       'Dirección del viento, ø (LGR S/N: 10450278, SEN S/N: 10468828, LBL: Direccion del viento)',\n",
       "       'Velocidad del viento, m/s (LGR S/N: 10450278, SEN S/N: 10470750, LBL: Velocidad del viento)',\n",
       "       'Velocidad de Ráfagas, m/s (LGR S/N: 10450278, SEN S/N: 10470750, LBL: Velocidad de rafagas)'],\n",
       "      dtype='object')"
      ]
     },
     "execution_count": 274,
     "metadata": {},
     "output_type": "execute_result"
    }
   ],
   "source": [
    "nombres_variables"
   ]
  },
  {
   "cell_type": "code",
   "execution_count": 275,
   "id": "c2725bac",
   "metadata": {},
   "outputs": [],
   "source": [
    "df3 = df3.rename(columns={'N.º':'N', 'Fecha Tiempo, GMT-05:00':'Fecha Tiempo',\n",
    "                          'Temp, °C (LGR S/N: 10450278, SEN S/N: 10431781, LBL: AmbTemp)':'TempCelcius',\n",
    "                          'HR, % (LGR S/N: 10450278, SEN S/N: 10431781, LBL: AmbHR)':'HR',\n",
    "                          'Lluvia, mm (LGR S/N: 10450278, SEN S/N: 10440752, LBL: Lluvia)':'Lluviamm',\n",
    "                          'Dirección del viento, ø (LGR S/N: 10450278, SEN S/N: 10468828, LBL: Direccion del viento)':'Dirdelviento',\n",
    "                          'Velocidad del viento, m/s (LGR S/N: 10450278, SEN S/N: 10470750, LBL: Velocidad del viento)':'Veldelviento_m/s',\n",
    "                          'Velocidad de Ráfagas, m/s (LGR S/N: 10450278, SEN S/N: 10470750, LBL: Velocidad de rafagas)':'Velderafagas_m/s'})"
   ]
  },
  {
   "cell_type": "code",
   "execution_count": 276,
   "id": "1acc523b",
   "metadata": {},
   "outputs": [],
   "source": [
    "df1.drop(['N'], axis=1, inplace=True)"
   ]
  },
  {
   "cell_type": "code",
   "execution_count": 277,
   "id": "cfe21f15",
   "metadata": {},
   "outputs": [],
   "source": [
    "df2.drop(['N'], axis=1, inplace=True)"
   ]
  },
  {
   "cell_type": "code",
   "execution_count": 278,
   "id": "3a509140",
   "metadata": {},
   "outputs": [],
   "source": [
    "df3.drop(['N'], axis=1, inplace=True)"
   ]
  },
  {
   "cell_type": "code",
   "execution_count": 279,
   "id": "1004017b",
   "metadata": {},
   "outputs": [
    {
     "data": {
      "text/html": [
       "<div>\n",
       "<style scoped>\n",
       "    .dataframe tbody tr th:only-of-type {\n",
       "        vertical-align: middle;\n",
       "    }\n",
       "\n",
       "    .dataframe tbody tr th {\n",
       "        vertical-align: top;\n",
       "    }\n",
       "\n",
       "    .dataframe thead th {\n",
       "        text-align: right;\n",
       "    }\n",
       "</style>\n",
       "<table border=\"1\" class=\"dataframe\">\n",
       "  <thead>\n",
       "    <tr style=\"text-align: right;\">\n",
       "      <th></th>\n",
       "      <th>Fecha Tiempo</th>\n",
       "      <th>TempCelcius</th>\n",
       "      <th>HR</th>\n",
       "      <th>Lluviamm</th>\n",
       "      <th>Dirdelviento</th>\n",
       "      <th>Veldelviento_m/s</th>\n",
       "      <th>Velderafagas_m/s</th>\n",
       "      <th>Bat</th>\n",
       "    </tr>\n",
       "  </thead>\n",
       "  <tbody>\n",
       "    <tr>\n",
       "      <th>0</th>\n",
       "      <td>2016-01-21 02:00:00</td>\n",
       "      <td>25.817</td>\n",
       "      <td>87.9</td>\n",
       "      <td>0.0</td>\n",
       "      <td>146.0</td>\n",
       "      <td>-888.88</td>\n",
       "      <td>-888.88</td>\n",
       "      <td>4.321</td>\n",
       "    </tr>\n",
       "    <tr>\n",
       "      <th>1</th>\n",
       "      <td>2016-01-21 02:10:00</td>\n",
       "      <td>25.671</td>\n",
       "      <td>88.3</td>\n",
       "      <td>0.0</td>\n",
       "      <td>181.1</td>\n",
       "      <td>-888.88</td>\n",
       "      <td>-888.88</td>\n",
       "      <td>4.321</td>\n",
       "    </tr>\n",
       "  </tbody>\n",
       "</table>\n",
       "</div>"
      ],
      "text/plain": [
       "         Fecha Tiempo  TempCelcius    HR  Lluviamm  Dirdelviento  \\\n",
       "0 2016-01-21 02:00:00       25.817  87.9       0.0         146.0   \n",
       "1 2016-01-21 02:10:00       25.671  88.3       0.0         181.1   \n",
       "\n",
       "   Veldelviento_m/s  Velderafagas_m/s    Bat  \n",
       "0           -888.88           -888.88  4.321  \n",
       "1           -888.88           -888.88  4.321  "
      ]
     },
     "execution_count": 279,
     "metadata": {},
     "output_type": "execute_result"
    }
   ],
   "source": [
    "df.head(2)"
   ]
  },
  {
   "cell_type": "code",
   "execution_count": 280,
   "id": "408e04ff",
   "metadata": {},
   "outputs": [
    {
     "data": {
      "text/html": [
       "<div>\n",
       "<style scoped>\n",
       "    .dataframe tbody tr th:only-of-type {\n",
       "        vertical-align: middle;\n",
       "    }\n",
       "\n",
       "    .dataframe tbody tr th {\n",
       "        vertical-align: top;\n",
       "    }\n",
       "\n",
       "    .dataframe thead th {\n",
       "        text-align: right;\n",
       "    }\n",
       "</style>\n",
       "<table border=\"1\" class=\"dataframe\">\n",
       "  <thead>\n",
       "    <tr style=\"text-align: right;\">\n",
       "      <th></th>\n",
       "      <th>Fecha Tiempo</th>\n",
       "      <th>TempCelcius</th>\n",
       "      <th>HR</th>\n",
       "      <th>Lluviamm</th>\n",
       "      <th>Dirdelviento</th>\n",
       "      <th>Veldelviento_m/s</th>\n",
       "      <th>Velderafagas_m/s</th>\n",
       "    </tr>\n",
       "  </thead>\n",
       "  <tbody>\n",
       "    <tr>\n",
       "      <th>0</th>\n",
       "      <td>03/23/17 10:21:40 AM</td>\n",
       "      <td>30.672</td>\n",
       "      <td>71.4</td>\n",
       "      <td>0.0</td>\n",
       "      <td>130.6</td>\n",
       "      <td>1.26</td>\n",
       "      <td>1.76</td>\n",
       "    </tr>\n",
       "    <tr>\n",
       "      <th>1</th>\n",
       "      <td>03/23/17 10:31:40 AM</td>\n",
       "      <td>31.001</td>\n",
       "      <td>72.0</td>\n",
       "      <td>0.0</td>\n",
       "      <td>161.5</td>\n",
       "      <td>0.76</td>\n",
       "      <td>3.02</td>\n",
       "    </tr>\n",
       "  </tbody>\n",
       "</table>\n",
       "</div>"
      ],
      "text/plain": [
       "           Fecha Tiempo  TempCelcius    HR  Lluviamm  Dirdelviento  \\\n",
       "0  03/23/17 10:21:40 AM       30.672  71.4       0.0         130.6   \n",
       "1  03/23/17 10:31:40 AM       31.001  72.0       0.0         161.5   \n",
       "\n",
       "   Veldelviento_m/s  Velderafagas_m/s  \n",
       "0              1.26              1.76  \n",
       "1              0.76              3.02  "
      ]
     },
     "execution_count": 280,
     "metadata": {},
     "output_type": "execute_result"
    }
   ],
   "source": [
    "df1.head(2)"
   ]
  },
  {
   "cell_type": "code",
   "execution_count": 281,
   "id": "ad972298",
   "metadata": {},
   "outputs": [
    {
     "data": {
      "text/html": [
       "<div>\n",
       "<style scoped>\n",
       "    .dataframe tbody tr th:only-of-type {\n",
       "        vertical-align: middle;\n",
       "    }\n",
       "\n",
       "    .dataframe tbody tr th {\n",
       "        vertical-align: top;\n",
       "    }\n",
       "\n",
       "    .dataframe thead th {\n",
       "        text-align: right;\n",
       "    }\n",
       "</style>\n",
       "<table border=\"1\" class=\"dataframe\">\n",
       "  <thead>\n",
       "    <tr style=\"text-align: right;\">\n",
       "      <th></th>\n",
       "      <th>Fecha Tiempo</th>\n",
       "      <th>TempCelcius</th>\n",
       "      <th>HR</th>\n",
       "      <th>Lluviamm</th>\n",
       "      <th>Dirdelviento</th>\n",
       "      <th>Veldelviento_m/s</th>\n",
       "      <th>Velderafagas_m/s</th>\n",
       "    </tr>\n",
       "  </thead>\n",
       "  <tbody>\n",
       "    <tr>\n",
       "      <th>0</th>\n",
       "      <td>01/20/18 03:51:40 PM</td>\n",
       "      <td>30.016</td>\n",
       "      <td>67.6</td>\n",
       "      <td>0.0</td>\n",
       "      <td>345.4</td>\n",
       "      <td>0.50</td>\n",
       "      <td>2.27</td>\n",
       "    </tr>\n",
       "    <tr>\n",
       "      <th>1</th>\n",
       "      <td>01/20/18 04:01:40 PM</td>\n",
       "      <td>29.565</td>\n",
       "      <td>66.7</td>\n",
       "      <td>0.0</td>\n",
       "      <td>16.8</td>\n",
       "      <td>0.76</td>\n",
       "      <td>2.52</td>\n",
       "    </tr>\n",
       "  </tbody>\n",
       "</table>\n",
       "</div>"
      ],
      "text/plain": [
       "           Fecha Tiempo  TempCelcius    HR  Lluviamm  Dirdelviento  \\\n",
       "0  01/20/18 03:51:40 PM       30.016  67.6       0.0         345.4   \n",
       "1  01/20/18 04:01:40 PM       29.565  66.7       0.0          16.8   \n",
       "\n",
       "   Veldelviento_m/s  Velderafagas_m/s  \n",
       "0              0.50              2.27  \n",
       "1              0.76              2.52  "
      ]
     },
     "execution_count": 281,
     "metadata": {},
     "output_type": "execute_result"
    }
   ],
   "source": [
    "df2.head(2)"
   ]
  },
  {
   "cell_type": "code",
   "execution_count": 282,
   "id": "d1c3cdd7",
   "metadata": {},
   "outputs": [
    {
     "data": {
      "text/html": [
       "<div>\n",
       "<style scoped>\n",
       "    .dataframe tbody tr th:only-of-type {\n",
       "        vertical-align: middle;\n",
       "    }\n",
       "\n",
       "    .dataframe tbody tr th {\n",
       "        vertical-align: top;\n",
       "    }\n",
       "\n",
       "    .dataframe thead th {\n",
       "        text-align: right;\n",
       "    }\n",
       "</style>\n",
       "<table border=\"1\" class=\"dataframe\">\n",
       "  <thead>\n",
       "    <tr style=\"text-align: right;\">\n",
       "      <th></th>\n",
       "      <th>Fecha Tiempo</th>\n",
       "      <th>TempCelcius</th>\n",
       "      <th>HR</th>\n",
       "      <th>Lluviamm</th>\n",
       "      <th>Dirdelviento</th>\n",
       "      <th>Veldelviento_m/s</th>\n",
       "      <th>Velderafagas_m/s</th>\n",
       "    </tr>\n",
       "  </thead>\n",
       "  <tbody>\n",
       "    <tr>\n",
       "      <th>0</th>\n",
       "      <td>03/14/19 09:51:40 AM</td>\n",
       "      <td>26.475</td>\n",
       "      <td>96.1</td>\n",
       "      <td>0.0</td>\n",
       "      <td>108.1</td>\n",
       "      <td>0.25</td>\n",
       "      <td>2.01</td>\n",
       "    </tr>\n",
       "    <tr>\n",
       "      <th>1</th>\n",
       "      <td>03/14/19 10:01:40 AM</td>\n",
       "      <td>26.646</td>\n",
       "      <td>95.4</td>\n",
       "      <td>0.0</td>\n",
       "      <td>106.7</td>\n",
       "      <td>0.25</td>\n",
       "      <td>1.76</td>\n",
       "    </tr>\n",
       "  </tbody>\n",
       "</table>\n",
       "</div>"
      ],
      "text/plain": [
       "           Fecha Tiempo  TempCelcius    HR  Lluviamm  Dirdelviento  \\\n",
       "0  03/14/19 09:51:40 AM       26.475  96.1       0.0         108.1   \n",
       "1  03/14/19 10:01:40 AM       26.646  95.4       0.0         106.7   \n",
       "\n",
       "   Veldelviento_m/s  Velderafagas_m/s  \n",
       "0              0.25              2.01  \n",
       "1              0.25              1.76  "
      ]
     },
     "execution_count": 282,
     "metadata": {},
     "output_type": "execute_result"
    }
   ],
   "source": [
    "df3.head(2)"
   ]
  },
  {
   "cell_type": "code",
   "execution_count": 283,
   "id": "a03dd634",
   "metadata": {},
   "outputs": [],
   "source": [
    "dfn = pd.concat([df, df1,df2, df3])"
   ]
  },
  {
   "cell_type": "code",
   "execution_count": 284,
   "id": "2fdefd3d",
   "metadata": {},
   "outputs": [
    {
     "data": {
      "text/html": [
       "<div>\n",
       "<style scoped>\n",
       "    .dataframe tbody tr th:only-of-type {\n",
       "        vertical-align: middle;\n",
       "    }\n",
       "\n",
       "    .dataframe tbody tr th {\n",
       "        vertical-align: top;\n",
       "    }\n",
       "\n",
       "    .dataframe thead th {\n",
       "        text-align: right;\n",
       "    }\n",
       "</style>\n",
       "<table border=\"1\" class=\"dataframe\">\n",
       "  <thead>\n",
       "    <tr style=\"text-align: right;\">\n",
       "      <th></th>\n",
       "      <th>Fecha Tiempo</th>\n",
       "      <th>TempCelcius</th>\n",
       "      <th>HR</th>\n",
       "      <th>Lluviamm</th>\n",
       "      <th>Dirdelviento</th>\n",
       "      <th>Veldelviento_m/s</th>\n",
       "      <th>Velderafagas_m/s</th>\n",
       "      <th>Bat</th>\n",
       "    </tr>\n",
       "  </thead>\n",
       "  <tbody>\n",
       "    <tr>\n",
       "      <th>0</th>\n",
       "      <td>2016-01-21 02:00:00</td>\n",
       "      <td>25.817</td>\n",
       "      <td>87.9</td>\n",
       "      <td>0.0</td>\n",
       "      <td>146.0</td>\n",
       "      <td>-888.88</td>\n",
       "      <td>-888.88</td>\n",
       "      <td>4.321</td>\n",
       "    </tr>\n",
       "    <tr>\n",
       "      <th>1</th>\n",
       "      <td>2016-01-21 02:10:00</td>\n",
       "      <td>25.671</td>\n",
       "      <td>88.3</td>\n",
       "      <td>0.0</td>\n",
       "      <td>181.1</td>\n",
       "      <td>-888.88</td>\n",
       "      <td>-888.88</td>\n",
       "      <td>4.321</td>\n",
       "    </tr>\n",
       "    <tr>\n",
       "      <th>2</th>\n",
       "      <td>2016-01-21 02:20:00</td>\n",
       "      <td>25.623</td>\n",
       "      <td>88.7</td>\n",
       "      <td>0.0</td>\n",
       "      <td>164.3</td>\n",
       "      <td>-888.88</td>\n",
       "      <td>-888.88</td>\n",
       "      <td>4.321</td>\n",
       "    </tr>\n",
       "    <tr>\n",
       "      <th>3</th>\n",
       "      <td>2016-01-21 02:30:00</td>\n",
       "      <td>25.623</td>\n",
       "      <td>88.9</td>\n",
       "      <td>0.0</td>\n",
       "      <td>181.1</td>\n",
       "      <td>-888.88</td>\n",
       "      <td>-888.88</td>\n",
       "      <td>4.303</td>\n",
       "    </tr>\n",
       "    <tr>\n",
       "      <th>4</th>\n",
       "      <td>2016-01-21 02:40:00</td>\n",
       "      <td>25.598</td>\n",
       "      <td>89.1</td>\n",
       "      <td>0.0</td>\n",
       "      <td>151.6</td>\n",
       "      <td>-888.88</td>\n",
       "      <td>-888.88</td>\n",
       "      <td>4.315</td>\n",
       "    </tr>\n",
       "    <tr>\n",
       "      <th>...</th>\n",
       "      <td>...</td>\n",
       "      <td>...</td>\n",
       "      <td>...</td>\n",
       "      <td>...</td>\n",
       "      <td>...</td>\n",
       "      <td>...</td>\n",
       "      <td>...</td>\n",
       "      <td>...</td>\n",
       "    </tr>\n",
       "    <tr>\n",
       "      <th>72141</th>\n",
       "      <td>07/27/20 09:21:40 AM</td>\n",
       "      <td>22.968</td>\n",
       "      <td>87.0</td>\n",
       "      <td>0.0</td>\n",
       "      <td>178.3</td>\n",
       "      <td>1.26</td>\n",
       "      <td>4.03</td>\n",
       "      <td>NaN</td>\n",
       "    </tr>\n",
       "    <tr>\n",
       "      <th>72142</th>\n",
       "      <td>07/27/20 09:31:40 AM</td>\n",
       "      <td>23.328</td>\n",
       "      <td>86.9</td>\n",
       "      <td>0.0</td>\n",
       "      <td>185.3</td>\n",
       "      <td>1.26</td>\n",
       "      <td>3.27</td>\n",
       "      <td>NaN</td>\n",
       "    </tr>\n",
       "    <tr>\n",
       "      <th>72143</th>\n",
       "      <td>07/27/20 09:41:40 AM</td>\n",
       "      <td>23.809</td>\n",
       "      <td>85.6</td>\n",
       "      <td>0.0</td>\n",
       "      <td>116.5</td>\n",
       "      <td>0.76</td>\n",
       "      <td>2.77</td>\n",
       "      <td>NaN</td>\n",
       "    </tr>\n",
       "    <tr>\n",
       "      <th>72144</th>\n",
       "      <td>07/27/20 09:51:40 AM</td>\n",
       "      <td>23.593</td>\n",
       "      <td>85.4</td>\n",
       "      <td>0.0</td>\n",
       "      <td>186.7</td>\n",
       "      <td>1.26</td>\n",
       "      <td>3.27</td>\n",
       "      <td>NaN</td>\n",
       "    </tr>\n",
       "    <tr>\n",
       "      <th>72145</th>\n",
       "      <td>07/27/20 10:01:40 AM</td>\n",
       "      <td>24.219</td>\n",
       "      <td>85.2</td>\n",
       "      <td>0.0</td>\n",
       "      <td>127.8</td>\n",
       "      <td>0.50</td>\n",
       "      <td>2.01</td>\n",
       "      <td>NaN</td>\n",
       "    </tr>\n",
       "  </tbody>\n",
       "</table>\n",
       "<p>254937 rows × 8 columns</p>\n",
       "</div>"
      ],
      "text/plain": [
       "               Fecha Tiempo  TempCelcius    HR  Lluviamm  Dirdelviento  \\\n",
       "0       2016-01-21 02:00:00       25.817  87.9       0.0         146.0   \n",
       "1       2016-01-21 02:10:00       25.671  88.3       0.0         181.1   \n",
       "2       2016-01-21 02:20:00       25.623  88.7       0.0         164.3   \n",
       "3       2016-01-21 02:30:00       25.623  88.9       0.0         181.1   \n",
       "4       2016-01-21 02:40:00       25.598  89.1       0.0         151.6   \n",
       "...                     ...          ...   ...       ...           ...   \n",
       "72141  07/27/20 09:21:40 AM       22.968  87.0       0.0         178.3   \n",
       "72142  07/27/20 09:31:40 AM       23.328  86.9       0.0         185.3   \n",
       "72143  07/27/20 09:41:40 AM       23.809  85.6       0.0         116.5   \n",
       "72144  07/27/20 09:51:40 AM       23.593  85.4       0.0         186.7   \n",
       "72145  07/27/20 10:01:40 AM       24.219  85.2       0.0         127.8   \n",
       "\n",
       "       Veldelviento_m/s  Velderafagas_m/s    Bat  \n",
       "0               -888.88           -888.88  4.321  \n",
       "1               -888.88           -888.88  4.321  \n",
       "2               -888.88           -888.88  4.321  \n",
       "3               -888.88           -888.88  4.303  \n",
       "4               -888.88           -888.88  4.315  \n",
       "...                 ...               ...    ...  \n",
       "72141              1.26              4.03    NaN  \n",
       "72142              1.26              3.27    NaN  \n",
       "72143              0.76              2.77    NaN  \n",
       "72144              1.26              3.27    NaN  \n",
       "72145              0.50              2.01    NaN  \n",
       "\n",
       "[254937 rows x 8 columns]"
      ]
     },
     "execution_count": 284,
     "metadata": {},
     "output_type": "execute_result"
    }
   ],
   "source": [
    "dfn"
   ]
  },
  {
   "cell_type": "code",
   "execution_count": 285,
   "id": "23da81da",
   "metadata": {},
   "outputs": [],
   "source": [
    "dfn = dfn.rename(columns={'Fecha Tiempo':'tiempo'})"
   ]
  },
  {
   "cell_type": "code",
   "execution_count": 286,
   "id": "2ea2e958",
   "metadata": {},
   "outputs": [],
   "source": [
    "dfn['tiempo'] = pd.to_datetime(dfn['tiempo'])"
   ]
  },
  {
   "cell_type": "code",
   "execution_count": 287,
   "id": "6270628e",
   "metadata": {},
   "outputs": [
    {
     "data": {
      "text/html": [
       "<div>\n",
       "<style scoped>\n",
       "    .dataframe tbody tr th:only-of-type {\n",
       "        vertical-align: middle;\n",
       "    }\n",
       "\n",
       "    .dataframe tbody tr th {\n",
       "        vertical-align: top;\n",
       "    }\n",
       "\n",
       "    .dataframe thead th {\n",
       "        text-align: right;\n",
       "    }\n",
       "</style>\n",
       "<table border=\"1\" class=\"dataframe\">\n",
       "  <thead>\n",
       "    <tr style=\"text-align: right;\">\n",
       "      <th></th>\n",
       "      <th>tiempo</th>\n",
       "      <th>TempCelcius</th>\n",
       "      <th>HR</th>\n",
       "      <th>Lluviamm</th>\n",
       "      <th>Dirdelviento</th>\n",
       "      <th>Veldelviento_m/s</th>\n",
       "      <th>Velderafagas_m/s</th>\n",
       "      <th>Bat</th>\n",
       "    </tr>\n",
       "  </thead>\n",
       "  <tbody>\n",
       "    <tr>\n",
       "      <th>0</th>\n",
       "      <td>2016-01-21 02:00:00</td>\n",
       "      <td>25.817</td>\n",
       "      <td>87.9</td>\n",
       "      <td>0.0</td>\n",
       "      <td>146.0</td>\n",
       "      <td>-888.88</td>\n",
       "      <td>-888.88</td>\n",
       "      <td>4.321</td>\n",
       "    </tr>\n",
       "    <tr>\n",
       "      <th>1</th>\n",
       "      <td>2016-01-21 02:10:00</td>\n",
       "      <td>25.671</td>\n",
       "      <td>88.3</td>\n",
       "      <td>0.0</td>\n",
       "      <td>181.1</td>\n",
       "      <td>-888.88</td>\n",
       "      <td>-888.88</td>\n",
       "      <td>4.321</td>\n",
       "    </tr>\n",
       "    <tr>\n",
       "      <th>2</th>\n",
       "      <td>2016-01-21 02:20:00</td>\n",
       "      <td>25.623</td>\n",
       "      <td>88.7</td>\n",
       "      <td>0.0</td>\n",
       "      <td>164.3</td>\n",
       "      <td>-888.88</td>\n",
       "      <td>-888.88</td>\n",
       "      <td>4.321</td>\n",
       "    </tr>\n",
       "    <tr>\n",
       "      <th>3</th>\n",
       "      <td>2016-01-21 02:30:00</td>\n",
       "      <td>25.623</td>\n",
       "      <td>88.9</td>\n",
       "      <td>0.0</td>\n",
       "      <td>181.1</td>\n",
       "      <td>-888.88</td>\n",
       "      <td>-888.88</td>\n",
       "      <td>4.303</td>\n",
       "    </tr>\n",
       "    <tr>\n",
       "      <th>4</th>\n",
       "      <td>2016-01-21 02:40:00</td>\n",
       "      <td>25.598</td>\n",
       "      <td>89.1</td>\n",
       "      <td>0.0</td>\n",
       "      <td>151.6</td>\n",
       "      <td>-888.88</td>\n",
       "      <td>-888.88</td>\n",
       "      <td>4.315</td>\n",
       "    </tr>\n",
       "    <tr>\n",
       "      <th>...</th>\n",
       "      <td>...</td>\n",
       "      <td>...</td>\n",
       "      <td>...</td>\n",
       "      <td>...</td>\n",
       "      <td>...</td>\n",
       "      <td>...</td>\n",
       "      <td>...</td>\n",
       "      <td>...</td>\n",
       "    </tr>\n",
       "    <tr>\n",
       "      <th>72141</th>\n",
       "      <td>2020-07-27 09:21:40</td>\n",
       "      <td>22.968</td>\n",
       "      <td>87.0</td>\n",
       "      <td>0.0</td>\n",
       "      <td>178.3</td>\n",
       "      <td>1.26</td>\n",
       "      <td>4.03</td>\n",
       "      <td>NaN</td>\n",
       "    </tr>\n",
       "    <tr>\n",
       "      <th>72142</th>\n",
       "      <td>2020-07-27 09:31:40</td>\n",
       "      <td>23.328</td>\n",
       "      <td>86.9</td>\n",
       "      <td>0.0</td>\n",
       "      <td>185.3</td>\n",
       "      <td>1.26</td>\n",
       "      <td>3.27</td>\n",
       "      <td>NaN</td>\n",
       "    </tr>\n",
       "    <tr>\n",
       "      <th>72143</th>\n",
       "      <td>2020-07-27 09:41:40</td>\n",
       "      <td>23.809</td>\n",
       "      <td>85.6</td>\n",
       "      <td>0.0</td>\n",
       "      <td>116.5</td>\n",
       "      <td>0.76</td>\n",
       "      <td>2.77</td>\n",
       "      <td>NaN</td>\n",
       "    </tr>\n",
       "    <tr>\n",
       "      <th>72144</th>\n",
       "      <td>2020-07-27 09:51:40</td>\n",
       "      <td>23.593</td>\n",
       "      <td>85.4</td>\n",
       "      <td>0.0</td>\n",
       "      <td>186.7</td>\n",
       "      <td>1.26</td>\n",
       "      <td>3.27</td>\n",
       "      <td>NaN</td>\n",
       "    </tr>\n",
       "    <tr>\n",
       "      <th>72145</th>\n",
       "      <td>2020-07-27 10:01:40</td>\n",
       "      <td>24.219</td>\n",
       "      <td>85.2</td>\n",
       "      <td>0.0</td>\n",
       "      <td>127.8</td>\n",
       "      <td>0.50</td>\n",
       "      <td>2.01</td>\n",
       "      <td>NaN</td>\n",
       "    </tr>\n",
       "  </tbody>\n",
       "</table>\n",
       "<p>254937 rows × 8 columns</p>\n",
       "</div>"
      ],
      "text/plain": [
       "                   tiempo  TempCelcius    HR  Lluviamm  Dirdelviento  \\\n",
       "0     2016-01-21 02:00:00       25.817  87.9       0.0         146.0   \n",
       "1     2016-01-21 02:10:00       25.671  88.3       0.0         181.1   \n",
       "2     2016-01-21 02:20:00       25.623  88.7       0.0         164.3   \n",
       "3     2016-01-21 02:30:00       25.623  88.9       0.0         181.1   \n",
       "4     2016-01-21 02:40:00       25.598  89.1       0.0         151.6   \n",
       "...                   ...          ...   ...       ...           ...   \n",
       "72141 2020-07-27 09:21:40       22.968  87.0       0.0         178.3   \n",
       "72142 2020-07-27 09:31:40       23.328  86.9       0.0         185.3   \n",
       "72143 2020-07-27 09:41:40       23.809  85.6       0.0         116.5   \n",
       "72144 2020-07-27 09:51:40       23.593  85.4       0.0         186.7   \n",
       "72145 2020-07-27 10:01:40       24.219  85.2       0.0         127.8   \n",
       "\n",
       "       Veldelviento_m/s  Velderafagas_m/s    Bat  \n",
       "0               -888.88           -888.88  4.321  \n",
       "1               -888.88           -888.88  4.321  \n",
       "2               -888.88           -888.88  4.321  \n",
       "3               -888.88           -888.88  4.303  \n",
       "4               -888.88           -888.88  4.315  \n",
       "...                 ...               ...    ...  \n",
       "72141              1.26              4.03    NaN  \n",
       "72142              1.26              3.27    NaN  \n",
       "72143              0.76              2.77    NaN  \n",
       "72144              1.26              3.27    NaN  \n",
       "72145              0.50              2.01    NaN  \n",
       "\n",
       "[254937 rows x 8 columns]"
      ]
     },
     "execution_count": 287,
     "metadata": {},
     "output_type": "execute_result"
    }
   ],
   "source": [
    "dfn"
   ]
  },
  {
   "cell_type": "code",
   "execution_count": 288,
   "id": "hidden-tribune",
   "metadata": {},
   "outputs": [
    {
     "data": {
      "text/plain": [
       "193401"
      ]
     },
     "execution_count": 288,
     "metadata": {},
     "output_type": "execute_result"
    }
   ],
   "source": [
    "dfn.isna().any(axis=1).sum()"
   ]
  },
  {
   "cell_type": "code",
   "execution_count": 289,
   "id": "flush-nepal",
   "metadata": {},
   "outputs": [
    {
     "data": {
      "text/plain": [
       "tiempo              False\n",
       "TempCelcius         False\n",
       "HR                  False\n",
       "Lluviamm            False\n",
       "Dirdelviento        False\n",
       "Veldelviento_m/s    False\n",
       "Velderafagas_m/s    False\n",
       "Bat                  True\n",
       "dtype: bool"
      ]
     },
     "execution_count": 289,
     "metadata": {},
     "output_type": "execute_result"
    }
   ],
   "source": [
    "dfn.isna().any(axis=0)"
   ]
  },
  {
   "cell_type": "code",
   "execution_count": 290,
   "id": "55e364ea",
   "metadata": {},
   "outputs": [
    {
     "data": {
      "text/plain": [
       "193401"
      ]
     },
     "execution_count": 290,
     "metadata": {},
     "output_type": "execute_result"
    }
   ],
   "source": [
    "dfn.isnull().any(axis=1).sum()"
   ]
  },
  {
   "cell_type": "code",
   "execution_count": 291,
   "id": "d6df6e6c",
   "metadata": {},
   "outputs": [],
   "source": [
    "dfn.to_csv(bucket+\"data_met_edif_lit.csv\",index=False)"
   ]
  },
  {
   "cell_type": "code",
   "execution_count": 292,
   "id": "8862692b",
   "metadata": {},
   "outputs": [],
   "source": [
    "dfn.drop(['Bat'], axis=1, inplace=True)"
   ]
  },
  {
   "cell_type": "code",
   "execution_count": 293,
   "id": "9a5f6781",
   "metadata": {},
   "outputs": [
    {
     "data": {
      "text/plain": [
       "0"
      ]
     },
     "execution_count": 293,
     "metadata": {},
     "output_type": "execute_result"
    }
   ],
   "source": [
    "dfn.isna().any(axis=1).sum()"
   ]
  },
  {
   "cell_type": "code",
   "execution_count": 294,
   "id": "9f87be30",
   "metadata": {},
   "outputs": [
    {
     "data": {
      "text/plain": [
       "tiempo              False\n",
       "TempCelcius         False\n",
       "HR                  False\n",
       "Lluviamm            False\n",
       "Dirdelviento        False\n",
       "Veldelviento_m/s    False\n",
       "Velderafagas_m/s    False\n",
       "dtype: bool"
      ]
     },
     "execution_count": 294,
     "metadata": {},
     "output_type": "execute_result"
    }
   ],
   "source": [
    "dfn.isna().any(axis=0)"
   ]
  },
  {
   "cell_type": "code",
   "execution_count": 295,
   "id": "bf2ebdcb",
   "metadata": {},
   "outputs": [
    {
     "data": {
      "text/plain": [
       "(254937, 7)"
      ]
     },
     "execution_count": 295,
     "metadata": {},
     "output_type": "execute_result"
    }
   ],
   "source": [
    "dfn.shape"
   ]
  },
  {
   "cell_type": "code",
   "execution_count": 296,
   "id": "933eaa59",
   "metadata": {},
   "outputs": [
    {
     "data": {
      "text/plain": [
       "(61536, 8)"
      ]
     },
     "execution_count": 296,
     "metadata": {},
     "output_type": "execute_result"
    }
   ],
   "source": [
    "df.shape"
   ]
  },
  {
   "cell_type": "code",
   "execution_count": null,
   "id": "63e77eff",
   "metadata": {},
   "outputs": [],
   "source": []
  },
  {
   "cell_type": "code",
   "execution_count": 297,
   "id": "7efbe06e",
   "metadata": {},
   "outputs": [],
   "source": [
    "observ = dfn.shape"
   ]
  },
  {
   "cell_type": "code",
   "execution_count": 298,
   "id": "2e00a718",
   "metadata": {},
   "outputs": [],
   "source": [
    "observ_rest=dfn.drop_duplicates(keep='last').shape"
   ]
  },
  {
   "cell_type": "code",
   "execution_count": 299,
   "id": "376b1356",
   "metadata": {},
   "outputs": [],
   "source": [
    "x = ((observ[0] - observ_rest[0])/observ[0])*100"
   ]
  },
  {
   "cell_type": "code",
   "execution_count": 300,
   "id": "f9ca24fe",
   "metadata": {},
   "outputs": [
    {
     "name": "stdout",
     "output_type": "stream",
     "text": [
      "El procentaje de registros duplicados a eliminar es 4.54%\n"
     ]
    }
   ],
   "source": [
    "print(\"El procentaje de registros duplicados a eliminar es\",'{:.2f}%'.format(x))"
   ]
  },
  {
   "cell_type": "code",
   "execution_count": 301,
   "id": "2c441641",
   "metadata": {},
   "outputs": [],
   "source": [
    "dfn.drop_duplicates(inplace=True)"
   ]
  },
  {
   "cell_type": "code",
   "execution_count": null,
   "id": "b31a95cd",
   "metadata": {},
   "outputs": [],
   "source": []
  },
  {
   "cell_type": "code",
   "execution_count": 302,
   "id": "357322d5",
   "metadata": {},
   "outputs": [],
   "source": [
    "observ = dfn.shape"
   ]
  },
  {
   "cell_type": "code",
   "execution_count": 303,
   "id": "c0f91697",
   "metadata": {},
   "outputs": [],
   "source": [
    "observ_rest=dfn.drop_duplicates(keep='last').shape"
   ]
  },
  {
   "cell_type": "code",
   "execution_count": 304,
   "id": "84288045",
   "metadata": {},
   "outputs": [],
   "source": [
    "x = ((observ[0] - observ_rest[0])/observ[0])*100"
   ]
  },
  {
   "cell_type": "code",
   "execution_count": 305,
   "id": "4ef74eb7",
   "metadata": {},
   "outputs": [
    {
     "name": "stdout",
     "output_type": "stream",
     "text": [
      "El procentaje de registros duplicados a eliminar es 0.00%\n"
     ]
    }
   ],
   "source": [
    "print(\"El procentaje de registros duplicados a eliminar es\",'{:.2f}%'.format(x))"
   ]
  },
  {
   "cell_type": "code",
   "execution_count": null,
   "id": "5596c379",
   "metadata": {},
   "outputs": [],
   "source": []
  },
  {
   "cell_type": "code",
   "execution_count": 306,
   "id": "herbal-claim",
   "metadata": {},
   "outputs": [],
   "source": [
    "dfn.to_csv(bucket+\"data_met_edif_lit_clean.csv\",index=False)"
   ]
  },
  {
   "cell_type": "code",
   "execution_count": null,
   "id": "specified-amateur",
   "metadata": {},
   "outputs": [],
   "source": []
  },
  {
   "cell_type": "markdown",
   "id": "60c84bee",
   "metadata": {},
   "source": [
    "# Limpieza de dataset datos meteorologicos ESPOL"
   ]
  },
  {
   "cell_type": "code",
   "execution_count": 307,
   "id": "e9c1fc71",
   "metadata": {},
   "outputs": [],
   "source": [
    "ruta = 'C:/Users/franx/Documents/MCD/Tesis/Raw/Datos_meteorologicos_ESPOL/'"
   ]
  },
  {
   "cell_type": "code",
   "execution_count": 308,
   "id": "b820cb9c",
   "metadata": {},
   "outputs": [
    {
     "data": {
      "text/plain": [
       "'C:/Users/franx/Documents/MCD/Tesis/Raw/Datos_meteorologicos_ESPOL/'"
      ]
     },
     "execution_count": 308,
     "metadata": {},
     "output_type": "execute_result"
    }
   ],
   "source": [
    "ruta"
   ]
  },
  {
   "cell_type": "code",
   "execution_count": 309,
   "id": "6b17104f",
   "metadata": {},
   "outputs": [],
   "source": [
    "test = pd.read_excel(ruta+'Diciembre_2019.xlsx', engine='openpyxl',skiprows=2)"
   ]
  },
  {
   "cell_type": "code",
   "execution_count": 310,
   "id": "72fb1188",
   "metadata": {},
   "outputs": [
    {
     "data": {
      "text/html": [
       "<div>\n",
       "<style scoped>\n",
       "    .dataframe tbody tr th:only-of-type {\n",
       "        vertical-align: middle;\n",
       "    }\n",
       "\n",
       "    .dataframe tbody tr th {\n",
       "        vertical-align: top;\n",
       "    }\n",
       "\n",
       "    .dataframe thead th {\n",
       "        text-align: right;\n",
       "    }\n",
       "</style>\n",
       "<table border=\"1\" class=\"dataframe\">\n",
       "  <thead>\n",
       "    <tr style=\"text-align: right;\">\n",
       "      <th></th>\n",
       "      <th>Unnamed: 0</th>\n",
       "      <th>yyyy/mm/dd</th>\n",
       "      <th>hh:mm:ss</th>\n",
       "      <th>ﾟC</th>\n",
       "      <th>V</th>\n",
       "      <th>Unnamed: 5</th>\n",
       "      <th>m/s</th>\n",
       "      <th>ｺ</th>\n",
       "      <th>m/s.1</th>\n",
       "      <th>Unnamed: 9</th>\n",
       "      <th>m/s.2</th>\n",
       "      <th>ｺ.1</th>\n",
       "      <th>Unnamed: 12</th>\n",
       "      <th>kW</th>\n",
       "      <th>ｺC</th>\n",
       "      <th>%</th>\n",
       "      <th>mm</th>\n",
       "      <th>hPa</th>\n",
       "      <th>ｺC.1</th>\n",
       "    </tr>\n",
       "  </thead>\n",
       "  <tbody>\n",
       "    <tr>\n",
       "      <th>0</th>\n",
       "      <td>5</td>\n",
       "      <td>2019-12-26</td>\n",
       "      <td>05:10:00</td>\n",
       "      <td>33.2</td>\n",
       "      <td>12.4</td>\n",
       "      <td>2</td>\n",
       "      <td>1.3</td>\n",
       "      <td>140</td>\n",
       "      <td>1.9</td>\n",
       "      <td>SSE</td>\n",
       "      <td>1.9</td>\n",
       "      <td>105</td>\n",
       "      <td>05:09:44</td>\n",
       "      <td>0.002</td>\n",
       "      <td>30.3</td>\n",
       "      <td>55.65</td>\n",
       "      <td>0.0</td>\n",
       "      <td>994.4</td>\n",
       "      <td>0.2</td>\n",
       "    </tr>\n",
       "    <tr>\n",
       "      <th>1</th>\n",
       "      <td>6</td>\n",
       "      <td>2019-12-26</td>\n",
       "      <td>15:30:00</td>\n",
       "      <td>32.8</td>\n",
       "      <td>12.4</td>\n",
       "      <td>2</td>\n",
       "      <td>1.1</td>\n",
       "      <td>162</td>\n",
       "      <td>1.1</td>\n",
       "      <td>SSE</td>\n",
       "      <td>3.1</td>\n",
       "      <td>144</td>\n",
       "      <td>15:27:23</td>\n",
       "      <td>0.021</td>\n",
       "      <td>30.5</td>\n",
       "      <td>57.25</td>\n",
       "      <td>0.0</td>\n",
       "      <td>994.4</td>\n",
       "      <td>0.2</td>\n",
       "    </tr>\n",
       "    <tr>\n",
       "      <th>2</th>\n",
       "      <td>7</td>\n",
       "      <td>2019-12-26</td>\n",
       "      <td>15:40:00</td>\n",
       "      <td>32.3</td>\n",
       "      <td>12.4</td>\n",
       "      <td>2</td>\n",
       "      <td>1.3</td>\n",
       "      <td>150</td>\n",
       "      <td>1.5</td>\n",
       "      <td>SSE</td>\n",
       "      <td>4.9</td>\n",
       "      <td>88</td>\n",
       "      <td>15:39:56</td>\n",
       "      <td>0.063</td>\n",
       "      <td>30.3</td>\n",
       "      <td>57.85</td>\n",
       "      <td>0.0</td>\n",
       "      <td>994.3</td>\n",
       "      <td>0.2</td>\n",
       "    </tr>\n",
       "    <tr>\n",
       "      <th>3</th>\n",
       "      <td>8</td>\n",
       "      <td>2019-12-26</td>\n",
       "      <td>15:50:00</td>\n",
       "      <td>32.1</td>\n",
       "      <td>12.4</td>\n",
       "      <td>2</td>\n",
       "      <td>1.4</td>\n",
       "      <td>162</td>\n",
       "      <td>1.6</td>\n",
       "      <td>SSE</td>\n",
       "      <td>4.3</td>\n",
       "      <td>122</td>\n",
       "      <td>15:40:21</td>\n",
       "      <td>0.060</td>\n",
       "      <td>29.9</td>\n",
       "      <td>58.46</td>\n",
       "      <td>0.0</td>\n",
       "      <td>994.4</td>\n",
       "      <td>0.2</td>\n",
       "    </tr>\n",
       "    <tr>\n",
       "      <th>4</th>\n",
       "      <td>9</td>\n",
       "      <td>2019-12-26</td>\n",
       "      <td>16:00:00</td>\n",
       "      <td>32.0</td>\n",
       "      <td>12.4</td>\n",
       "      <td>2</td>\n",
       "      <td>1.0</td>\n",
       "      <td>176</td>\n",
       "      <td>1.4</td>\n",
       "      <td>SE</td>\n",
       "      <td>4.3</td>\n",
       "      <td>149</td>\n",
       "      <td>15:54:51</td>\n",
       "      <td>0.053</td>\n",
       "      <td>29.9</td>\n",
       "      <td>59.06</td>\n",
       "      <td>0.0</td>\n",
       "      <td>994.4</td>\n",
       "      <td>0.2</td>\n",
       "    </tr>\n",
       "    <tr>\n",
       "      <th>...</th>\n",
       "      <td>...</td>\n",
       "      <td>...</td>\n",
       "      <td>...</td>\n",
       "      <td>...</td>\n",
       "      <td>...</td>\n",
       "      <td>...</td>\n",
       "      <td>...</td>\n",
       "      <td>...</td>\n",
       "      <td>...</td>\n",
       "      <td>...</td>\n",
       "      <td>...</td>\n",
       "      <td>...</td>\n",
       "      <td>...</td>\n",
       "      <td>...</td>\n",
       "      <td>...</td>\n",
       "      <td>...</td>\n",
       "      <td>...</td>\n",
       "      <td>...</td>\n",
       "      <td>...</td>\n",
       "    </tr>\n",
       "    <tr>\n",
       "      <th>767</th>\n",
       "      <td>772</td>\n",
       "      <td>2019-12-31</td>\n",
       "      <td>23:10:00</td>\n",
       "      <td>25.1</td>\n",
       "      <td>12.9</td>\n",
       "      <td>2</td>\n",
       "      <td>0.7</td>\n",
       "      <td>299</td>\n",
       "      <td>0.8</td>\n",
       "      <td>WNW</td>\n",
       "      <td>3.7</td>\n",
       "      <td>273</td>\n",
       "      <td>23:02:51</td>\n",
       "      <td>0.000</td>\n",
       "      <td>24.8</td>\n",
       "      <td>77.68</td>\n",
       "      <td>0.0</td>\n",
       "      <td>1001.5</td>\n",
       "      <td>0.1</td>\n",
       "    </tr>\n",
       "    <tr>\n",
       "      <th>768</th>\n",
       "      <td>773</td>\n",
       "      <td>2019-12-31</td>\n",
       "      <td>23:20:00</td>\n",
       "      <td>25.1</td>\n",
       "      <td>12.9</td>\n",
       "      <td>2</td>\n",
       "      <td>0.3</td>\n",
       "      <td>316</td>\n",
       "      <td>0.8</td>\n",
       "      <td>NW</td>\n",
       "      <td>1.9</td>\n",
       "      <td>338</td>\n",
       "      <td>23:11:33</td>\n",
       "      <td>0.000</td>\n",
       "      <td>24.7</td>\n",
       "      <td>78.79</td>\n",
       "      <td>0.0</td>\n",
       "      <td>1001.3</td>\n",
       "      <td>0.1</td>\n",
       "    </tr>\n",
       "    <tr>\n",
       "      <th>769</th>\n",
       "      <td>774</td>\n",
       "      <td>2019-12-31</td>\n",
       "      <td>23:30:00</td>\n",
       "      <td>25.0</td>\n",
       "      <td>12.9</td>\n",
       "      <td>2</td>\n",
       "      <td>0.1</td>\n",
       "      <td>320</td>\n",
       "      <td>0.3</td>\n",
       "      <td>NNW</td>\n",
       "      <td>1.3</td>\n",
       "      <td>309</td>\n",
       "      <td>23:27:01</td>\n",
       "      <td>0.000</td>\n",
       "      <td>24.6</td>\n",
       "      <td>79.39</td>\n",
       "      <td>0.0</td>\n",
       "      <td>1001.3</td>\n",
       "      <td>0.1</td>\n",
       "    </tr>\n",
       "    <tr>\n",
       "      <th>770</th>\n",
       "      <td>775</td>\n",
       "      <td>2019-12-31</td>\n",
       "      <td>23:40:00</td>\n",
       "      <td>24.9</td>\n",
       "      <td>12.9</td>\n",
       "      <td>2</td>\n",
       "      <td>0.4</td>\n",
       "      <td>311</td>\n",
       "      <td>0.4</td>\n",
       "      <td>NW</td>\n",
       "      <td>1.9</td>\n",
       "      <td>9</td>\n",
       "      <td>23:31:14</td>\n",
       "      <td>0.000</td>\n",
       "      <td>24.9</td>\n",
       "      <td>78.28</td>\n",
       "      <td>0.0</td>\n",
       "      <td>1001.3</td>\n",
       "      <td>0.1</td>\n",
       "    </tr>\n",
       "    <tr>\n",
       "      <th>771</th>\n",
       "      <td>776</td>\n",
       "      <td>2019-12-31</td>\n",
       "      <td>23:50:00</td>\n",
       "      <td>24.9</td>\n",
       "      <td>12.9</td>\n",
       "      <td>2</td>\n",
       "      <td>0.4</td>\n",
       "      <td>277</td>\n",
       "      <td>0.5</td>\n",
       "      <td>WNW</td>\n",
       "      <td>1.9</td>\n",
       "      <td>272</td>\n",
       "      <td>23:40:04</td>\n",
       "      <td>0.000</td>\n",
       "      <td>25.1</td>\n",
       "      <td>76.68</td>\n",
       "      <td>0.0</td>\n",
       "      <td>1001.2</td>\n",
       "      <td>0.1</td>\n",
       "    </tr>\n",
       "  </tbody>\n",
       "</table>\n",
       "<p>772 rows × 19 columns</p>\n",
       "</div>"
      ],
      "text/plain": [
       "     Unnamed: 0 yyyy/mm/dd  hh:mm:ss    ﾟC     V  Unnamed: 5  m/s    ｺ  m/s.1  \\\n",
       "0             5 2019-12-26  05:10:00  33.2  12.4           2  1.3  140    1.9   \n",
       "1             6 2019-12-26  15:30:00  32.8  12.4           2  1.1  162    1.1   \n",
       "2             7 2019-12-26  15:40:00  32.3  12.4           2  1.3  150    1.5   \n",
       "3             8 2019-12-26  15:50:00  32.1  12.4           2  1.4  162    1.6   \n",
       "4             9 2019-12-26  16:00:00  32.0  12.4           2  1.0  176    1.4   \n",
       "..          ...        ...       ...   ...   ...         ...  ...  ...    ...   \n",
       "767         772 2019-12-31  23:10:00  25.1  12.9           2  0.7  299    0.8   \n",
       "768         773 2019-12-31  23:20:00  25.1  12.9           2  0.3  316    0.8   \n",
       "769         774 2019-12-31  23:30:00  25.0  12.9           2  0.1  320    0.3   \n",
       "770         775 2019-12-31  23:40:00  24.9  12.9           2  0.4  311    0.4   \n",
       "771         776 2019-12-31  23:50:00  24.9  12.9           2  0.4  277    0.5   \n",
       "\n",
       "    Unnamed: 9  m/s.2  ｺ.1 Unnamed: 12     kW    ｺC      %   mm     hPa  ｺC.1  \n",
       "0          SSE    1.9  105    05:09:44  0.002  30.3  55.65  0.0   994.4   0.2  \n",
       "1          SSE    3.1  144    15:27:23  0.021  30.5  57.25  0.0   994.4   0.2  \n",
       "2          SSE    4.9   88    15:39:56  0.063  30.3  57.85  0.0   994.3   0.2  \n",
       "3          SSE    4.3  122    15:40:21  0.060  29.9  58.46  0.0   994.4   0.2  \n",
       "4           SE    4.3  149    15:54:51  0.053  29.9  59.06  0.0   994.4   0.2  \n",
       "..         ...    ...  ...         ...    ...   ...    ...  ...     ...   ...  \n",
       "767        WNW    3.7  273    23:02:51  0.000  24.8  77.68  0.0  1001.5   0.1  \n",
       "768         NW    1.9  338    23:11:33  0.000  24.7  78.79  0.0  1001.3   0.1  \n",
       "769        NNW    1.3  309    23:27:01  0.000  24.6  79.39  0.0  1001.3   0.1  \n",
       "770         NW    1.9    9    23:31:14  0.000  24.9  78.28  0.0  1001.3   0.1  \n",
       "771        WNW    1.9  272    23:40:04  0.000  25.1  76.68  0.0  1001.2   0.1  \n",
       "\n",
       "[772 rows x 19 columns]"
      ]
     },
     "execution_count": 310,
     "metadata": {},
     "output_type": "execute_result"
    }
   ],
   "source": [
    "test"
   ]
  },
  {
   "cell_type": "code",
   "execution_count": null,
   "id": "8491d89c",
   "metadata": {},
   "outputs": [],
   "source": []
  },
  {
   "cell_type": "code",
   "execution_count": 311,
   "id": "14137731",
   "metadata": {},
   "outputs": [],
   "source": [
    "df1 = pd.read_excel(ruta+'Diciembre_2019.xlsx',sheet_name='Hoja1', engine='openpyxl', skiprows=2)"
   ]
  },
  {
   "cell_type": "code",
   "execution_count": 312,
   "id": "cd5090c6",
   "metadata": {},
   "outputs": [],
   "source": [
    "df2 = pd.read_excel(ruta+'Enero_2020.xlsx',sheet_name='Hoja1', engine='openpyxl', skiprows=2)"
   ]
  },
  {
   "cell_type": "code",
   "execution_count": 313,
   "id": "a0082aa0",
   "metadata": {},
   "outputs": [],
   "source": [
    "df3 = pd.read_excel(ruta+'Febrero_2020.xlsx',sheet_name='Hoja1', engine='openpyxl', skiprows=2)"
   ]
  },
  {
   "cell_type": "code",
   "execution_count": 314,
   "id": "b47459c3",
   "metadata": {},
   "outputs": [],
   "source": [
    "df4 = pd.read_excel(ruta+'Marzo_2020.xlsx',sheet_name='Hoja1', engine='openpyxl', skiprows=2)"
   ]
  },
  {
   "cell_type": "code",
   "execution_count": 315,
   "id": "20aa8895",
   "metadata": {},
   "outputs": [],
   "source": [
    "df5 = pd.read_excel(ruta+'Abril2020.xlsx',sheet_name='Hoja1', engine='openpyxl', skiprows=2)"
   ]
  },
  {
   "cell_type": "code",
   "execution_count": 316,
   "id": "5769f6e6",
   "metadata": {},
   "outputs": [],
   "source": [
    "df6 = pd.read_excel(ruta+'Mayo2020.xlsx',sheet_name='Hoja1', engine='openpyxl', skiprows=2)"
   ]
  },
  {
   "cell_type": "code",
   "execution_count": 317,
   "id": "d56d20ac",
   "metadata": {},
   "outputs": [],
   "source": [
    "df7 = pd.read_excel(ruta+'Junio2020.xlsx',sheet_name='Hoja1', engine='openpyxl', skiprows=2)"
   ]
  },
  {
   "cell_type": "code",
   "execution_count": 318,
   "id": "080d9df4",
   "metadata": {},
   "outputs": [],
   "source": [
    "df8 = pd.read_excel(ruta+'Julio2020.xlsx',sheet_name='Hoja1', engine='openpyxl', skiprows=2)"
   ]
  },
  {
   "cell_type": "code",
   "execution_count": 319,
   "id": "963ea467",
   "metadata": {},
   "outputs": [],
   "source": [
    "df9 = pd.read_excel(ruta+'Agosto2020.xlsx',sheet_name='Hoja1', engine='openpyxl', skiprows=2)"
   ]
  },
  {
   "cell_type": "code",
   "execution_count": 320,
   "id": "35727ba5",
   "metadata": {},
   "outputs": [],
   "source": [
    "df10 = pd.read_excel(ruta+'Septiembre2020.xlsx',sheet_name='Hoja1', engine='openpyxl', skiprows=2)"
   ]
  },
  {
   "cell_type": "code",
   "execution_count": 321,
   "id": "91a4b73a",
   "metadata": {},
   "outputs": [],
   "source": [
    "df11 = pd.read_excel(ruta+'Octubre2020.xlsx',sheet_name='Hoja1', engine='openpyxl', skiprows=2)"
   ]
  },
  {
   "cell_type": "code",
   "execution_count": 322,
   "id": "405fbb3b",
   "metadata": {},
   "outputs": [],
   "source": [
    "df12 = pd.read_excel(ruta+'Noviembre2020.xlsx',sheet_name='Hoja1', engine='openpyxl', skiprows=2)"
   ]
  },
  {
   "cell_type": "code",
   "execution_count": 323,
   "id": "ff633df7",
   "metadata": {},
   "outputs": [],
   "source": [
    "df13 = pd.read_excel(ruta+'Diciembre2020.xlsx',sheet_name='Hoja1', engine='openpyxl', skiprows=2)"
   ]
  },
  {
   "cell_type": "code",
   "execution_count": 324,
   "id": "def3ef78",
   "metadata": {},
   "outputs": [],
   "source": [
    "df14 = pd.read_excel(ruta+'Enero2021.xlsx',sheet_name='Hoja1', engine='openpyxl', skiprows=2)"
   ]
  },
  {
   "cell_type": "code",
   "execution_count": 325,
   "id": "0704d8a2",
   "metadata": {},
   "outputs": [],
   "source": [
    "df15 = pd.read_excel(ruta+'Febrero2021.xlsx',sheet_name='Hoja1', engine='openpyxl', skiprows=2)"
   ]
  },
  {
   "cell_type": "code",
   "execution_count": null,
   "id": "3d9ed745",
   "metadata": {},
   "outputs": [],
   "source": []
  },
  {
   "cell_type": "code",
   "execution_count": 326,
   "id": "1035e33c",
   "metadata": {},
   "outputs": [],
   "source": [
    "df = pd.concat([df1,df2,df3,df4,df5,df6,df7,df8,df9,df10,df11,df12,df13,df14,df15])"
   ]
  },
  {
   "cell_type": "code",
   "execution_count": 327,
   "id": "36c5f5e5",
   "metadata": {},
   "outputs": [
    {
     "data": {
      "text/html": [
       "<div>\n",
       "<style scoped>\n",
       "    .dataframe tbody tr th:only-of-type {\n",
       "        vertical-align: middle;\n",
       "    }\n",
       "\n",
       "    .dataframe tbody tr th {\n",
       "        vertical-align: top;\n",
       "    }\n",
       "\n",
       "    .dataframe thead th {\n",
       "        text-align: right;\n",
       "    }\n",
       "</style>\n",
       "<table border=\"1\" class=\"dataframe\">\n",
       "  <thead>\n",
       "    <tr style=\"text-align: right;\">\n",
       "      <th></th>\n",
       "      <th>Unnamed: 0</th>\n",
       "      <th>yyyy/mm/dd</th>\n",
       "      <th>hh:mm:ss</th>\n",
       "      <th>ﾟC</th>\n",
       "      <th>V</th>\n",
       "      <th>Unnamed: 5</th>\n",
       "      <th>m/s</th>\n",
       "      <th>ｺ</th>\n",
       "      <th>m/s.1</th>\n",
       "      <th>Unnamed: 9</th>\n",
       "      <th>m/s.2</th>\n",
       "      <th>ｺ.1</th>\n",
       "      <th>Unnamed: 12</th>\n",
       "      <th>kW</th>\n",
       "      <th>ｺC</th>\n",
       "      <th>%</th>\n",
       "      <th>mm</th>\n",
       "      <th>hPa</th>\n",
       "      <th>ｺC.1</th>\n",
       "    </tr>\n",
       "  </thead>\n",
       "  <tbody>\n",
       "    <tr>\n",
       "      <th>0</th>\n",
       "      <td>5</td>\n",
       "      <td>2019-12-26</td>\n",
       "      <td>05:10:00</td>\n",
       "      <td>33.2</td>\n",
       "      <td>12.4</td>\n",
       "      <td>2</td>\n",
       "      <td>1.3</td>\n",
       "      <td>140</td>\n",
       "      <td>1.9</td>\n",
       "      <td>SSE</td>\n",
       "      <td>1.9</td>\n",
       "      <td>105</td>\n",
       "      <td>05:09:44</td>\n",
       "      <td>0.002</td>\n",
       "      <td>30.3</td>\n",
       "      <td>55.65</td>\n",
       "      <td>0.0</td>\n",
       "      <td>994.4</td>\n",
       "      <td>0.2</td>\n",
       "    </tr>\n",
       "    <tr>\n",
       "      <th>1</th>\n",
       "      <td>6</td>\n",
       "      <td>2019-12-26</td>\n",
       "      <td>15:30:00</td>\n",
       "      <td>32.8</td>\n",
       "      <td>12.4</td>\n",
       "      <td>2</td>\n",
       "      <td>1.1</td>\n",
       "      <td>162</td>\n",
       "      <td>1.1</td>\n",
       "      <td>SSE</td>\n",
       "      <td>3.1</td>\n",
       "      <td>144</td>\n",
       "      <td>15:27:23</td>\n",
       "      <td>0.021</td>\n",
       "      <td>30.5</td>\n",
       "      <td>57.25</td>\n",
       "      <td>0.0</td>\n",
       "      <td>994.4</td>\n",
       "      <td>0.2</td>\n",
       "    </tr>\n",
       "  </tbody>\n",
       "</table>\n",
       "</div>"
      ],
      "text/plain": [
       "   Unnamed: 0 yyyy/mm/dd  hh:mm:ss    ﾟC     V  Unnamed: 5  m/s    ｺ  m/s.1  \\\n",
       "0           5 2019-12-26  05:10:00  33.2  12.4           2  1.3  140    1.9   \n",
       "1           6 2019-12-26  15:30:00  32.8  12.4           2  1.1  162    1.1   \n",
       "\n",
       "  Unnamed: 9  m/s.2  ｺ.1 Unnamed: 12     kW    ｺC      %   mm    hPa  ｺC.1  \n",
       "0        SSE    1.9  105    05:09:44  0.002  30.3  55.65  0.0  994.4   0.2  \n",
       "1        SSE    3.1  144    15:27:23  0.021  30.5  57.25  0.0  994.4   0.2  "
      ]
     },
     "execution_count": 327,
     "metadata": {},
     "output_type": "execute_result"
    }
   ],
   "source": [
    "df.head(2)"
   ]
  },
  {
   "cell_type": "code",
   "execution_count": null,
   "id": "cdfbb30b",
   "metadata": {},
   "outputs": [],
   "source": []
  },
  {
   "cell_type": "code",
   "execution_count": null,
   "id": "8ed328e6",
   "metadata": {},
   "outputs": [],
   "source": []
  },
  {
   "cell_type": "code",
   "execution_count": 328,
   "id": "78fff6b5",
   "metadata": {},
   "outputs": [],
   "source": [
    "nombres_variables = df.columns"
   ]
  },
  {
   "cell_type": "code",
   "execution_count": 329,
   "id": "2e521831",
   "metadata": {},
   "outputs": [
    {
     "data": {
      "text/plain": [
       "Index(['Unnamed: 0', 'yyyy/mm/dd', 'hh:mm:ss', 'ﾟC', 'V', 'Unnamed: 5', 'm/s',\n",
       "       'ｺ', 'm/s.1', 'Unnamed: 9', 'm/s.2', 'ｺ.1', 'Unnamed: 12', 'kW', 'ｺC',\n",
       "       '%', 'mm', 'hPa', 'ｺC.1'],\n",
       "      dtype='object')"
      ]
     },
     "execution_count": 329,
     "metadata": {},
     "output_type": "execute_result"
    }
   ],
   "source": [
    "nombres_variables"
   ]
  },
  {
   "cell_type": "code",
   "execution_count": null,
   "id": "73f80248",
   "metadata": {},
   "outputs": [],
   "source": []
  },
  {
   "cell_type": "code",
   "execution_count": 330,
   "id": "ce846ed0",
   "metadata": {},
   "outputs": [],
   "source": [
    "df = df.rename(columns={'Unnamed: 0':'N', \n",
    "                        'yyyy/mm/dd':'fecha', \n",
    "                        'hh:mm:ss':'hora', \n",
    "                        'ﾟC':'TempCelcius', \n",
    "                        'V':'PowerVolt', \n",
    "                        'Unnamed: 5':'PowerKind', \n",
    "                        'm/s':'WS(ave)_m/s',\n",
    "                        'ｺ':'WD(ave)', \n",
    "                        'm/s.1':'WS(max)_m/s', \n",
    "                        'Unnamed: 9':'WD(most)', \n",
    "                        'm/s.2':'WS(inst_m)_m/s', \n",
    "                        'ｺ.1':'WD(inst_m)', \n",
    "                        'Unnamed: 12':'Max_time', \n",
    "                        'kW':'Solar_rad_kW', \n",
    "                        'ｺC':'Temp_Celcius',\n",
    "                        '%':'HR', \n",
    "                        'mm':'Lluviamm', \n",
    "                        'hPa':'Bar_press._hPa', \n",
    "                        'ｺC.1':'Soil_temp'})"
   ]
  },
  {
   "cell_type": "code",
   "execution_count": 331,
   "id": "eb047e03",
   "metadata": {},
   "outputs": [
    {
     "data": {
      "text/html": [
       "<div>\n",
       "<style scoped>\n",
       "    .dataframe tbody tr th:only-of-type {\n",
       "        vertical-align: middle;\n",
       "    }\n",
       "\n",
       "    .dataframe tbody tr th {\n",
       "        vertical-align: top;\n",
       "    }\n",
       "\n",
       "    .dataframe thead th {\n",
       "        text-align: right;\n",
       "    }\n",
       "</style>\n",
       "<table border=\"1\" class=\"dataframe\">\n",
       "  <thead>\n",
       "    <tr style=\"text-align: right;\">\n",
       "      <th></th>\n",
       "      <th>N</th>\n",
       "      <th>fecha</th>\n",
       "      <th>hora</th>\n",
       "      <th>TempCelcius</th>\n",
       "      <th>PowerVolt</th>\n",
       "      <th>PowerKind</th>\n",
       "      <th>WS(ave)_m/s</th>\n",
       "      <th>WD(ave)</th>\n",
       "      <th>WS(max)_m/s</th>\n",
       "      <th>WD(most)</th>\n",
       "      <th>WS(inst_m)_m/s</th>\n",
       "      <th>WD(inst_m)</th>\n",
       "      <th>Max_time</th>\n",
       "      <th>Solar_rad_kW</th>\n",
       "      <th>Temp_Celcius</th>\n",
       "      <th>HR</th>\n",
       "      <th>Lluviamm</th>\n",
       "      <th>Bar_press._hPa</th>\n",
       "      <th>Soil_temp</th>\n",
       "    </tr>\n",
       "  </thead>\n",
       "  <tbody>\n",
       "    <tr>\n",
       "      <th>0</th>\n",
       "      <td>5</td>\n",
       "      <td>2019-12-26</td>\n",
       "      <td>05:10:00</td>\n",
       "      <td>33.2</td>\n",
       "      <td>12.4</td>\n",
       "      <td>2</td>\n",
       "      <td>1.3</td>\n",
       "      <td>140</td>\n",
       "      <td>1.9</td>\n",
       "      <td>SSE</td>\n",
       "      <td>1.9</td>\n",
       "      <td>105</td>\n",
       "      <td>05:09:44</td>\n",
       "      <td>0.002</td>\n",
       "      <td>30.3</td>\n",
       "      <td>55.65</td>\n",
       "      <td>0.0</td>\n",
       "      <td>994.4</td>\n",
       "      <td>0.2</td>\n",
       "    </tr>\n",
       "    <tr>\n",
       "      <th>1</th>\n",
       "      <td>6</td>\n",
       "      <td>2019-12-26</td>\n",
       "      <td>15:30:00</td>\n",
       "      <td>32.8</td>\n",
       "      <td>12.4</td>\n",
       "      <td>2</td>\n",
       "      <td>1.1</td>\n",
       "      <td>162</td>\n",
       "      <td>1.1</td>\n",
       "      <td>SSE</td>\n",
       "      <td>3.1</td>\n",
       "      <td>144</td>\n",
       "      <td>15:27:23</td>\n",
       "      <td>0.021</td>\n",
       "      <td>30.5</td>\n",
       "      <td>57.25</td>\n",
       "      <td>0.0</td>\n",
       "      <td>994.4</td>\n",
       "      <td>0.2</td>\n",
       "    </tr>\n",
       "    <tr>\n",
       "      <th>2</th>\n",
       "      <td>7</td>\n",
       "      <td>2019-12-26</td>\n",
       "      <td>15:40:00</td>\n",
       "      <td>32.3</td>\n",
       "      <td>12.4</td>\n",
       "      <td>2</td>\n",
       "      <td>1.3</td>\n",
       "      <td>150</td>\n",
       "      <td>1.5</td>\n",
       "      <td>SSE</td>\n",
       "      <td>4.9</td>\n",
       "      <td>88</td>\n",
       "      <td>15:39:56</td>\n",
       "      <td>0.063</td>\n",
       "      <td>30.3</td>\n",
       "      <td>57.85</td>\n",
       "      <td>0.0</td>\n",
       "      <td>994.3</td>\n",
       "      <td>0.2</td>\n",
       "    </tr>\n",
       "    <tr>\n",
       "      <th>3</th>\n",
       "      <td>8</td>\n",
       "      <td>2019-12-26</td>\n",
       "      <td>15:50:00</td>\n",
       "      <td>32.1</td>\n",
       "      <td>12.4</td>\n",
       "      <td>2</td>\n",
       "      <td>1.4</td>\n",
       "      <td>162</td>\n",
       "      <td>1.6</td>\n",
       "      <td>SSE</td>\n",
       "      <td>4.3</td>\n",
       "      <td>122</td>\n",
       "      <td>15:40:21</td>\n",
       "      <td>0.060</td>\n",
       "      <td>29.9</td>\n",
       "      <td>58.46</td>\n",
       "      <td>0.0</td>\n",
       "      <td>994.4</td>\n",
       "      <td>0.2</td>\n",
       "    </tr>\n",
       "    <tr>\n",
       "      <th>4</th>\n",
       "      <td>9</td>\n",
       "      <td>2019-12-26</td>\n",
       "      <td>16:00:00</td>\n",
       "      <td>32.0</td>\n",
       "      <td>12.4</td>\n",
       "      <td>2</td>\n",
       "      <td>1.0</td>\n",
       "      <td>176</td>\n",
       "      <td>1.4</td>\n",
       "      <td>SE</td>\n",
       "      <td>4.3</td>\n",
       "      <td>149</td>\n",
       "      <td>15:54:51</td>\n",
       "      <td>0.053</td>\n",
       "      <td>29.9</td>\n",
       "      <td>59.06</td>\n",
       "      <td>0.0</td>\n",
       "      <td>994.4</td>\n",
       "      <td>0.2</td>\n",
       "    </tr>\n",
       "  </tbody>\n",
       "</table>\n",
       "</div>"
      ],
      "text/plain": [
       "   N      fecha      hora  TempCelcius  PowerVolt  PowerKind  WS(ave)_m/s  \\\n",
       "0  5 2019-12-26  05:10:00         33.2       12.4          2          1.3   \n",
       "1  6 2019-12-26  15:30:00         32.8       12.4          2          1.1   \n",
       "2  7 2019-12-26  15:40:00         32.3       12.4          2          1.3   \n",
       "3  8 2019-12-26  15:50:00         32.1       12.4          2          1.4   \n",
       "4  9 2019-12-26  16:00:00         32.0       12.4          2          1.0   \n",
       "\n",
       "   WD(ave)  WS(max)_m/s WD(most)  WS(inst_m)_m/s  WD(inst_m)  Max_time  \\\n",
       "0      140          1.9      SSE             1.9         105  05:09:44   \n",
       "1      162          1.1      SSE             3.1         144  15:27:23   \n",
       "2      150          1.5      SSE             4.9          88  15:39:56   \n",
       "3      162          1.6      SSE             4.3         122  15:40:21   \n",
       "4      176          1.4       SE             4.3         149  15:54:51   \n",
       "\n",
       "   Solar_rad_kW  Temp_Celcius     HR  Lluviamm  Bar_press._hPa  Soil_temp  \n",
       "0         0.002          30.3  55.65       0.0           994.4        0.2  \n",
       "1         0.021          30.5  57.25       0.0           994.4        0.2  \n",
       "2         0.063          30.3  57.85       0.0           994.3        0.2  \n",
       "3         0.060          29.9  58.46       0.0           994.4        0.2  \n",
       "4         0.053          29.9  59.06       0.0           994.4        0.2  "
      ]
     },
     "execution_count": 331,
     "metadata": {},
     "output_type": "execute_result"
    }
   ],
   "source": [
    "df.head()"
   ]
  },
  {
   "cell_type": "code",
   "execution_count": null,
   "id": "85cf6502",
   "metadata": {},
   "outputs": [],
   "source": []
  },
  {
   "cell_type": "code",
   "execution_count": null,
   "id": "3d8a70bb",
   "metadata": {},
   "outputs": [],
   "source": []
  },
  {
   "cell_type": "code",
   "execution_count": 332,
   "id": "8a897f94",
   "metadata": {},
   "outputs": [],
   "source": [
    "df.to_csv(bucket+\"data_met_espol.csv\",index=False)"
   ]
  },
  {
   "cell_type": "code",
   "execution_count": 333,
   "id": "618f65f0",
   "metadata": {},
   "outputs": [
    {
     "data": {
      "text/plain": [
       "0"
      ]
     },
     "execution_count": 333,
     "metadata": {},
     "output_type": "execute_result"
    }
   ],
   "source": [
    "df.isna().any(axis=1).sum()"
   ]
  },
  {
   "cell_type": "code",
   "execution_count": 334,
   "id": "4617506b",
   "metadata": {},
   "outputs": [
    {
     "data": {
      "text/plain": [
       "N                 False\n",
       "fecha             False\n",
       "hora              False\n",
       "TempCelcius       False\n",
       "PowerVolt         False\n",
       "PowerKind         False\n",
       "WS(ave)_m/s       False\n",
       "WD(ave)           False\n",
       "WS(max)_m/s       False\n",
       "WD(most)          False\n",
       "WS(inst_m)_m/s    False\n",
       "WD(inst_m)        False\n",
       "Max_time          False\n",
       "Solar_rad_kW      False\n",
       "Temp_Celcius      False\n",
       "HR                False\n",
       "Lluviamm          False\n",
       "Bar_press._hPa    False\n",
       "Soil_temp         False\n",
       "dtype: bool"
      ]
     },
     "execution_count": 334,
     "metadata": {},
     "output_type": "execute_result"
    }
   ],
   "source": [
    "df.isna().any(axis=0)"
   ]
  },
  {
   "cell_type": "code",
   "execution_count": 335,
   "id": "62082baa",
   "metadata": {},
   "outputs": [
    {
     "data": {
      "text/plain": [
       "(56610, 19)"
      ]
     },
     "execution_count": 335,
     "metadata": {},
     "output_type": "execute_result"
    }
   ],
   "source": [
    "df.shape"
   ]
  },
  {
   "cell_type": "code",
   "execution_count": null,
   "id": "c1a155e9",
   "metadata": {},
   "outputs": [],
   "source": []
  },
  {
   "cell_type": "code",
   "execution_count": 336,
   "id": "4d14d7ea",
   "metadata": {},
   "outputs": [],
   "source": [
    "observ = df.shape"
   ]
  },
  {
   "cell_type": "code",
   "execution_count": 337,
   "id": "63a1666c",
   "metadata": {},
   "outputs": [],
   "source": [
    "observ_rest=df.drop_duplicates(keep='last').shape"
   ]
  },
  {
   "cell_type": "code",
   "execution_count": 338,
   "id": "ae13c408",
   "metadata": {},
   "outputs": [],
   "source": [
    "x = ((observ[0] - observ_rest[0])/observ[0])*100"
   ]
  },
  {
   "cell_type": "code",
   "execution_count": 339,
   "id": "f8f56fc5",
   "metadata": {},
   "outputs": [
    {
     "name": "stdout",
     "output_type": "stream",
     "text": [
      "El procentaje de registros duplicados a eliminar es 0.00%\n"
     ]
    }
   ],
   "source": [
    "print(\"El procentaje de registros duplicados a eliminar es\",'{:.2f}%'.format(x))"
   ]
  },
  {
   "cell_type": "code",
   "execution_count": 340,
   "id": "cf5bce55",
   "metadata": {},
   "outputs": [],
   "source": [
    "df.drop_duplicates(inplace=True)"
   ]
  },
  {
   "cell_type": "code",
   "execution_count": 341,
   "id": "a2cd52e3",
   "metadata": {},
   "outputs": [
    {
     "data": {
      "text/html": [
       "<div>\n",
       "<style scoped>\n",
       "    .dataframe tbody tr th:only-of-type {\n",
       "        vertical-align: middle;\n",
       "    }\n",
       "\n",
       "    .dataframe tbody tr th {\n",
       "        vertical-align: top;\n",
       "    }\n",
       "\n",
       "    .dataframe thead th {\n",
       "        text-align: right;\n",
       "    }\n",
       "</style>\n",
       "<table border=\"1\" class=\"dataframe\">\n",
       "  <thead>\n",
       "    <tr style=\"text-align: right;\">\n",
       "      <th></th>\n",
       "      <th>N</th>\n",
       "      <th>fecha</th>\n",
       "      <th>hora</th>\n",
       "      <th>TempCelcius</th>\n",
       "      <th>PowerVolt</th>\n",
       "      <th>PowerKind</th>\n",
       "      <th>WS(ave)_m/s</th>\n",
       "      <th>WD(ave)</th>\n",
       "      <th>WS(max)_m/s</th>\n",
       "      <th>WD(most)</th>\n",
       "      <th>WS(inst_m)_m/s</th>\n",
       "      <th>WD(inst_m)</th>\n",
       "      <th>Max_time</th>\n",
       "      <th>Solar_rad_kW</th>\n",
       "      <th>Temp_Celcius</th>\n",
       "      <th>HR</th>\n",
       "      <th>Lluviamm</th>\n",
       "      <th>Bar_press._hPa</th>\n",
       "      <th>Soil_temp</th>\n",
       "    </tr>\n",
       "  </thead>\n",
       "  <tbody>\n",
       "    <tr>\n",
       "      <th>0</th>\n",
       "      <td>5</td>\n",
       "      <td>2019-12-26</td>\n",
       "      <td>05:10:00</td>\n",
       "      <td>33.2</td>\n",
       "      <td>12.4</td>\n",
       "      <td>2</td>\n",
       "      <td>1.3</td>\n",
       "      <td>140</td>\n",
       "      <td>1.9</td>\n",
       "      <td>SSE</td>\n",
       "      <td>1.9</td>\n",
       "      <td>105</td>\n",
       "      <td>05:09:44</td>\n",
       "      <td>0.002</td>\n",
       "      <td>30.3</td>\n",
       "      <td>55.65</td>\n",
       "      <td>0.0</td>\n",
       "      <td>994.4</td>\n",
       "      <td>0.2</td>\n",
       "    </tr>\n",
       "    <tr>\n",
       "      <th>1</th>\n",
       "      <td>6</td>\n",
       "      <td>2019-12-26</td>\n",
       "      <td>15:30:00</td>\n",
       "      <td>32.8</td>\n",
       "      <td>12.4</td>\n",
       "      <td>2</td>\n",
       "      <td>1.1</td>\n",
       "      <td>162</td>\n",
       "      <td>1.1</td>\n",
       "      <td>SSE</td>\n",
       "      <td>3.1</td>\n",
       "      <td>144</td>\n",
       "      <td>15:27:23</td>\n",
       "      <td>0.021</td>\n",
       "      <td>30.5</td>\n",
       "      <td>57.25</td>\n",
       "      <td>0.0</td>\n",
       "      <td>994.4</td>\n",
       "      <td>0.2</td>\n",
       "    </tr>\n",
       "    <tr>\n",
       "      <th>2</th>\n",
       "      <td>7</td>\n",
       "      <td>2019-12-26</td>\n",
       "      <td>15:40:00</td>\n",
       "      <td>32.3</td>\n",
       "      <td>12.4</td>\n",
       "      <td>2</td>\n",
       "      <td>1.3</td>\n",
       "      <td>150</td>\n",
       "      <td>1.5</td>\n",
       "      <td>SSE</td>\n",
       "      <td>4.9</td>\n",
       "      <td>88</td>\n",
       "      <td>15:39:56</td>\n",
       "      <td>0.063</td>\n",
       "      <td>30.3</td>\n",
       "      <td>57.85</td>\n",
       "      <td>0.0</td>\n",
       "      <td>994.3</td>\n",
       "      <td>0.2</td>\n",
       "    </tr>\n",
       "    <tr>\n",
       "      <th>3</th>\n",
       "      <td>8</td>\n",
       "      <td>2019-12-26</td>\n",
       "      <td>15:50:00</td>\n",
       "      <td>32.1</td>\n",
       "      <td>12.4</td>\n",
       "      <td>2</td>\n",
       "      <td>1.4</td>\n",
       "      <td>162</td>\n",
       "      <td>1.6</td>\n",
       "      <td>SSE</td>\n",
       "      <td>4.3</td>\n",
       "      <td>122</td>\n",
       "      <td>15:40:21</td>\n",
       "      <td>0.060</td>\n",
       "      <td>29.9</td>\n",
       "      <td>58.46</td>\n",
       "      <td>0.0</td>\n",
       "      <td>994.4</td>\n",
       "      <td>0.2</td>\n",
       "    </tr>\n",
       "    <tr>\n",
       "      <th>4</th>\n",
       "      <td>9</td>\n",
       "      <td>2019-12-26</td>\n",
       "      <td>16:00:00</td>\n",
       "      <td>32.0</td>\n",
       "      <td>12.4</td>\n",
       "      <td>2</td>\n",
       "      <td>1.0</td>\n",
       "      <td>176</td>\n",
       "      <td>1.4</td>\n",
       "      <td>SE</td>\n",
       "      <td>4.3</td>\n",
       "      <td>149</td>\n",
       "      <td>15:54:51</td>\n",
       "      <td>0.053</td>\n",
       "      <td>29.9</td>\n",
       "      <td>59.06</td>\n",
       "      <td>0.0</td>\n",
       "      <td>994.4</td>\n",
       "      <td>0.2</td>\n",
       "    </tr>\n",
       "    <tr>\n",
       "      <th>...</th>\n",
       "      <td>...</td>\n",
       "      <td>...</td>\n",
       "      <td>...</td>\n",
       "      <td>...</td>\n",
       "      <td>...</td>\n",
       "      <td>...</td>\n",
       "      <td>...</td>\n",
       "      <td>...</td>\n",
       "      <td>...</td>\n",
       "      <td>...</td>\n",
       "      <td>...</td>\n",
       "      <td>...</td>\n",
       "      <td>...</td>\n",
       "      <td>...</td>\n",
       "      <td>...</td>\n",
       "      <td>...</td>\n",
       "      <td>...</td>\n",
       "      <td>...</td>\n",
       "      <td>...</td>\n",
       "    </tr>\n",
       "    <tr>\n",
       "      <th>3129</th>\n",
       "      <td>61074</td>\n",
       "      <td>2021-02-22</td>\n",
       "      <td>17:30:00</td>\n",
       "      <td>31.7</td>\n",
       "      <td>13.6</td>\n",
       "      <td>2</td>\n",
       "      <td>0.3</td>\n",
       "      <td>275</td>\n",
       "      <td>0.3</td>\n",
       "      <td>W</td>\n",
       "      <td>1.9</td>\n",
       "      <td>271</td>\n",
       "      <td>17:21:56</td>\n",
       "      <td>0.060</td>\n",
       "      <td>27.1</td>\n",
       "      <td>80.09</td>\n",
       "      <td>0.0</td>\n",
       "      <td>997.0</td>\n",
       "      <td>0.1</td>\n",
       "    </tr>\n",
       "    <tr>\n",
       "      <th>3130</th>\n",
       "      <td>61075</td>\n",
       "      <td>2021-02-22</td>\n",
       "      <td>17:40:00</td>\n",
       "      <td>31.1</td>\n",
       "      <td>13.7</td>\n",
       "      <td>2</td>\n",
       "      <td>0.2</td>\n",
       "      <td>272</td>\n",
       "      <td>0.3</td>\n",
       "      <td>W</td>\n",
       "      <td>1.9</td>\n",
       "      <td>273</td>\n",
       "      <td>17:31:37</td>\n",
       "      <td>0.042</td>\n",
       "      <td>27.0</td>\n",
       "      <td>80.69</td>\n",
       "      <td>0.0</td>\n",
       "      <td>997.3</td>\n",
       "      <td>0.1</td>\n",
       "    </tr>\n",
       "    <tr>\n",
       "      <th>3131</th>\n",
       "      <td>61076</td>\n",
       "      <td>2021-02-22</td>\n",
       "      <td>17:50:00</td>\n",
       "      <td>30.5</td>\n",
       "      <td>13.7</td>\n",
       "      <td>2</td>\n",
       "      <td>0.1</td>\n",
       "      <td>269</td>\n",
       "      <td>0.2</td>\n",
       "      <td>W</td>\n",
       "      <td>1.3</td>\n",
       "      <td>265</td>\n",
       "      <td>17:46:47</td>\n",
       "      <td>0.036</td>\n",
       "      <td>26.7</td>\n",
       "      <td>82.49</td>\n",
       "      <td>0.0</td>\n",
       "      <td>997.3</td>\n",
       "      <td>0.1</td>\n",
       "    </tr>\n",
       "    <tr>\n",
       "      <th>3132</th>\n",
       "      <td>61077</td>\n",
       "      <td>2021-02-22</td>\n",
       "      <td>18:00:00</td>\n",
       "      <td>30.0</td>\n",
       "      <td>13.7</td>\n",
       "      <td>2</td>\n",
       "      <td>0.1</td>\n",
       "      <td>281</td>\n",
       "      <td>0.2</td>\n",
       "      <td>W</td>\n",
       "      <td>1.3</td>\n",
       "      <td>276</td>\n",
       "      <td>17:51:48</td>\n",
       "      <td>0.032</td>\n",
       "      <td>26.7</td>\n",
       "      <td>82.39</td>\n",
       "      <td>0.0</td>\n",
       "      <td>997.3</td>\n",
       "      <td>0.1</td>\n",
       "    </tr>\n",
       "    <tr>\n",
       "      <th>3133</th>\n",
       "      <td>61078</td>\n",
       "      <td>2021-02-22</td>\n",
       "      <td>18:10:00</td>\n",
       "      <td>29.5</td>\n",
       "      <td>13.7</td>\n",
       "      <td>2</td>\n",
       "      <td>0.1</td>\n",
       "      <td>284</td>\n",
       "      <td>0.1</td>\n",
       "      <td>W</td>\n",
       "      <td>1.3</td>\n",
       "      <td>310</td>\n",
       "      <td>18:01:22</td>\n",
       "      <td>0.023</td>\n",
       "      <td>26.5</td>\n",
       "      <td>83.29</td>\n",
       "      <td>0.0</td>\n",
       "      <td>997.5</td>\n",
       "      <td>0.1</td>\n",
       "    </tr>\n",
       "  </tbody>\n",
       "</table>\n",
       "<p>56610 rows × 19 columns</p>\n",
       "</div>"
      ],
      "text/plain": [
       "          N      fecha      hora  TempCelcius  PowerVolt  PowerKind  \\\n",
       "0         5 2019-12-26  05:10:00         33.2       12.4          2   \n",
       "1         6 2019-12-26  15:30:00         32.8       12.4          2   \n",
       "2         7 2019-12-26  15:40:00         32.3       12.4          2   \n",
       "3         8 2019-12-26  15:50:00         32.1       12.4          2   \n",
       "4         9 2019-12-26  16:00:00         32.0       12.4          2   \n",
       "...     ...        ...       ...          ...        ...        ...   \n",
       "3129  61074 2021-02-22  17:30:00         31.7       13.6          2   \n",
       "3130  61075 2021-02-22  17:40:00         31.1       13.7          2   \n",
       "3131  61076 2021-02-22  17:50:00         30.5       13.7          2   \n",
       "3132  61077 2021-02-22  18:00:00         30.0       13.7          2   \n",
       "3133  61078 2021-02-22  18:10:00         29.5       13.7          2   \n",
       "\n",
       "      WS(ave)_m/s  WD(ave)  WS(max)_m/s WD(most)  WS(inst_m)_m/s  WD(inst_m)  \\\n",
       "0             1.3      140          1.9      SSE             1.9         105   \n",
       "1             1.1      162          1.1      SSE             3.1         144   \n",
       "2             1.3      150          1.5      SSE             4.9          88   \n",
       "3             1.4      162          1.6      SSE             4.3         122   \n",
       "4             1.0      176          1.4       SE             4.3         149   \n",
       "...           ...      ...          ...      ...             ...         ...   \n",
       "3129          0.3      275          0.3        W             1.9         271   \n",
       "3130          0.2      272          0.3        W             1.9         273   \n",
       "3131          0.1      269          0.2        W             1.3         265   \n",
       "3132          0.1      281          0.2        W             1.3         276   \n",
       "3133          0.1      284          0.1        W             1.3         310   \n",
       "\n",
       "      Max_time  Solar_rad_kW  Temp_Celcius     HR  Lluviamm  Bar_press._hPa  \\\n",
       "0     05:09:44         0.002          30.3  55.65       0.0           994.4   \n",
       "1     15:27:23         0.021          30.5  57.25       0.0           994.4   \n",
       "2     15:39:56         0.063          30.3  57.85       0.0           994.3   \n",
       "3     15:40:21         0.060          29.9  58.46       0.0           994.4   \n",
       "4     15:54:51         0.053          29.9  59.06       0.0           994.4   \n",
       "...        ...           ...           ...    ...       ...             ...   \n",
       "3129  17:21:56         0.060          27.1  80.09       0.0           997.0   \n",
       "3130  17:31:37         0.042          27.0  80.69       0.0           997.3   \n",
       "3131  17:46:47         0.036          26.7  82.49       0.0           997.3   \n",
       "3132  17:51:48         0.032          26.7  82.39       0.0           997.3   \n",
       "3133  18:01:22         0.023          26.5  83.29       0.0           997.5   \n",
       "\n",
       "      Soil_temp  \n",
       "0           0.2  \n",
       "1           0.2  \n",
       "2           0.2  \n",
       "3           0.2  \n",
       "4           0.2  \n",
       "...         ...  \n",
       "3129        0.1  \n",
       "3130        0.1  \n",
       "3131        0.1  \n",
       "3132        0.1  \n",
       "3133        0.1  \n",
       "\n",
       "[56610 rows x 19 columns]"
      ]
     },
     "execution_count": 341,
     "metadata": {},
     "output_type": "execute_result"
    }
   ],
   "source": [
    "df"
   ]
  },
  {
   "cell_type": "code",
   "execution_count": 342,
   "id": "f8868b13",
   "metadata": {},
   "outputs": [],
   "source": [
    "df.drop(['N'], axis=1, inplace=True)"
   ]
  },
  {
   "cell_type": "code",
   "execution_count": 343,
   "id": "80601d28",
   "metadata": {},
   "outputs": [],
   "source": [
    "df.to_csv(bucket+\"data_met_espol_clean.csv\",index=False)"
   ]
  },
  {
   "cell_type": "code",
   "execution_count": null,
   "id": "538fd9a6",
   "metadata": {},
   "outputs": [],
   "source": []
  },
  {
   "cell_type": "code",
   "execution_count": null,
   "id": "bc38a095",
   "metadata": {},
   "outputs": [],
   "source": []
  },
  {
   "cell_type": "code",
   "execution_count": null,
   "id": "cb2eed1b",
   "metadata": {},
   "outputs": [],
   "source": []
  }
 ],
 "metadata": {
  "kernelspec": {
   "display_name": "Python 3 (ipykernel)",
   "language": "python",
   "name": "python3"
  },
  "language_info": {
   "codemirror_mode": {
    "name": "ipython",
    "version": 3
   },
   "file_extension": ".py",
   "mimetype": "text/x-python",
   "name": "python",
   "nbconvert_exporter": "python",
   "pygments_lexer": "ipython3",
   "version": "3.8.11"
  }
 },
 "nbformat": 4,
 "nbformat_minor": 5
}
